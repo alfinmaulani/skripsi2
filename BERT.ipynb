{
  "nbformat": 4,
  "nbformat_minor": 0,
  "metadata": {
    "colab": {
      "provenance": [],
      "gpuType": "T4",
      "mount_file_id": "https://github.com/alfinmaulani/skripsi2/blob/main/BERT.ipynb",
      "authorship_tag": "ABX9TyPnTscIk/RBh3pkNA/qSc1r",
      "include_colab_link": true
    },
    "kernelspec": {
      "name": "python3",
      "display_name": "Python 3"
    },
    "language_info": {
      "name": "python"
    },
    "gpuClass": "standard"
  },
  "cells": [
    {
      "cell_type": "markdown",
      "metadata": {
        "id": "view-in-github",
        "colab_type": "text"
      },
      "source": [
        "<a href=\"https://colab.research.google.com/github/alfinmaulani/skripsi2/blob/main/BERT.ipynb\" target=\"_parent\"><img src=\"https://colab.research.google.com/assets/colab-badge.svg\" alt=\"Open In Colab\"/></a>"
      ]
    },
    {
      "cell_type": "code",
      "execution_count": 1,
      "metadata": {
        "id": "azsaS9qX8ZUI"
      },
      "outputs": [],
      "source": [
        "import pandas as pd\n",
        "import numpy as np"
      ]
    },
    {
      "cell_type": "code",
      "source": [
        "from google.colab import drive\n",
        "drive.mount('/content/drive')"
      ],
      "metadata": {
        "id": "WO7jTTXu8b9s"
      },
      "execution_count": null,
      "outputs": []
    },
    {
      "cell_type": "code",
      "source": [
        "!pip install transformers"
      ],
      "metadata": {
        "id": "pKmN3MSCr53g",
        "colab": {
          "base_uri": "https://localhost:8080/"
        },
        "outputId": "606f7577-1d6b-4843-b3e5-db6537b8b40b"
      },
      "execution_count": 2,
      "outputs": [
        {
          "output_type": "stream",
          "name": "stdout",
          "text": [
            "Looking in indexes: https://pypi.org/simple, https://us-python.pkg.dev/colab-wheels/public/simple/\n",
            "Requirement already satisfied: transformers in /usr/local/lib/python3.10/dist-packages (4.29.2)\n",
            "Requirement already satisfied: filelock in /usr/local/lib/python3.10/dist-packages (from transformers) (3.12.0)\n",
            "Requirement already satisfied: huggingface-hub<1.0,>=0.14.1 in /usr/local/lib/python3.10/dist-packages (from transformers) (0.15.1)\n",
            "Requirement already satisfied: numpy>=1.17 in /usr/local/lib/python3.10/dist-packages (from transformers) (1.22.4)\n",
            "Requirement already satisfied: packaging>=20.0 in /usr/local/lib/python3.10/dist-packages (from transformers) (23.1)\n",
            "Requirement already satisfied: pyyaml>=5.1 in /usr/local/lib/python3.10/dist-packages (from transformers) (6.0)\n",
            "Requirement already satisfied: regex!=2019.12.17 in /usr/local/lib/python3.10/dist-packages (from transformers) (2022.10.31)\n",
            "Requirement already satisfied: requests in /usr/local/lib/python3.10/dist-packages (from transformers) (2.27.1)\n",
            "Requirement already satisfied: tokenizers!=0.11.3,<0.14,>=0.11.1 in /usr/local/lib/python3.10/dist-packages (from transformers) (0.13.3)\n",
            "Requirement already satisfied: tqdm>=4.27 in /usr/local/lib/python3.10/dist-packages (from transformers) (4.65.0)\n",
            "Requirement already satisfied: fsspec in /usr/local/lib/python3.10/dist-packages (from huggingface-hub<1.0,>=0.14.1->transformers) (2023.4.0)\n",
            "Requirement already satisfied: typing-extensions>=3.7.4.3 in /usr/local/lib/python3.10/dist-packages (from huggingface-hub<1.0,>=0.14.1->transformers) (4.5.0)\n",
            "Requirement already satisfied: urllib3<1.27,>=1.21.1 in /usr/local/lib/python3.10/dist-packages (from requests->transformers) (1.26.15)\n",
            "Requirement already satisfied: certifi>=2017.4.17 in /usr/local/lib/python3.10/dist-packages (from requests->transformers) (2022.12.7)\n",
            "Requirement already satisfied: charset-normalizer~=2.0.0 in /usr/local/lib/python3.10/dist-packages (from requests->transformers) (2.0.12)\n",
            "Requirement already satisfied: idna<4,>=2.5 in /usr/local/lib/python3.10/dist-packages (from requests->transformers) (3.4)\n"
          ]
        }
      ]
    },
    {
      "cell_type": "code",
      "source": [
        "import torch\n",
        "\n",
        "if torch.cuda.is_available():\n",
        "  # device = torch.device('cuda')\n",
        "\n",
        "  print('there are %d GPU(s) available.' % torch.cuda.device_count())\n",
        "\n",
        "  print('we will use the GPU: ', torch.cuda.get_device_name(0))\n",
        "\n",
        "else:\n",
        "  print(\"No GPU available, using the CPU instead\")\n",
        "  device = torch.device(\"cpu\")"
      ],
      "metadata": {
        "colab": {
          "base_uri": "https://localhost:8080/"
        },
        "id": "Yqpz4joDEjX5",
        "outputId": "ca0372f1-6c89-4d9e-d0ba-6d96956303fb"
      },
      "execution_count": 3,
      "outputs": [
        {
          "output_type": "stream",
          "name": "stdout",
          "text": [
            "No GPU available, using the CPU instead\n"
          ]
        }
      ]
    },
    {
      "cell_type": "code",
      "source": [
        "korpusgabung='/content/drive/MyDrive/fake news/beritapalsugabung.csv'\n",
        "df=pd.read_csv(korpusgabung)\n",
        "# df.columns=['teks']"
      ],
      "metadata": {
        "id": "ES4hdmSz8j1w"
      },
      "execution_count": 65,
      "outputs": []
    },
    {
      "cell_type": "code",
      "source": [
        "df"
      ],
      "metadata": {
        "colab": {
          "base_uri": "https://localhost:8080/",
          "height": 424
        },
        "id": "-f2zgTV8854y",
        "outputId": "ed6e6d46-654c-4d6c-c269-986b10aac880"
      },
      "execution_count": 70,
      "outputs": [
        {
          "output_type": "execute_result",
          "data": {
            "text/plain": [
              "                                                    text  label\n",
              "12     Republicans have had seven years to come up wi...      0\n",
              "15     Donald Trump just signed the GOP tax scam into...      0\n",
              "16     A new animatronic figure in the Hall of Presid...      0\n",
              "17     Trump supporters and the so-called president s...      0\n",
              "28     Donald Trump held a rally for Alabama Senate c...      0\n",
              "...                                                  ...    ...\n",
              "44883  ON BOARD A U.S. MILITARY AIRCRAFT (Reuters) - ...      1\n",
              "44889  GENEVA (Reuters) - North Korea and the United ...      1\n",
              "44890  GENEVA (Reuters) - North Korea and the United ...      1\n",
              "44895  MINSK (Reuters) - In the shadow of disused Sov...      1\n",
              "44896  MOSCOW (Reuters) - Vatican Secretary of State ...      1\n",
              "\n",
              "[11224 rows x 2 columns]"
            ],
            "text/html": [
              "\n",
              "  <div id=\"df-6d6c7f1a-b141-46c2-b819-5d5bc06129de\">\n",
              "    <div class=\"colab-df-container\">\n",
              "      <div>\n",
              "<style scoped>\n",
              "    .dataframe tbody tr th:only-of-type {\n",
              "        vertical-align: middle;\n",
              "    }\n",
              "\n",
              "    .dataframe tbody tr th {\n",
              "        vertical-align: top;\n",
              "    }\n",
              "\n",
              "    .dataframe thead th {\n",
              "        text-align: right;\n",
              "    }\n",
              "</style>\n",
              "<table border=\"1\" class=\"dataframe\">\n",
              "  <thead>\n",
              "    <tr style=\"text-align: right;\">\n",
              "      <th></th>\n",
              "      <th>text</th>\n",
              "      <th>label</th>\n",
              "    </tr>\n",
              "  </thead>\n",
              "  <tbody>\n",
              "    <tr>\n",
              "      <th>12</th>\n",
              "      <td>Republicans have had seven years to come up wi...</td>\n",
              "      <td>0</td>\n",
              "    </tr>\n",
              "    <tr>\n",
              "      <th>15</th>\n",
              "      <td>Donald Trump just signed the GOP tax scam into...</td>\n",
              "      <td>0</td>\n",
              "    </tr>\n",
              "    <tr>\n",
              "      <th>16</th>\n",
              "      <td>A new animatronic figure in the Hall of Presid...</td>\n",
              "      <td>0</td>\n",
              "    </tr>\n",
              "    <tr>\n",
              "      <th>17</th>\n",
              "      <td>Trump supporters and the so-called president s...</td>\n",
              "      <td>0</td>\n",
              "    </tr>\n",
              "    <tr>\n",
              "      <th>28</th>\n",
              "      <td>Donald Trump held a rally for Alabama Senate c...</td>\n",
              "      <td>0</td>\n",
              "    </tr>\n",
              "    <tr>\n",
              "      <th>...</th>\n",
              "      <td>...</td>\n",
              "      <td>...</td>\n",
              "    </tr>\n",
              "    <tr>\n",
              "      <th>44883</th>\n",
              "      <td>ON BOARD A U.S. MILITARY AIRCRAFT (Reuters) - ...</td>\n",
              "      <td>1</td>\n",
              "    </tr>\n",
              "    <tr>\n",
              "      <th>44889</th>\n",
              "      <td>GENEVA (Reuters) - North Korea and the United ...</td>\n",
              "      <td>1</td>\n",
              "    </tr>\n",
              "    <tr>\n",
              "      <th>44890</th>\n",
              "      <td>GENEVA (Reuters) - North Korea and the United ...</td>\n",
              "      <td>1</td>\n",
              "    </tr>\n",
              "    <tr>\n",
              "      <th>44895</th>\n",
              "      <td>MINSK (Reuters) - In the shadow of disused Sov...</td>\n",
              "      <td>1</td>\n",
              "    </tr>\n",
              "    <tr>\n",
              "      <th>44896</th>\n",
              "      <td>MOSCOW (Reuters) - Vatican Secretary of State ...</td>\n",
              "      <td>1</td>\n",
              "    </tr>\n",
              "  </tbody>\n",
              "</table>\n",
              "<p>11224 rows × 2 columns</p>\n",
              "</div>\n",
              "      <button class=\"colab-df-convert\" onclick=\"convertToInteractive('df-6d6c7f1a-b141-46c2-b819-5d5bc06129de')\"\n",
              "              title=\"Convert this dataframe to an interactive table.\"\n",
              "              style=\"display:none;\">\n",
              "        \n",
              "  <svg xmlns=\"http://www.w3.org/2000/svg\" height=\"24px\"viewBox=\"0 0 24 24\"\n",
              "       width=\"24px\">\n",
              "    <path d=\"M0 0h24v24H0V0z\" fill=\"none\"/>\n",
              "    <path d=\"M18.56 5.44l.94 2.06.94-2.06 2.06-.94-2.06-.94-.94-2.06-.94 2.06-2.06.94zm-11 1L8.5 8.5l.94-2.06 2.06-.94-2.06-.94L8.5 2.5l-.94 2.06-2.06.94zm10 10l.94 2.06.94-2.06 2.06-.94-2.06-.94-.94-2.06-.94 2.06-2.06.94z\"/><path d=\"M17.41 7.96l-1.37-1.37c-.4-.4-.92-.59-1.43-.59-.52 0-1.04.2-1.43.59L10.3 9.45l-7.72 7.72c-.78.78-.78 2.05 0 2.83L4 21.41c.39.39.9.59 1.41.59.51 0 1.02-.2 1.41-.59l7.78-7.78 2.81-2.81c.8-.78.8-2.07 0-2.86zM5.41 20L4 18.59l7.72-7.72 1.47 1.35L5.41 20z\"/>\n",
              "  </svg>\n",
              "      </button>\n",
              "      \n",
              "  <style>\n",
              "    .colab-df-container {\n",
              "      display:flex;\n",
              "      flex-wrap:wrap;\n",
              "      gap: 12px;\n",
              "    }\n",
              "\n",
              "    .colab-df-convert {\n",
              "      background-color: #E8F0FE;\n",
              "      border: none;\n",
              "      border-radius: 50%;\n",
              "      cursor: pointer;\n",
              "      display: none;\n",
              "      fill: #1967D2;\n",
              "      height: 32px;\n",
              "      padding: 0 0 0 0;\n",
              "      width: 32px;\n",
              "    }\n",
              "\n",
              "    .colab-df-convert:hover {\n",
              "      background-color: #E2EBFA;\n",
              "      box-shadow: 0px 1px 2px rgba(60, 64, 67, 0.3), 0px 1px 3px 1px rgba(60, 64, 67, 0.15);\n",
              "      fill: #174EA6;\n",
              "    }\n",
              "\n",
              "    [theme=dark] .colab-df-convert {\n",
              "      background-color: #3B4455;\n",
              "      fill: #D2E3FC;\n",
              "    }\n",
              "\n",
              "    [theme=dark] .colab-df-convert:hover {\n",
              "      background-color: #434B5C;\n",
              "      box-shadow: 0px 1px 3px 1px rgba(0, 0, 0, 0.15);\n",
              "      filter: drop-shadow(0px 1px 2px rgba(0, 0, 0, 0.3));\n",
              "      fill: #FFFFFF;\n",
              "    }\n",
              "  </style>\n",
              "\n",
              "      <script>\n",
              "        const buttonEl =\n",
              "          document.querySelector('#df-6d6c7f1a-b141-46c2-b819-5d5bc06129de button.colab-df-convert');\n",
              "        buttonEl.style.display =\n",
              "          google.colab.kernel.accessAllowed ? 'block' : 'none';\n",
              "\n",
              "        async function convertToInteractive(key) {\n",
              "          const element = document.querySelector('#df-6d6c7f1a-b141-46c2-b819-5d5bc06129de');\n",
              "          const dataTable =\n",
              "            await google.colab.kernel.invokeFunction('convertToInteractive',\n",
              "                                                     [key], {});\n",
              "          if (!dataTable) return;\n",
              "\n",
              "          const docLinkHtml = 'Like what you see? Visit the ' +\n",
              "            '<a target=\"_blank\" href=https://colab.research.google.com/notebooks/data_table.ipynb>data table notebook</a>'\n",
              "            + ' to learn more about interactive tables.';\n",
              "          element.innerHTML = '';\n",
              "          dataTable['output_type'] = 'display_data';\n",
              "          await google.colab.output.renderOutput(dataTable, element);\n",
              "          const docLink = document.createElement('div');\n",
              "          docLink.innerHTML = docLinkHtml;\n",
              "          element.appendChild(docLink);\n",
              "        }\n",
              "      </script>\n",
              "    </div>\n",
              "  </div>\n",
              "  "
            ]
          },
          "metadata": {},
          "execution_count": 70
        }
      ]
    },
    {
      "cell_type": "code",
      "source": [
        "df.shape"
      ],
      "metadata": {
        "colab": {
          "base_uri": "https://localhost:8080/"
        },
        "id": "E7vJYVxfFJeK",
        "outputId": "12d39940-bc35-4fbb-ceb7-abf95f07dd74"
      },
      "execution_count": 73,
      "outputs": [
        {
          "output_type": "execute_result",
          "data": {
            "text/plain": [
              "(11224, 2)"
            ]
          },
          "metadata": {},
          "execution_count": 73
        }
      ]
    },
    {
      "cell_type": "code",
      "source": [
        "df = df.drop(df[df.label == 1].sample(frac=0.75).index)\n",
        "df = df.drop(df[df.label == 0].sample(frac=0.75).index)"
      ],
      "metadata": {
        "id": "RJBAZUIQaJDS"
      },
      "execution_count": 68,
      "outputs": []
    },
    {
      "cell_type": "code",
      "source": [
        "df"
      ],
      "metadata": {
        "id": "Mmc3bIvNev20",
        "outputId": "3426f83c-81d1-4420-ad00-c8dbd3827468",
        "colab": {
          "base_uri": "https://localhost:8080/",
          "height": 424
        }
      },
      "execution_count": 74,
      "outputs": [
        {
          "output_type": "execute_result",
          "data": {
            "text/plain": [
              "                                                    text  label\n",
              "12     Republicans have had seven years to come up wi...      0\n",
              "15     Donald Trump just signed the GOP tax scam into...      0\n",
              "16     A new animatronic figure in the Hall of Presid...      0\n",
              "17     Trump supporters and the so-called president s...      0\n",
              "28     Donald Trump held a rally for Alabama Senate c...      0\n",
              "...                                                  ...    ...\n",
              "44883  ON BOARD A U.S. MILITARY AIRCRAFT (Reuters) - ...      1\n",
              "44889  GENEVA (Reuters) - North Korea and the United ...      1\n",
              "44890  GENEVA (Reuters) - North Korea and the United ...      1\n",
              "44895  MINSK (Reuters) - In the shadow of disused Sov...      1\n",
              "44896  MOSCOW (Reuters) - Vatican Secretary of State ...      1\n",
              "\n",
              "[11224 rows x 2 columns]"
            ],
            "text/html": [
              "\n",
              "  <div id=\"df-537929ef-82ac-443d-8c29-b8d6db124f1b\">\n",
              "    <div class=\"colab-df-container\">\n",
              "      <div>\n",
              "<style scoped>\n",
              "    .dataframe tbody tr th:only-of-type {\n",
              "        vertical-align: middle;\n",
              "    }\n",
              "\n",
              "    .dataframe tbody tr th {\n",
              "        vertical-align: top;\n",
              "    }\n",
              "\n",
              "    .dataframe thead th {\n",
              "        text-align: right;\n",
              "    }\n",
              "</style>\n",
              "<table border=\"1\" class=\"dataframe\">\n",
              "  <thead>\n",
              "    <tr style=\"text-align: right;\">\n",
              "      <th></th>\n",
              "      <th>text</th>\n",
              "      <th>label</th>\n",
              "    </tr>\n",
              "  </thead>\n",
              "  <tbody>\n",
              "    <tr>\n",
              "      <th>12</th>\n",
              "      <td>Republicans have had seven years to come up wi...</td>\n",
              "      <td>0</td>\n",
              "    </tr>\n",
              "    <tr>\n",
              "      <th>15</th>\n",
              "      <td>Donald Trump just signed the GOP tax scam into...</td>\n",
              "      <td>0</td>\n",
              "    </tr>\n",
              "    <tr>\n",
              "      <th>16</th>\n",
              "      <td>A new animatronic figure in the Hall of Presid...</td>\n",
              "      <td>0</td>\n",
              "    </tr>\n",
              "    <tr>\n",
              "      <th>17</th>\n",
              "      <td>Trump supporters and the so-called president s...</td>\n",
              "      <td>0</td>\n",
              "    </tr>\n",
              "    <tr>\n",
              "      <th>28</th>\n",
              "      <td>Donald Trump held a rally for Alabama Senate c...</td>\n",
              "      <td>0</td>\n",
              "    </tr>\n",
              "    <tr>\n",
              "      <th>...</th>\n",
              "      <td>...</td>\n",
              "      <td>...</td>\n",
              "    </tr>\n",
              "    <tr>\n",
              "      <th>44883</th>\n",
              "      <td>ON BOARD A U.S. MILITARY AIRCRAFT (Reuters) - ...</td>\n",
              "      <td>1</td>\n",
              "    </tr>\n",
              "    <tr>\n",
              "      <th>44889</th>\n",
              "      <td>GENEVA (Reuters) - North Korea and the United ...</td>\n",
              "      <td>1</td>\n",
              "    </tr>\n",
              "    <tr>\n",
              "      <th>44890</th>\n",
              "      <td>GENEVA (Reuters) - North Korea and the United ...</td>\n",
              "      <td>1</td>\n",
              "    </tr>\n",
              "    <tr>\n",
              "      <th>44895</th>\n",
              "      <td>MINSK (Reuters) - In the shadow of disused Sov...</td>\n",
              "      <td>1</td>\n",
              "    </tr>\n",
              "    <tr>\n",
              "      <th>44896</th>\n",
              "      <td>MOSCOW (Reuters) - Vatican Secretary of State ...</td>\n",
              "      <td>1</td>\n",
              "    </tr>\n",
              "  </tbody>\n",
              "</table>\n",
              "<p>11224 rows × 2 columns</p>\n",
              "</div>\n",
              "      <button class=\"colab-df-convert\" onclick=\"convertToInteractive('df-537929ef-82ac-443d-8c29-b8d6db124f1b')\"\n",
              "              title=\"Convert this dataframe to an interactive table.\"\n",
              "              style=\"display:none;\">\n",
              "        \n",
              "  <svg xmlns=\"http://www.w3.org/2000/svg\" height=\"24px\"viewBox=\"0 0 24 24\"\n",
              "       width=\"24px\">\n",
              "    <path d=\"M0 0h24v24H0V0z\" fill=\"none\"/>\n",
              "    <path d=\"M18.56 5.44l.94 2.06.94-2.06 2.06-.94-2.06-.94-.94-2.06-.94 2.06-2.06.94zm-11 1L8.5 8.5l.94-2.06 2.06-.94-2.06-.94L8.5 2.5l-.94 2.06-2.06.94zm10 10l.94 2.06.94-2.06 2.06-.94-2.06-.94-.94-2.06-.94 2.06-2.06.94z\"/><path d=\"M17.41 7.96l-1.37-1.37c-.4-.4-.92-.59-1.43-.59-.52 0-1.04.2-1.43.59L10.3 9.45l-7.72 7.72c-.78.78-.78 2.05 0 2.83L4 21.41c.39.39.9.59 1.41.59.51 0 1.02-.2 1.41-.59l7.78-7.78 2.81-2.81c.8-.78.8-2.07 0-2.86zM5.41 20L4 18.59l7.72-7.72 1.47 1.35L5.41 20z\"/>\n",
              "  </svg>\n",
              "      </button>\n",
              "      \n",
              "  <style>\n",
              "    .colab-df-container {\n",
              "      display:flex;\n",
              "      flex-wrap:wrap;\n",
              "      gap: 12px;\n",
              "    }\n",
              "\n",
              "    .colab-df-convert {\n",
              "      background-color: #E8F0FE;\n",
              "      border: none;\n",
              "      border-radius: 50%;\n",
              "      cursor: pointer;\n",
              "      display: none;\n",
              "      fill: #1967D2;\n",
              "      height: 32px;\n",
              "      padding: 0 0 0 0;\n",
              "      width: 32px;\n",
              "    }\n",
              "\n",
              "    .colab-df-convert:hover {\n",
              "      background-color: #E2EBFA;\n",
              "      box-shadow: 0px 1px 2px rgba(60, 64, 67, 0.3), 0px 1px 3px 1px rgba(60, 64, 67, 0.15);\n",
              "      fill: #174EA6;\n",
              "    }\n",
              "\n",
              "    [theme=dark] .colab-df-convert {\n",
              "      background-color: #3B4455;\n",
              "      fill: #D2E3FC;\n",
              "    }\n",
              "\n",
              "    [theme=dark] .colab-df-convert:hover {\n",
              "      background-color: #434B5C;\n",
              "      box-shadow: 0px 1px 3px 1px rgba(0, 0, 0, 0.15);\n",
              "      filter: drop-shadow(0px 1px 2px rgba(0, 0, 0, 0.3));\n",
              "      fill: #FFFFFF;\n",
              "    }\n",
              "  </style>\n",
              "\n",
              "      <script>\n",
              "        const buttonEl =\n",
              "          document.querySelector('#df-537929ef-82ac-443d-8c29-b8d6db124f1b button.colab-df-convert');\n",
              "        buttonEl.style.display =\n",
              "          google.colab.kernel.accessAllowed ? 'block' : 'none';\n",
              "\n",
              "        async function convertToInteractive(key) {\n",
              "          const element = document.querySelector('#df-537929ef-82ac-443d-8c29-b8d6db124f1b');\n",
              "          const dataTable =\n",
              "            await google.colab.kernel.invokeFunction('convertToInteractive',\n",
              "                                                     [key], {});\n",
              "          if (!dataTable) return;\n",
              "\n",
              "          const docLinkHtml = 'Like what you see? Visit the ' +\n",
              "            '<a target=\"_blank\" href=https://colab.research.google.com/notebooks/data_table.ipynb>data table notebook</a>'\n",
              "            + ' to learn more about interactive tables.';\n",
              "          element.innerHTML = '';\n",
              "          dataTable['output_type'] = 'display_data';\n",
              "          await google.colab.output.renderOutput(dataTable, element);\n",
              "          const docLink = document.createElement('div');\n",
              "          docLink.innerHTML = docLinkHtml;\n",
              "          element.appendChild(docLink);\n",
              "        }\n",
              "      </script>\n",
              "    </div>\n",
              "  </div>\n",
              "  "
            ]
          },
          "metadata": {},
          "execution_count": 74
        }
      ]
    },
    {
      "cell_type": "code",
      "source": [
        "df.shape"
      ],
      "metadata": {
        "id": "y7gMKRKkevTH",
        "outputId": "235681d1-24f5-456d-ceed-30e65dbfdbbd",
        "colab": {
          "base_uri": "https://localhost:8080/"
        }
      },
      "execution_count": 75,
      "outputs": [
        {
          "output_type": "execute_result",
          "data": {
            "text/plain": [
              "(11224, 2)"
            ]
          },
          "metadata": {},
          "execution_count": 75
        }
      ]
    },
    {
      "cell_type": "code",
      "source": [
        "df.label.value_counts().index"
      ],
      "metadata": {
        "colab": {
          "base_uri": "https://localhost:8080/"
        },
        "id": "pPGhgWJAHmtU",
        "outputId": "7c08df8d-3c90-48d5-a589-9b07e2232f8d"
      },
      "execution_count": 76,
      "outputs": [
        {
          "output_type": "execute_result",
          "data": {
            "text/plain": [
              "Int64Index([0, 1], dtype='int64')"
            ]
          },
          "metadata": {},
          "execution_count": 76
        }
      ]
    },
    {
      "cell_type": "code",
      "source": [
        "df.label.value_counts()"
      ],
      "metadata": {
        "colab": {
          "base_uri": "https://localhost:8080/"
        },
        "id": "NMpDRmuzJ82f",
        "outputId": "ee98c672-c3d4-46f5-815e-dad7dc69777c"
      },
      "execution_count": 77,
      "outputs": [
        {
          "output_type": "execute_result",
          "data": {
            "text/plain": [
              "0    5870\n",
              "1    5354\n",
              "Name: label, dtype: int64"
            ]
          },
          "metadata": {},
          "execution_count": 77
        }
      ]
    },
    {
      "cell_type": "code",
      "source": [
        "import seaborn as sns\n",
        "import matplotlib.pyplot as plt\n",
        "\n",
        "x=df.label.value_counts()\n",
        "sns.barplot(x=x.index, y=x)\n",
        "plt.gca().set_ylabel('samples')"
      ],
      "metadata": {
        "colab": {
          "base_uri": "https://localhost:8080/",
          "height": 448
        },
        "id": "3LiD3o3CGHR-",
        "outputId": "525fbd7b-6a1d-4349-c32c-ad40b938a8f0"
      },
      "execution_count": 78,
      "outputs": [
        {
          "output_type": "execute_result",
          "data": {
            "text/plain": [
              "Text(0, 0.5, 'samples')"
            ]
          },
          "metadata": {},
          "execution_count": 78
        },
        {
          "output_type": "display_data",
          "data": {
            "text/plain": [
              "<Figure size 640x480 with 1 Axes>"
            ],
            "image/png": "[encoded data removed]"
          },
          "metadata": {}
        }
      ]
    },
    {
      "cell_type": "code",
      "source": [
        "sentences = df.text.values\n",
        "labels = df.label.values  "
      ],
      "metadata": {
        "id": "H0A0tpVdKo6_"
      },
      "execution_count": 79,
      "outputs": []
    },
    {
      "cell_type": "markdown",
      "source": [
        "load bert tokenizer"
      ],
      "metadata": {
        "id": "Cgmo2JahKz3r"
      }
    },
    {
      "cell_type": "code",
      "source": [
        "from transformers import BertTokenizer\n",
        "\n",
        "print(\"Loading BERT Tokenizer\")\n",
        "tokenizer = BertTokenizer.from_pretrained('bert-base-uncased', do_lower_case=True)"
      ],
      "metadata": {
        "id": "Y86Dvr30LHBy",
        "outputId": "d85e3c10-fd9c-4d48-e032-33fc7afe1b68",
        "colab": {
          "base_uri": "https://localhost:8080/"
        }
      },
      "execution_count": 80,
      "outputs": [
        {
          "output_type": "stream",
          "name": "stdout",
          "text": [
            "Loading BERT Tokenizer\n"
          ]
        }
      ]
    },
    {
      "cell_type": "code",
      "source": [
        "print(\"Original: \", sentences[0])\n",
        "\n",
        "print(\"Tokenized: \", tokenizer.tokenize(sentences[0]))\n",
        "\n",
        "print(\"Token IDS: \", tokenizer.convert_tokens_to_ids(tokenizer.tokenize(sentences[0])))"
      ],
      "metadata": {
        "id": "VISahLN3LQGZ",
        "outputId": "04c5cda0-2ac8-4967-a91b-a980c5290198",
        "colab": {
          "base_uri": "https://localhost:8080/"
        }
      },
      "execution_count": 81,
      "outputs": [
        {
          "output_type": "stream",
          "name": "stdout",
          "text": [
            "Original:  Republicans have had seven years to come up with a viable replacement for Obamacare but they failed miserably. After taking a victory lap for gifting the wealthy with a tax break on Wednesday, Donald Trump looked at the cameras and said,  We have essentially repealed Obamacare and we will come up with something that will be much better. Obamacare has been repealed in this bill,  he added. Well, like most things Trump says, that s just not true. But, if the former reality show star could have done that in order to eradicate former President Obama s signature legislation, he would have and without offering an alternative.Senate Majority Leader Mitch McConnell told NPR that  This has not been a very bipartisan year. I hope in the new year, we re going to pivot here and become more cooperative. An Obamacare repeal in 2018 is DOA. Well, we obviously were unable to completely repeal and replace with a 52-48 Senate,  the Kentucky Republican said.  We ll have to take a look at what that looks like with a 51-49 Senate. But I think we ll probably move on to other issues. NPR reports:McConnell hopes to focus instead on stabilizing the insurance marketplaces to keep premiums from skyrocketing in the early months of 2018, a promise he made to moderate Republican Sen. Susan Collins of Maine to get her support for the tax bill.On top of that McConnell broke with House Speaker Paul Ryan, R-Wis., on the approach to paring back spending on programs like Medicaid and food stamps. McConnell told NPR he is  not interested  in using Senate budget rules to allow Republicans to cut entitlements without consultation with Democrats. I think entitlement changes, to be sustained, almost always have to be bipartisan,  McConnell said.  The House may have a different agenda. If our Democratic friends in the Senate want to join us to tackle any kind of entitlement reform. I d be happy to take a look at it. This is coming from Mitch McConnell. He knows Donald Trump is destroying the GOP. It doesn t matter, Sen. McConnell. We still recall him saying that his  number one priority is making sure president Obama s a one-term president. Well, we re hoping that Trump doesn t last a full term. Funny how that works.Photo by Chip Somodevilla/Getty Images\n",
            "Tokenized:  ['republicans', 'have', 'had', 'seven', 'years', 'to', 'come', 'up', 'with', 'a', 'viable', 'replacement', 'for', 'obama', '##care', 'but', 'they', 'failed', 'mis', '##era', '##bly', '.', 'after', 'taking', 'a', 'victory', 'lap', 'for', 'gift', '##ing', 'the', 'wealthy', 'with', 'a', 'tax', 'break', 'on', 'wednesday', ',', 'donald', 'trump', 'looked', 'at', 'the', 'cameras', 'and', 'said', ',', 'we', 'have', 'essentially', 'repealed', 'obama', '##care', 'and', 'we', 'will', 'come', 'up', 'with', 'something', 'that', 'will', 'be', 'much', 'better', '.', 'obama', '##care', 'has', 'been', 'repealed', 'in', 'this', 'bill', ',', 'he', 'added', '.', 'well', ',', 'like', 'most', 'things', 'trump', 'says', ',', 'that', 's', 'just', 'not', 'true', '.', 'but', ',', 'if', 'the', 'former', 'reality', 'show', 'star', 'could', 'have', 'done', 'that', 'in', 'order', 'to', 'era', '##dicate', 'former', 'president', 'obama', 's', 'signature', 'legislation', ',', 'he', 'would', 'have', 'and', 'without', 'offering', 'an', 'alternative', '.', 'senate', 'majority', 'leader', 'mitch', 'mcconnell', 'told', 'npr', 'that', 'this', 'has', 'not', 'been', 'a', 'very', 'bi', '##partisan', 'year', '.', 'i', 'hope', 'in', 'the', 'new', 'year', ',', 'we', 're', 'going', 'to', 'pi', '##vot', 'here', 'and', 'become', 'more', 'cooperative', '.', 'an', 'obama', '##care', 'repeal', 'in', '2018', 'is', 'do', '##a', '.', 'well', ',', 'we', 'obviously', 'were', 'unable', 'to', 'completely', 'repeal', 'and', 'replace', 'with', 'a', '52', '-', '48', 'senate', ',', 'the', 'kentucky', 'republican', 'said', '.', 'we', 'll', 'have', 'to', 'take', 'a', 'look', 'at', 'what', 'that', 'looks', 'like', 'with', 'a', '51', '-', '49', 'senate', '.', 'but', 'i', 'think', 'we', 'll', 'probably', 'move', 'on', 'to', 'other', 'issues', '.', 'npr', 'reports', ':', 'mcconnell', 'hopes', 'to', 'focus', 'instead', 'on', 'stab', '##ili', '##zing', 'the', 'insurance', 'marketplace', '##s', 'to', 'keep', 'premium', '##s', 'from', 'sky', '##rock', '##eti', '##ng', 'in', 'the', 'early', 'months', 'of', '2018', ',', 'a', 'promise', 'he', 'made', 'to', 'moderate', 'republican', 'sen', '.', 'susan', 'collins', 'of', 'maine', 'to', 'get', 'her', 'support', 'for', 'the', 'tax', 'bill', '.', 'on', 'top', 'of', 'that', 'mcconnell', 'broke', 'with', 'house', 'speaker', 'paul', 'ryan', ',', 'r', '-', 'wi', '##s', '.', ',', 'on', 'the', 'approach', 'to', 'par', '##ing', 'back', 'spending', 'on', 'programs', 'like', 'med', '##ica', '##id', 'and', 'food', 'stamps', '.', 'mcconnell', 'told', 'npr', 'he', 'is', 'not', 'interested', 'in', 'using', 'senate', 'budget', 'rules', 'to', 'allow', 'republicans', 'to', 'cut', 'en', '##ti', '##tlement', '##s', 'without', 'consultation', 'with', 'democrats', '.', 'i', 'think', 'en', '##ti', '##tlement', 'changes', ',', 'to', 'be', 'sustained', ',', 'almost', 'always', 'have', 'to', 'be', 'bi', '##partisan', ',', 'mcconnell', 'said', '.', 'the', 'house', 'may', 'have', 'a', 'different', 'agenda', '.', 'if', 'our', 'democratic', 'friends', 'in', 'the', 'senate', 'want', 'to', 'join', 'us', 'to', 'tackle', 'any', 'kind', 'of', 'en', '##ti', '##tlement', 'reform', '.', 'i', 'd', 'be', 'happy', 'to', 'take', 'a', 'look', 'at', 'it', '.', 'this', 'is', 'coming', 'from', 'mitch', 'mcconnell', '.', 'he', 'knows', 'donald', 'trump', 'is', 'destroying', 'the', 'go', '##p', '.', 'it', 'doesn', 't', 'matter', ',', 'sen', '.', 'mcconnell', '.', 'we', 'still', 'recall', 'him', 'saying', 'that', 'his', 'number', 'one', 'priority', 'is', 'making', 'sure', 'president', 'obama', 's', 'a', 'one', '-', 'term', 'president', '.', 'well', ',', 'we', 're', 'hoping', 'that', 'trump', 'doesn', 't', 'last', 'a', 'full', 'term', '.', 'funny', 'how', 'that', 'works', '.', 'photo', 'by', 'chip', 'so', '##mo', '##dev', '##illa', '/', 'get', '##ty', 'images']\n",
            "Token IDS:  [10643, 2031, 2018, 2698, 2086, 2000, 2272, 2039, 2007, 1037, 14874, 6110, 2005, 8112, 16302, 2021, 2027, 3478, 28616, 6906, 6321, 1012, 2044, 2635, 1037, 3377, 5001, 2005, 5592, 2075, 1996, 7272, 2007, 1037, 4171, 3338, 2006, 9317, 1010, 6221, 8398, 2246, 2012, 1996, 8629, 1998, 2056, 1010, 2057, 2031, 7687, 21492, 8112, 16302, 1998, 2057, 2097, 2272, 2039, 2007, 2242, 2008, 2097, 2022, 2172, 2488, 1012, 8112, 16302, 2038, 2042, 21492, 1999, 2023, 3021, 1010, 2002, 2794, 1012, 2092, 1010, 2066, 2087, 2477, 8398, 2758, 1010, 2008, 1055, 2074, 2025, 2995, 1012, 2021, 1010, 2065, 1996, 2280, 4507, 2265, 2732, 2071, 2031, 2589, 2008, 1999, 2344, 2000, 3690, 16467, 2280, 2343, 8112, 1055, 8085, 6094, 1010, 2002, 2052, 2031, 1998, 2302, 5378, 2019, 4522, 1012, 4001, 3484, 3003, 11857, 28514, 2409, 21411, 2008, 2023, 2038, 2025, 2042, 1037, 2200, 12170, 26053, 2095, 1012, 1045, 3246, 1999, 1996, 2047, 2095, 1010, 2057, 2128, 2183, 2000, 14255, 22994, 2182, 1998, 2468, 2062, 10791, 1012, 2019, 8112, 16302, 21825, 1999, 2760, 2003, 2079, 2050, 1012, 2092, 1010, 2057, 5525, 2020, 4039, 2000, 3294, 21825, 1998, 5672, 2007, 1037, 4720, 1011, 4466, 4001, 1010, 1996, 5612, 3951, 2056, 1012, 2057, 2222, 2031, 2000, 2202, 1037, 2298, 2012, 2054, 2008, 3504, 2066, 2007, 1037, 4868, 1011, 4749, 4001, 1012, 2021, 1045, 2228, 2057, 2222, 2763, 2693, 2006, 2000, 2060, 3314, 1012, 21411, 4311, 1024, 28514, 8069, 2000, 3579, 2612, 2006, 17079, 18622, 6774, 1996, 5427, 18086, 2015, 2000, 2562, 12882, 2015, 2013, 3712, 16901, 20624, 3070, 1999, 1996, 2220, 2706, 1997, 2760, 1010, 1037, 4872, 2002, 2081, 2000, 8777, 3951, 12411, 1012, 6294, 6868, 1997, 7081, 2000, 2131, 2014, 2490, 2005, 1996, 4171, 3021, 1012, 2006, 2327, 1997, 2008, 28514, 3631, 2007, 2160, 5882, 2703, 4575, 1010, 1054, 1011, 15536, 2015, 1012, 1010, 2006, 1996, 3921, 2000, 11968, 2075, 2067, 5938, 2006, 3454, 2066, 19960, 5555, 3593, 1998, 2833, 12133, 1012, 28514, 2409, 21411, 2002, 2003, 2025, 4699, 1999, 2478, 4001, 5166, 3513, 2000, 3499, 10643, 2000, 3013, 4372, 3775, 24007, 2015, 2302, 16053, 2007, 8037, 1012, 1045, 2228, 4372, 3775, 24007, 3431, 1010, 2000, 2022, 8760, 1010, 2471, 2467, 2031, 2000, 2022, 12170, 26053, 1010, 28514, 2056, 1012, 1996, 2160, 2089, 2031, 1037, 2367, 11376, 1012, 2065, 2256, 3537, 2814, 1999, 1996, 4001, 2215, 2000, 3693, 2149, 2000, 11147, 2151, 2785, 1997, 4372, 3775, 24007, 5290, 1012, 1045, 1040, 2022, 3407, 2000, 2202, 1037, 2298, 2012, 2009, 1012, 2023, 2003, 2746, 2013, 11857, 28514, 1012, 2002, 4282, 6221, 8398, 2003, 9846, 1996, 2175, 2361, 1012, 2009, 2987, 1056, 3043, 1010, 12411, 1012, 28514, 1012, 2057, 2145, 9131, 2032, 3038, 2008, 2010, 2193, 2028, 9470, 2003, 2437, 2469, 2343, 8112, 1055, 1037, 2028, 1011, 2744, 2343, 1012, 2092, 1010, 2057, 2128, 5327, 2008, 8398, 2987, 1056, 2197, 1037, 2440, 2744, 1012, 6057, 2129, 2008, 2573, 1012, 6302, 2011, 9090, 2061, 5302, 24844, 9386, 1013, 2131, 3723, 4871]\n"
          ]
        }
      ]
    },
    {
      "cell_type": "code",
      "source": [
        "input_ids = []\n",
        "\n",
        "for sent in sentences:\n",
        "  encoded_sent = tokenizer.encode(sent, add_special_tokens = True, max_length=14285, truncation=True)\n",
        "  # encoded_sent = tokenizer.encode(sent, add_special_tokens = True, max_length: Optional[int]=None)\n",
        "  input_ids.append(encoded_sent)\n",
        "\n",
        "print(\"Original: \", sentences[0])\n",
        "print(\"Token IDs: \", input_ids[0])\n",
        "\n"
      ],
      "metadata": {
        "colab": {
          "base_uri": "https://localhost:8080/"
        },
        "id": "iSqEGe3mE_O3",
        "outputId": "0dee0db1-3946-469d-ff86-a4bd5ba5d809"
      },
      "execution_count": 82,
      "outputs": [
        {
          "output_type": "stream",
          "name": "stdout",
          "text": [
            "Original:  Republicans have had seven years to come up with a viable replacement for Obamacare but they failed miserably. After taking a victory lap for gifting the wealthy with a tax break on Wednesday, Donald Trump looked at the cameras and said,  We have essentially repealed Obamacare and we will come up with something that will be much better. Obamacare has been repealed in this bill,  he added. Well, like most things Trump says, that s just not true. But, if the former reality show star could have done that in order to eradicate former President Obama s signature legislation, he would have and without offering an alternative.Senate Majority Leader Mitch McConnell told NPR that  This has not been a very bipartisan year. I hope in the new year, we re going to pivot here and become more cooperative. An Obamacare repeal in 2018 is DOA. Well, we obviously were unable to completely repeal and replace with a 52-48 Senate,  the Kentucky Republican said.  We ll have to take a look at what that looks like with a 51-49 Senate. But I think we ll probably move on to other issues. NPR reports:McConnell hopes to focus instead on stabilizing the insurance marketplaces to keep premiums from skyrocketing in the early months of 2018, a promise he made to moderate Republican Sen. Susan Collins of Maine to get her support for the tax bill.On top of that McConnell broke with House Speaker Paul Ryan, R-Wis., on the approach to paring back spending on programs like Medicaid and food stamps. McConnell told NPR he is  not interested  in using Senate budget rules to allow Republicans to cut entitlements without consultation with Democrats. I think entitlement changes, to be sustained, almost always have to be bipartisan,  McConnell said.  The House may have a different agenda. If our Democratic friends in the Senate want to join us to tackle any kind of entitlement reform. I d be happy to take a look at it. This is coming from Mitch McConnell. He knows Donald Trump is destroying the GOP. It doesn t matter, Sen. McConnell. We still recall him saying that his  number one priority is making sure president Obama s a one-term president. Well, we re hoping that Trump doesn t last a full term. Funny how that works.Photo by Chip Somodevilla/Getty Images\n",
            "Token IDs:  [101, 10643, 2031, 2018, 2698, 2086, 2000, 2272, 2039, 2007, 1037, 14874, 6110, 2005, 8112, 16302, 2021, 2027, 3478, 28616, 6906, 6321, 1012, 2044, 2635, 1037, 3377, 5001, 2005, 5592, 2075, 1996, 7272, 2007, 1037, 4171, 3338, 2006, 9317, 1010, 6221, 8398, 2246, 2012, 1996, 8629, 1998, 2056, 1010, 2057, 2031, 7687, 21492, 8112, 16302, 1998, 2057, 2097, 2272, 2039, 2007, 2242, 2008, 2097, 2022, 2172, 2488, 1012, 8112, 16302, 2038, 2042, 21492, 1999, 2023, 3021, 1010, 2002, 2794, 1012, 2092, 1010, 2066, 2087, 2477, 8398, 2758, 1010, 2008, 1055, 2074, 2025, 2995, 1012, 2021, 1010, 2065, 1996, 2280, 4507, 2265, 2732, 2071, 2031, 2589, 2008, 1999, 2344, 2000, 3690, 16467, 2280, 2343, 8112, 1055, 8085, 6094, 1010, 2002, 2052, 2031, 1998, 2302, 5378, 2019, 4522, 1012, 4001, 3484, 3003, 11857, 28514, 2409, 21411, 2008, 2023, 2038, 2025, 2042, 1037, 2200, 12170, 26053, 2095, 1012, 1045, 3246, 1999, 1996, 2047, 2095, 1010, 2057, 2128, 2183, 2000, 14255, 22994, 2182, 1998, 2468, 2062, 10791, 1012, 2019, 8112, 16302, 21825, 1999, 2760, 2003, 2079, 2050, 1012, 2092, 1010, 2057, 5525, 2020, 4039, 2000, 3294, 21825, 1998, 5672, 2007, 1037, 4720, 1011, 4466, 4001, 1010, 1996, 5612, 3951, 2056, 1012, 2057, 2222, 2031, 2000, 2202, 1037, 2298, 2012, 2054, 2008, 3504, 2066, 2007, 1037, 4868, 1011, 4749, 4001, 1012, 2021, 1045, 2228, 2057, 2222, 2763, 2693, 2006, 2000, 2060, 3314, 1012, 21411, 4311, 1024, 28514, 8069, 2000, 3579, 2612, 2006, 17079, 18622, 6774, 1996, 5427, 18086, 2015, 2000, 2562, 12882, 2015, 2013, 3712, 16901, 20624, 3070, 1999, 1996, 2220, 2706, 1997, 2760, 1010, 1037, 4872, 2002, 2081, 2000, 8777, 3951, 12411, 1012, 6294, 6868, 1997, 7081, 2000, 2131, 2014, 2490, 2005, 1996, 4171, 3021, 1012, 2006, 2327, 1997, 2008, 28514, 3631, 2007, 2160, 5882, 2703, 4575, 1010, 1054, 1011, 15536, 2015, 1012, 1010, 2006, 1996, 3921, 2000, 11968, 2075, 2067, 5938, 2006, 3454, 2066, 19960, 5555, 3593, 1998, 2833, 12133, 1012, 28514, 2409, 21411, 2002, 2003, 2025, 4699, 1999, 2478, 4001, 5166, 3513, 2000, 3499, 10643, 2000, 3013, 4372, 3775, 24007, 2015, 2302, 16053, 2007, 8037, 1012, 1045, 2228, 4372, 3775, 24007, 3431, 1010, 2000, 2022, 8760, 1010, 2471, 2467, 2031, 2000, 2022, 12170, 26053, 1010, 28514, 2056, 1012, 1996, 2160, 2089, 2031, 1037, 2367, 11376, 1012, 2065, 2256, 3537, 2814, 1999, 1996, 4001, 2215, 2000, 3693, 2149, 2000, 11147, 2151, 2785, 1997, 4372, 3775, 24007, 5290, 1012, 1045, 1040, 2022, 3407, 2000, 2202, 1037, 2298, 2012, 2009, 1012, 2023, 2003, 2746, 2013, 11857, 28514, 1012, 2002, 4282, 6221, 8398, 2003, 9846, 1996, 2175, 2361, 1012, 2009, 2987, 1056, 3043, 1010, 12411, 1012, 28514, 1012, 2057, 2145, 9131, 2032, 3038, 2008, 2010, 2193, 2028, 9470, 2003, 2437, 2469, 2343, 8112, 1055, 1037, 2028, 1011, 2744, 2343, 1012, 2092, 1010, 2057, 2128, 5327, 2008, 8398, 2987, 1056, 2197, 1037, 2440, 2744, 1012, 6057, 2129, 2008, 2573, 1012, 6302, 2011, 9090, 2061, 5302, 24844, 9386, 1013, 2131, 3723, 4871, 102]\n"
          ]
        }
      ]
    },
    {
      "cell_type": "code",
      "source": [
        "print(\"Max sentence length: \", max([len(sen) for sen in input_ids]))"
      ],
      "metadata": {
        "colab": {
          "base_uri": "https://localhost:8080/"
        },
        "id": "MfPsMPA4FQjJ",
        "outputId": "0a4da098-ed81-4ca0-aa61-f03c9e89db11"
      },
      "execution_count": 83,
      "outputs": [
        {
          "output_type": "stream",
          "name": "stdout",
          "text": [
            "Max sentence length:  10292\n"
          ]
        }
      ]
    },
    {
      "cell_type": "code",
      "source": [
        "from keras.utils import pad_sequences"
      ],
      "metadata": {
        "id": "WxUQhr9KLzRz"
      },
      "execution_count": 84,
      "outputs": []
    },
    {
      "cell_type": "code",
      "source": [
        "from keras.utils import pad_sequences\n",
        "\n",
        "MAX_LEN = 14290\n",
        "\n",
        "print(\"Padding/truncating all sentences to %d values\" % MAX_LEN)\n",
        "print('Padding token: \"{:}\", ID: {:}'.format(tokenizer.pad_token, tokenizer.pad_token_id))\n",
        "\n",
        "input_ids = pad_sequences(input_ids, maxlen=MAX_LEN, dtype='long', value=0, truncating='post', padding='post')\n",
        "\n",
        "print(\"Done\")"
      ],
      "metadata": {
        "colab": {
          "base_uri": "https://localhost:8080/"
        },
        "id": "tkkv3ynJFcTl",
        "outputId": "db454f30-5862-4552-c96d-a4c4285c1323"
      },
      "execution_count": 85,
      "outputs": [
        {
          "output_type": "stream",
          "name": "stdout",
          "text": [
            "Padding/truncating all sentences to 14290 values\n",
            "Padding token: \"[PAD]\", ID: 0\n",
            "Done\n"
          ]
        }
      ]
    },
    {
      "cell_type": "code",
      "source": [
        "input_ids[0]"
      ],
      "metadata": {
        "colab": {
          "base_uri": "https://localhost:8080/"
        },
        "id": "jp_W-0qYFsD5",
        "outputId": "45709d16-d64d-45aa-8860-be003f68c972"
      },
      "execution_count": 86,
      "outputs": [
        {
          "output_type": "execute_result",
          "data": {
            "text/plain": [
              "array([  101, 10643,  2031, ...,     0,     0,     0])"
            ]
          },
          "metadata": {},
          "execution_count": 86
        }
      ]
    },
    {
      "cell_type": "code",
      "source": [
        "attention_mask = []\n",
        "\n",
        "for sent in input_ids:\n",
        "  att_mask = [int(token_id > 0) for token_id in sent]\n",
        "\n",
        "  attention_mask.append(att_mask)"
      ],
      "metadata": {
        "id": "4JLoku0tFuM_"
      },
      "execution_count": 87,
      "outputs": []
    },
    {
      "cell_type": "markdown",
      "source": [
        "persiapan data"
      ],
      "metadata": {
        "id": "De_VydH-Qc_p"
      }
    },
    {
      "cell_type": "code",
      "source": [
        "from sklearn.model_selection import train_test_split\n",
        "\n",
        "train_input, test_input, train_labels, test_labels = train_test_split(input_ids,\n",
        "                                                                      labels,\n",
        "                                                                      random_state=2017,\n",
        "                                                                      test_size=0.1)\n",
        "train_mask, test_mask, _, _ = train_test_split(attention_mask,\n",
        "                                               labels,\n",
        "                                               random_state=2017,\n",
        "                                               test_size=0.1)\n",
        "\n",
        "train_input, validation_input, train_labels, validation_labels = train_test_split(train_input,\n",
        "                                                                                  train_labels,\n",
        "                                                                                  random_state=2018,\n",
        "                                                                                  test_size=0.15)\n",
        "train_mask, validation_mask, _, _ = train_test_split(train_mask,\n",
        "                                                     train_mask,\n",
        "                                                     random_state=2018,\n",
        "                                                     test_size=0.15)"
      ],
      "metadata": {
        "id": "KAnSO3HkQfDn"
      },
      "execution_count": 88,
      "outputs": []
    },
    {
      "cell_type": "code",
      "source": [
        "import numpy as np\n",
        "print(\"== Train ==\")\n",
        "print(\"Input: \", train_input.shape)\n",
        "print(\"Label: \", train_labels.shape)\n",
        "print(\"Mask: \", np.array(train_mask).shape)\n",
        "\n",
        "print(\"\\n== Validation ==\")\n",
        "print(\"Input: \", validation_input.shape)\n",
        "print(\"Label: \", validation_labels.shape)\n",
        "print(\"Mask: \", np.array(validation_mask).shape)\n",
        "\n",
        "print(\"\\n== Test ==\")\n",
        "print(\"Input: \", test_input.shape)\n",
        "print(\"Label: \", test_labels.shape)\n",
        "print(\"Mask: \", np.array(test_mask).shape)"
      ],
      "metadata": {
        "colab": {
          "base_uri": "https://localhost:8080/"
        },
        "id": "Cg1laKw3RfmO",
        "outputId": "b91592f2-91a5-43d7-883d-4e4b005bbc2a"
      },
      "execution_count": 89,
      "outputs": [
        {
          "output_type": "stream",
          "name": "stdout",
          "text": [
            "== Train ==\n",
            "Input:  (8585, 14290)\n",
            "Label:  (8585,)\n",
            "Mask:  (8585, 14290)\n",
            "\n",
            "== Validation ==\n",
            "Input:  (1516, 14290)\n",
            "Label:  (1516,)\n",
            "Mask:  (1516, 14290)\n",
            "\n",
            "== Test ==\n",
            "Input:  (1123, 14290)\n",
            "Label:  (1123,)\n",
            "Mask:  (1123, 14290)\n"
          ]
        }
      ]
    },
    {
      "cell_type": "code",
      "source": [
        "train_input = torch.tensor(train_input)\n",
        "train_labels = torch.tensor(train_labels)\n",
        "train_mask = torch.tensor(train_mask)\n",
        "\n",
        "validation_input = torch.tensor(validation_input)\n",
        "validation_labels = torch.tensor(validation_labels)\n",
        "validation_mask = torch.tensor(validation_mask)\n",
        "\n",
        "test_input = torch.tensor(test_input)\n",
        "test_labels = torch.tensor(test_labels)\n",
        "test_mask = torch.tensor(test_mask)"
      ],
      "metadata": {
        "id": "ww0POFnARjaK"
      },
      "execution_count": 90,
      "outputs": []
    },
    {
      "cell_type": "code",
      "source": [
        "from torch.utils.data import TensorDataset, DataLoader, RandomSampler, SequentialSampler\n",
        "\n",
        "batch_size = 32\n",
        "\n",
        "train_data = TensorDataset(train_input, train_mask, train_labels)\n",
        "train_sampler = RandomSampler(train_data)\n",
        "train_dataloader = DataLoader(train_data, sampler=train_sampler, batch_size=batch_size)\n",
        "\n",
        "validation_data = TensorDataset(validation_input, validation_mask, validation_labels)\n",
        "validation_sampler = SequentialSampler(validation_data)\n",
        "validation_dataloader = DataLoader(validation_data, sampler=validation_sampler, batch_size=batch_size)\n",
        "\n",
        "test_data = TensorDataset(test_input, test_mask, test_labels)\n",
        "test_sampler = SequentialSampler(test_data)\n",
        "test_dataloader = DataLoader(test_data, sampler=test_sampler, batch_size=batch_size)"
      ],
      "metadata": {
        "id": "EeMMkd0KRonP"
      },
      "execution_count": 91,
      "outputs": []
    }
  ]
}