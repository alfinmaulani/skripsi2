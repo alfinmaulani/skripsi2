{
  "nbformat": 4,
  "nbformat_minor": 0,
  "metadata": {
    "colab": {
      "provenance": [],
      "gpuType": "T4",
      "mount_file_id": "https://github.com/alfinmaulani/skripsi2/blob/main/BERT.ipynb",
      "authorship_tag": "ABX9TyNENd+wL5HuryueigxR7cML",
      "include_colab_link": true
    },
    "kernelspec": {
      "name": "python3",
      "display_name": "Python 3"
    },
    "language_info": {
      "name": "python"
    },
    "gpuClass": "standard",
    "widgets": {
      "application/vnd.jupyter.widget-state+json": {
        "49bc5f4e7ca64e9e9305f591e5b9c582": {
          "model_module": "@jupyter-widgets/controls",
          "model_name": "HBoxModel",
          "model_module_version": "1.5.0",
          "state": {
            "_dom_classes": [],
            "_model_module": "@jupyter-widgets/controls",
            "_model_module_version": "1.5.0",
            "_model_name": "HBoxModel",
            "_view_count": null,
            "_view_module": "@jupyter-widgets/controls",
            "_view_module_version": "1.5.0",
            "_view_name": "HBoxView",
            "box_style": "",
            "children": [
              "IPY_MODEL_2170cf87648e4cfd9c57a43bd4b1f1a0",
              "IPY_MODEL_46f890854b3d47b6a956ecbaa81e120b",
              "IPY_MODEL_9050f450385b43cdaa8b148224c89541"
            ],
            "layout": "IPY_MODEL_c00ca45dc95b484fb53c72d684ec050f"
          }
        },
        "2170cf87648e4cfd9c57a43bd4b1f1a0": {
          "model_module": "@jupyter-widgets/controls",
          "model_name": "HTMLModel",
          "model_module_version": "1.5.0",
          "state": {
            "_dom_classes": [],
            "_model_module": "@jupyter-widgets/controls",
            "_model_module_version": "1.5.0",
            "_model_name": "HTMLModel",
            "_view_count": null,
            "_view_module": "@jupyter-widgets/controls",
            "_view_module_version": "1.5.0",
            "_view_name": "HTMLView",
            "description": "",
            "description_tooltip": null,
            "layout": "IPY_MODEL_4d9c7cd1105749b59ad7d8198d1fe49d",
            "placeholder": "​",
            "style": "IPY_MODEL_8b3dfd82be744ebe9df1309b5e48a33c",
            "value": "Downloading (…)solve/main/vocab.txt: 100%"
          }
        },
        "46f890854b3d47b6a956ecbaa81e120b": {
          "model_module": "@jupyter-widgets/controls",
          "model_name": "FloatProgressModel",
          "model_module_version": "1.5.0",
          "state": {
            "_dom_classes": [],
            "_model_module": "@jupyter-widgets/controls",
            "_model_module_version": "1.5.0",
            "_model_name": "FloatProgressModel",
            "_view_count": null,
            "_view_module": "@jupyter-widgets/controls",
            "_view_module_version": "1.5.0",
            "_view_name": "ProgressView",
            "bar_style": "success",
            "description": "",
            "description_tooltip": null,
            "layout": "IPY_MODEL_c7c365f4480d408e9cef30814b9cf850",
            "max": 231508,
            "min": 0,
            "orientation": "horizontal",
            "style": "IPY_MODEL_268163c1b66647d5bfcb4a4aac745b2f",
            "value": 231508
          }
        },
        "9050f450385b43cdaa8b148224c89541": {
          "model_module": "@jupyter-widgets/controls",
          "model_name": "HTMLModel",
          "model_module_version": "1.5.0",
          "state": {
            "_dom_classes": [],
            "_model_module": "@jupyter-widgets/controls",
            "_model_module_version": "1.5.0",
            "_model_name": "HTMLModel",
            "_view_count": null,
            "_view_module": "@jupyter-widgets/controls",
            "_view_module_version": "1.5.0",
            "_view_name": "HTMLView",
            "description": "",
            "description_tooltip": null,
            "layout": "IPY_MODEL_7d60d1fa66114ef5acbe01539516adea",
            "placeholder": "​",
            "style": "IPY_MODEL_94acf2f50c0742f1bad3ffb6f221a8ec",
            "value": " 232k/232k [00:00&lt;00:00, 1.84MB/s]"
          }
        },
        "c00ca45dc95b484fb53c72d684ec050f": {
          "model_module": "@jupyter-widgets/base",
          "model_name": "LayoutModel",
          "model_module_version": "1.2.0",
          "state": {
            "_model_module": "@jupyter-widgets/base",
            "_model_module_version": "1.2.0",
            "_model_name": "LayoutModel",
            "_view_count": null,
            "_view_module": "@jupyter-widgets/base",
            "_view_module_version": "1.2.0",
            "_view_name": "LayoutView",
            "align_content": null,
            "align_items": null,
            "align_self": null,
            "border": null,
            "bottom": null,
            "display": null,
            "flex": null,
            "flex_flow": null,
            "grid_area": null,
            "grid_auto_columns": null,
            "grid_auto_flow": null,
            "grid_auto_rows": null,
            "grid_column": null,
            "grid_gap": null,
            "grid_row": null,
            "grid_template_areas": null,
            "grid_template_columns": null,
            "grid_template_rows": null,
            "height": null,
            "justify_content": null,
            "justify_items": null,
            "left": null,
            "margin": null,
            "max_height": null,
            "max_width": null,
            "min_height": null,
            "min_width": null,
            "object_fit": null,
            "object_position": null,
            "order": null,
            "overflow": null,
            "overflow_x": null,
            "overflow_y": null,
            "padding": null,
            "right": null,
            "top": null,
            "visibility": null,
            "width": null
          }
        },
        "4d9c7cd1105749b59ad7d8198d1fe49d": {
          "model_module": "@jupyter-widgets/base",
          "model_name": "LayoutModel",
          "model_module_version": "1.2.0",
          "state": {
            "_model_module": "@jupyter-widgets/base",
            "_model_module_version": "1.2.0",
            "_model_name": "LayoutModel",
            "_view_count": null,
            "_view_module": "@jupyter-widgets/base",
            "_view_module_version": "1.2.0",
            "_view_name": "LayoutView",
            "align_content": null,
            "align_items": null,
            "align_self": null,
            "border": null,
            "bottom": null,
            "display": null,
            "flex": null,
            "flex_flow": null,
            "grid_area": null,
            "grid_auto_columns": null,
            "grid_auto_flow": null,
            "grid_auto_rows": null,
            "grid_column": null,
            "grid_gap": null,
            "grid_row": null,
            "grid_template_areas": null,
            "grid_template_columns": null,
            "grid_template_rows": null,
            "height": null,
            "justify_content": null,
            "justify_items": null,
            "left": null,
            "margin": null,
            "max_height": null,
            "max_width": null,
            "min_height": null,
            "min_width": null,
            "object_fit": null,
            "object_position": null,
            "order": null,
            "overflow": null,
            "overflow_x": null,
            "overflow_y": null,
            "padding": null,
            "right": null,
            "top": null,
            "visibility": null,
            "width": null
          }
        },
        "8b3dfd82be744ebe9df1309b5e48a33c": {
          "model_module": "@jupyter-widgets/controls",
          "model_name": "DescriptionStyleModel",
          "model_module_version": "1.5.0",
          "state": {
            "_model_module": "@jupyter-widgets/controls",
            "_model_module_version": "1.5.0",
            "_model_name": "DescriptionStyleModel",
            "_view_count": null,
            "_view_module": "@jupyter-widgets/base",
            "_view_module_version": "1.2.0",
            "_view_name": "StyleView",
            "description_width": ""
          }
        },
        "c7c365f4480d408e9cef30814b9cf850": {
          "model_module": "@jupyter-widgets/base",
          "model_name": "LayoutModel",
          "model_module_version": "1.2.0",
          "state": {
            "_model_module": "@jupyter-widgets/base",
            "_model_module_version": "1.2.0",
            "_model_name": "LayoutModel",
            "_view_count": null,
            "_view_module": "@jupyter-widgets/base",
            "_view_module_version": "1.2.0",
            "_view_name": "LayoutView",
            "align_content": null,
            "align_items": null,
            "align_self": null,
            "border": null,
            "bottom": null,
            "display": null,
            "flex": null,
            "flex_flow": null,
            "grid_area": null,
            "grid_auto_columns": null,
            "grid_auto_flow": null,
            "grid_auto_rows": null,
            "grid_column": null,
            "grid_gap": null,
            "grid_row": null,
            "grid_template_areas": null,
            "grid_template_columns": null,
            "grid_template_rows": null,
            "height": null,
            "justify_content": null,
            "justify_items": null,
            "left": null,
            "margin": null,
            "max_height": null,
            "max_width": null,
            "min_height": null,
            "min_width": null,
            "object_fit": null,
            "object_position": null,
            "order": null,
            "overflow": null,
            "overflow_x": null,
            "overflow_y": null,
            "padding": null,
            "right": null,
            "top": null,
            "visibility": null,
            "width": null
          }
        },
        "268163c1b66647d5bfcb4a4aac745b2f": {
          "model_module": "@jupyter-widgets/controls",
          "model_name": "ProgressStyleModel",
          "model_module_version": "1.5.0",
          "state": {
            "_model_module": "@jupyter-widgets/controls",
            "_model_module_version": "1.5.0",
            "_model_name": "ProgressStyleModel",
            "_view_count": null,
            "_view_module": "@jupyter-widgets/base",
            "_view_module_version": "1.2.0",
            "_view_name": "StyleView",
            "bar_color": null,
            "description_width": ""
          }
        },
        "7d60d1fa66114ef5acbe01539516adea": {
          "model_module": "@jupyter-widgets/base",
          "model_name": "LayoutModel",
          "model_module_version": "1.2.0",
          "state": {
            "_model_module": "@jupyter-widgets/base",
            "_model_module_version": "1.2.0",
            "_model_name": "LayoutModel",
            "_view_count": null,
            "_view_module": "@jupyter-widgets/base",
            "_view_module_version": "1.2.0",
            "_view_name": "LayoutView",
            "align_content": null,
            "align_items": null,
            "align_self": null,
            "border": null,
            "bottom": null,
            "display": null,
            "flex": null,
            "flex_flow": null,
            "grid_area": null,
            "grid_auto_columns": null,
            "grid_auto_flow": null,
            "grid_auto_rows": null,
            "grid_column": null,
            "grid_gap": null,
            "grid_row": null,
            "grid_template_areas": null,
            "grid_template_columns": null,
            "grid_template_rows": null,
            "height": null,
            "justify_content": null,
            "justify_items": null,
            "left": null,
            "margin": null,
            "max_height": null,
            "max_width": null,
            "min_height": null,
            "min_width": null,
            "object_fit": null,
            "object_position": null,
            "order": null,
            "overflow": null,
            "overflow_x": null,
            "overflow_y": null,
            "padding": null,
            "right": null,
            "top": null,
            "visibility": null,
            "width": null
          }
        },
        "94acf2f50c0742f1bad3ffb6f221a8ec": {
          "model_module": "@jupyter-widgets/controls",
          "model_name": "DescriptionStyleModel",
          "model_module_version": "1.5.0",
          "state": {
            "_model_module": "@jupyter-widgets/controls",
            "_model_module_version": "1.5.0",
            "_model_name": "DescriptionStyleModel",
            "_view_count": null,
            "_view_module": "@jupyter-widgets/base",
            "_view_module_version": "1.2.0",
            "_view_name": "StyleView",
            "description_width": ""
          }
        },
        "acb4ea604f3b48f7993d401396b91284": {
          "model_module": "@jupyter-widgets/controls",
          "model_name": "HBoxModel",
          "model_module_version": "1.5.0",
          "state": {
            "_dom_classes": [],
            "_model_module": "@jupyter-widgets/controls",
            "_model_module_version": "1.5.0",
            "_model_name": "HBoxModel",
            "_view_count": null,
            "_view_module": "@jupyter-widgets/controls",
            "_view_module_version": "1.5.0",
            "_view_name": "HBoxView",
            "box_style": "",
            "children": [
              "IPY_MODEL_8f253bc2d21b419cb8a23d0962c173d6",
              "IPY_MODEL_f6c05f732e2b439db71057eb762cb3f9",
              "IPY_MODEL_5516d5d8312b429da13df94dff7c1adc"
            ],
            "layout": "IPY_MODEL_14e763f47f9641049285466a14f864a2"
          }
        },
        "8f253bc2d21b419cb8a23d0962c173d6": {
          "model_module": "@jupyter-widgets/controls",
          "model_name": "HTMLModel",
          "model_module_version": "1.5.0",
          "state": {
            "_dom_classes": [],
            "_model_module": "@jupyter-widgets/controls",
            "_model_module_version": "1.5.0",
            "_model_name": "HTMLModel",
            "_view_count": null,
            "_view_module": "@jupyter-widgets/controls",
            "_view_module_version": "1.5.0",
            "_view_name": "HTMLView",
            "description": "",
            "description_tooltip": null,
            "layout": "IPY_MODEL_f0ff860655cc423caa4c1477c82d0ead",
            "placeholder": "​",
            "style": "IPY_MODEL_6da312966ae2497ca174099986030500",
            "value": "Downloading (…)okenizer_config.json: 100%"
          }
        },
        "f6c05f732e2b439db71057eb762cb3f9": {
          "model_module": "@jupyter-widgets/controls",
          "model_name": "FloatProgressModel",
          "model_module_version": "1.5.0",
          "state": {
            "_dom_classes": [],
            "_model_module": "@jupyter-widgets/controls",
            "_model_module_version": "1.5.0",
            "_model_name": "FloatProgressModel",
            "_view_count": null,
            "_view_module": "@jupyter-widgets/controls",
            "_view_module_version": "1.5.0",
            "_view_name": "ProgressView",
            "bar_style": "success",
            "description": "",
            "description_tooltip": null,
            "layout": "IPY_MODEL_619a4d6b1b6b40148a50f487b78d6e2a",
            "max": 28,
            "min": 0,
            "orientation": "horizontal",
            "style": "IPY_MODEL_074bf6c6fe344274bdfa7ae64b781ac0",
            "value": 28
          }
        },
        "5516d5d8312b429da13df94dff7c1adc": {
          "model_module": "@jupyter-widgets/controls",
          "model_name": "HTMLModel",
          "model_module_version": "1.5.0",
          "state": {
            "_dom_classes": [],
            "_model_module": "@jupyter-widgets/controls",
            "_model_module_version": "1.5.0",
            "_model_name": "HTMLModel",
            "_view_count": null,
            "_view_module": "@jupyter-widgets/controls",
            "_view_module_version": "1.5.0",
            "_view_name": "HTMLView",
            "description": "",
            "description_tooltip": null,
            "layout": "IPY_MODEL_f695630825cd45f384f60411ab0930c9",
            "placeholder": "​",
            "style": "IPY_MODEL_539d313484104692bcdd7161a038da3c",
            "value": " 28.0/28.0 [00:00&lt;00:00, 397B/s]"
          }
        },
        "14e763f47f9641049285466a14f864a2": {
          "model_module": "@jupyter-widgets/base",
          "model_name": "LayoutModel",
          "model_module_version": "1.2.0",
          "state": {
            "_model_module": "@jupyter-widgets/base",
            "_model_module_version": "1.2.0",
            "_model_name": "LayoutModel",
            "_view_count": null,
            "_view_module": "@jupyter-widgets/base",
            "_view_module_version": "1.2.0",
            "_view_name": "LayoutView",
            "align_content": null,
            "align_items": null,
            "align_self": null,
            "border": null,
            "bottom": null,
            "display": null,
            "flex": null,
            "flex_flow": null,
            "grid_area": null,
            "grid_auto_columns": null,
            "grid_auto_flow": null,
            "grid_auto_rows": null,
            "grid_column": null,
            "grid_gap": null,
            "grid_row": null,
            "grid_template_areas": null,
            "grid_template_columns": null,
            "grid_template_rows": null,
            "height": null,
            "justify_content": null,
            "justify_items": null,
            "left": null,
            "margin": null,
            "max_height": null,
            "max_width": null,
            "min_height": null,
            "min_width": null,
            "object_fit": null,
            "object_position": null,
            "order": null,
            "overflow": null,
            "overflow_x": null,
            "overflow_y": null,
            "padding": null,
            "right": null,
            "top": null,
            "visibility": null,
            "width": null
          }
        },
        "f0ff860655cc423caa4c1477c82d0ead": {
          "model_module": "@jupyter-widgets/base",
          "model_name": "LayoutModel",
          "model_module_version": "1.2.0",
          "state": {
            "_model_module": "@jupyter-widgets/base",
            "_model_module_version": "1.2.0",
            "_model_name": "LayoutModel",
            "_view_count": null,
            "_view_module": "@jupyter-widgets/base",
            "_view_module_version": "1.2.0",
            "_view_name": "LayoutView",
            "align_content": null,
            "align_items": null,
            "align_self": null,
            "border": null,
            "bottom": null,
            "display": null,
            "flex": null,
            "flex_flow": null,
            "grid_area": null,
            "grid_auto_columns": null,
            "grid_auto_flow": null,
            "grid_auto_rows": null,
            "grid_column": null,
            "grid_gap": null,
            "grid_row": null,
            "grid_template_areas": null,
            "grid_template_columns": null,
            "grid_template_rows": null,
            "height": null,
            "justify_content": null,
            "justify_items": null,
            "left": null,
            "margin": null,
            "max_height": null,
            "max_width": null,
            "min_height": null,
            "min_width": null,
            "object_fit": null,
            "object_position": null,
            "order": null,
            "overflow": null,
            "overflow_x": null,
            "overflow_y": null,
            "padding": null,
            "right": null,
            "top": null,
            "visibility": null,
            "width": null
          }
        },
        "6da312966ae2497ca174099986030500": {
          "model_module": "@jupyter-widgets/controls",
          "model_name": "DescriptionStyleModel",
          "model_module_version": "1.5.0",
          "state": {
            "_model_module": "@jupyter-widgets/controls",
            "_model_module_version": "1.5.0",
            "_model_name": "DescriptionStyleModel",
            "_view_count": null,
            "_view_module": "@jupyter-widgets/base",
            "_view_module_version": "1.2.0",
            "_view_name": "StyleView",
            "description_width": ""
          }
        },
        "619a4d6b1b6b40148a50f487b78d6e2a": {
          "model_module": "@jupyter-widgets/base",
          "model_name": "LayoutModel",
          "model_module_version": "1.2.0",
          "state": {
            "_model_module": "@jupyter-widgets/base",
            "_model_module_version": "1.2.0",
            "_model_name": "LayoutModel",
            "_view_count": null,
            "_view_module": "@jupyter-widgets/base",
            "_view_module_version": "1.2.0",
            "_view_name": "LayoutView",
            "align_content": null,
            "align_items": null,
            "align_self": null,
            "border": null,
            "bottom": null,
            "display": null,
            "flex": null,
            "flex_flow": null,
            "grid_area": null,
            "grid_auto_columns": null,
            "grid_auto_flow": null,
            "grid_auto_rows": null,
            "grid_column": null,
            "grid_gap": null,
            "grid_row": null,
            "grid_template_areas": null,
            "grid_template_columns": null,
            "grid_template_rows": null,
            "height": null,
            "justify_content": null,
            "justify_items": null,
            "left": null,
            "margin": null,
            "max_height": null,
            "max_width": null,
            "min_height": null,
            "min_width": null,
            "object_fit": null,
            "object_position": null,
            "order": null,
            "overflow": null,
            "overflow_x": null,
            "overflow_y": null,
            "padding": null,
            "right": null,
            "top": null,
            "visibility": null,
            "width": null
          }
        },
        "074bf6c6fe344274bdfa7ae64b781ac0": {
          "model_module": "@jupyter-widgets/controls",
          "model_name": "ProgressStyleModel",
          "model_module_version": "1.5.0",
          "state": {
            "_model_module": "@jupyter-widgets/controls",
            "_model_module_version": "1.5.0",
            "_model_name": "ProgressStyleModel",
            "_view_count": null,
            "_view_module": "@jupyter-widgets/base",
            "_view_module_version": "1.2.0",
            "_view_name": "StyleView",
            "bar_color": null,
            "description_width": ""
          }
        },
        "f695630825cd45f384f60411ab0930c9": {
          "model_module": "@jupyter-widgets/base",
          "model_name": "LayoutModel",
          "model_module_version": "1.2.0",
          "state": {
            "_model_module": "@jupyter-widgets/base",
            "_model_module_version": "1.2.0",
            "_model_name": "LayoutModel",
            "_view_count": null,
            "_view_module": "@jupyter-widgets/base",
            "_view_module_version": "1.2.0",
            "_view_name": "LayoutView",
            "align_content": null,
            "align_items": null,
            "align_self": null,
            "border": null,
            "bottom": null,
            "display": null,
            "flex": null,
            "flex_flow": null,
            "grid_area": null,
            "grid_auto_columns": null,
            "grid_auto_flow": null,
            "grid_auto_rows": null,
            "grid_column": null,
            "grid_gap": null,
            "grid_row": null,
            "grid_template_areas": null,
            "grid_template_columns": null,
            "grid_template_rows": null,
            "height": null,
            "justify_content": null,
            "justify_items": null,
            "left": null,
            "margin": null,
            "max_height": null,
            "max_width": null,
            "min_height": null,
            "min_width": null,
            "object_fit": null,
            "object_position": null,
            "order": null,
            "overflow": null,
            "overflow_x": null,
            "overflow_y": null,
            "padding": null,
            "right": null,
            "top": null,
            "visibility": null,
            "width": null
          }
        },
        "539d313484104692bcdd7161a038da3c": {
          "model_module": "@jupyter-widgets/controls",
          "model_name": "DescriptionStyleModel",
          "model_module_version": "1.5.0",
          "state": {
            "_model_module": "@jupyter-widgets/controls",
            "_model_module_version": "1.5.0",
            "_model_name": "DescriptionStyleModel",
            "_view_count": null,
            "_view_module": "@jupyter-widgets/base",
            "_view_module_version": "1.2.0",
            "_view_name": "StyleView",
            "description_width": ""
          }
        },
        "b7b51b7c033948b1b5293c22bd6e3046": {
          "model_module": "@jupyter-widgets/controls",
          "model_name": "HBoxModel",
          "model_module_version": "1.5.0",
          "state": {
            "_dom_classes": [],
            "_model_module": "@jupyter-widgets/controls",
            "_model_module_version": "1.5.0",
            "_model_name": "HBoxModel",
            "_view_count": null,
            "_view_module": "@jupyter-widgets/controls",
            "_view_module_version": "1.5.0",
            "_view_name": "HBoxView",
            "box_style": "",
            "children": [
              "IPY_MODEL_e1c7b490499942f9a287713c2eeddea5",
              "IPY_MODEL_0fbb69e971894a3294c6c521337f3bd5",
              "IPY_MODEL_7c17b0410d2248419bb37dc77f6d0530"
            ],
            "layout": "IPY_MODEL_e817d2008c68421290c2c017155ee48a"
          }
        },
        "e1c7b490499942f9a287713c2eeddea5": {
          "model_module": "@jupyter-widgets/controls",
          "model_name": "HTMLModel",
          "model_module_version": "1.5.0",
          "state": {
            "_dom_classes": [],
            "_model_module": "@jupyter-widgets/controls",
            "_model_module_version": "1.5.0",
            "_model_name": "HTMLModel",
            "_view_count": null,
            "_view_module": "@jupyter-widgets/controls",
            "_view_module_version": "1.5.0",
            "_view_name": "HTMLView",
            "description": "",
            "description_tooltip": null,
            "layout": "IPY_MODEL_dbd9774ff7cd46b586d14afb39fe89d4",
            "placeholder": "​",
            "style": "IPY_MODEL_69e19f86d23147d6acd3e10fde7d08a4",
            "value": "Downloading (…)lve/main/config.json: 100%"
          }
        },
        "0fbb69e971894a3294c6c521337f3bd5": {
          "model_module": "@jupyter-widgets/controls",
          "model_name": "FloatProgressModel",
          "model_module_version": "1.5.0",
          "state": {
            "_dom_classes": [],
            "_model_module": "@jupyter-widgets/controls",
            "_model_module_version": "1.5.0",
            "_model_name": "FloatProgressModel",
            "_view_count": null,
            "_view_module": "@jupyter-widgets/controls",
            "_view_module_version": "1.5.0",
            "_view_name": "ProgressView",
            "bar_style": "success",
            "description": "",
            "description_tooltip": null,
            "layout": "IPY_MODEL_d7fcfd2d6de84b49b4085d118c3d3cdc",
            "max": 570,
            "min": 0,
            "orientation": "horizontal",
            "style": "IPY_MODEL_c6d0ee5230d5498a85588377993816ba",
            "value": 570
          }
        },
        "7c17b0410d2248419bb37dc77f6d0530": {
          "model_module": "@jupyter-widgets/controls",
          "model_name": "HTMLModel",
          "model_module_version": "1.5.0",
          "state": {
            "_dom_classes": [],
            "_model_module": "@jupyter-widgets/controls",
            "_model_module_version": "1.5.0",
            "_model_name": "HTMLModel",
            "_view_count": null,
            "_view_module": "@jupyter-widgets/controls",
            "_view_module_version": "1.5.0",
            "_view_name": "HTMLView",
            "description": "",
            "description_tooltip": null,
            "layout": "IPY_MODEL_b5e939ed8d054fd9aa6bf91121c54e50",
            "placeholder": "​",
            "style": "IPY_MODEL_49900089d61b4012852d66cc7d9fd947",
            "value": " 570/570 [00:00&lt;00:00, 5.27kB/s]"
          }
        },
        "e817d2008c68421290c2c017155ee48a": {
          "model_module": "@jupyter-widgets/base",
          "model_name": "LayoutModel",
          "model_module_version": "1.2.0",
          "state": {
            "_model_module": "@jupyter-widgets/base",
            "_model_module_version": "1.2.0",
            "_model_name": "LayoutModel",
            "_view_count": null,
            "_view_module": "@jupyter-widgets/base",
            "_view_module_version": "1.2.0",
            "_view_name": "LayoutView",
            "align_content": null,
            "align_items": null,
            "align_self": null,
            "border": null,
            "bottom": null,
            "display": null,
            "flex": null,
            "flex_flow": null,
            "grid_area": null,
            "grid_auto_columns": null,
            "grid_auto_flow": null,
            "grid_auto_rows": null,
            "grid_column": null,
            "grid_gap": null,
            "grid_row": null,
            "grid_template_areas": null,
            "grid_template_columns": null,
            "grid_template_rows": null,
            "height": null,
            "justify_content": null,
            "justify_items": null,
            "left": null,
            "margin": null,
            "max_height": null,
            "max_width": null,
            "min_height": null,
            "min_width": null,
            "object_fit": null,
            "object_position": null,
            "order": null,
            "overflow": null,
            "overflow_x": null,
            "overflow_y": null,
            "padding": null,
            "right": null,
            "top": null,
            "visibility": null,
            "width": null
          }
        },
        "dbd9774ff7cd46b586d14afb39fe89d4": {
          "model_module": "@jupyter-widgets/base",
          "model_name": "LayoutModel",
          "model_module_version": "1.2.0",
          "state": {
            "_model_module": "@jupyter-widgets/base",
            "_model_module_version": "1.2.0",
            "_model_name": "LayoutModel",
            "_view_count": null,
            "_view_module": "@jupyter-widgets/base",
            "_view_module_version": "1.2.0",
            "_view_name": "LayoutView",
            "align_content": null,
            "align_items": null,
            "align_self": null,
            "border": null,
            "bottom": null,
            "display": null,
            "flex": null,
            "flex_flow": null,
            "grid_area": null,
            "grid_auto_columns": null,
            "grid_auto_flow": null,
            "grid_auto_rows": null,
            "grid_column": null,
            "grid_gap": null,
            "grid_row": null,
            "grid_template_areas": null,
            "grid_template_columns": null,
            "grid_template_rows": null,
            "height": null,
            "justify_content": null,
            "justify_items": null,
            "left": null,
            "margin": null,
            "max_height": null,
            "max_width": null,
            "min_height": null,
            "min_width": null,
            "object_fit": null,
            "object_position": null,
            "order": null,
            "overflow": null,
            "overflow_x": null,
            "overflow_y": null,
            "padding": null,
            "right": null,
            "top": null,
            "visibility": null,
            "width": null
          }
        },
        "69e19f86d23147d6acd3e10fde7d08a4": {
          "model_module": "@jupyter-widgets/controls",
          "model_name": "DescriptionStyleModel",
          "model_module_version": "1.5.0",
          "state": {
            "_model_module": "@jupyter-widgets/controls",
            "_model_module_version": "1.5.0",
            "_model_name": "DescriptionStyleModel",
            "_view_count": null,
            "_view_module": "@jupyter-widgets/base",
            "_view_module_version": "1.2.0",
            "_view_name": "StyleView",
            "description_width": ""
          }
        },
        "d7fcfd2d6de84b49b4085d118c3d3cdc": {
          "model_module": "@jupyter-widgets/base",
          "model_name": "LayoutModel",
          "model_module_version": "1.2.0",
          "state": {
            "_model_module": "@jupyter-widgets/base",
            "_model_module_version": "1.2.0",
            "_model_name": "LayoutModel",
            "_view_count": null,
            "_view_module": "@jupyter-widgets/base",
            "_view_module_version": "1.2.0",
            "_view_name": "LayoutView",
            "align_content": null,
            "align_items": null,
            "align_self": null,
            "border": null,
            "bottom": null,
            "display": null,
            "flex": null,
            "flex_flow": null,
            "grid_area": null,
            "grid_auto_columns": null,
            "grid_auto_flow": null,
            "grid_auto_rows": null,
            "grid_column": null,
            "grid_gap": null,
            "grid_row": null,
            "grid_template_areas": null,
            "grid_template_columns": null,
            "grid_template_rows": null,
            "height": null,
            "justify_content": null,
            "justify_items": null,
            "left": null,
            "margin": null,
            "max_height": null,
            "max_width": null,
            "min_height": null,
            "min_width": null,
            "object_fit": null,
            "object_position": null,
            "order": null,
            "overflow": null,
            "overflow_x": null,
            "overflow_y": null,
            "padding": null,
            "right": null,
            "top": null,
            "visibility": null,
            "width": null
          }
        },
        "c6d0ee5230d5498a85588377993816ba": {
          "model_module": "@jupyter-widgets/controls",
          "model_name": "ProgressStyleModel",
          "model_module_version": "1.5.0",
          "state": {
            "_model_module": "@jupyter-widgets/controls",
            "_model_module_version": "1.5.0",
            "_model_name": "ProgressStyleModel",
            "_view_count": null,
            "_view_module": "@jupyter-widgets/base",
            "_view_module_version": "1.2.0",
            "_view_name": "StyleView",
            "bar_color": null,
            "description_width": ""
          }
        },
        "b5e939ed8d054fd9aa6bf91121c54e50": {
          "model_module": "@jupyter-widgets/base",
          "model_name": "LayoutModel",
          "model_module_version": "1.2.0",
          "state": {
            "_model_module": "@jupyter-widgets/base",
            "_model_module_version": "1.2.0",
            "_model_name": "LayoutModel",
            "_view_count": null,
            "_view_module": "@jupyter-widgets/base",
            "_view_module_version": "1.2.0",
            "_view_name": "LayoutView",
            "align_content": null,
            "align_items": null,
            "align_self": null,
            "border": null,
            "bottom": null,
            "display": null,
            "flex": null,
            "flex_flow": null,
            "grid_area": null,
            "grid_auto_columns": null,
            "grid_auto_flow": null,
            "grid_auto_rows": null,
            "grid_column": null,
            "grid_gap": null,
            "grid_row": null,
            "grid_template_areas": null,
            "grid_template_columns": null,
            "grid_template_rows": null,
            "height": null,
            "justify_content": null,
            "justify_items": null,
            "left": null,
            "margin": null,
            "max_height": null,
            "max_width": null,
            "min_height": null,
            "min_width": null,
            "object_fit": null,
            "object_position": null,
            "order": null,
            "overflow": null,
            "overflow_x": null,
            "overflow_y": null,
            "padding": null,
            "right": null,
            "top": null,
            "visibility": null,
            "width": null
          }
        },
        "49900089d61b4012852d66cc7d9fd947": {
          "model_module": "@jupyter-widgets/controls",
          "model_name": "DescriptionStyleModel",
          "model_module_version": "1.5.0",
          "state": {
            "_model_module": "@jupyter-widgets/controls",
            "_model_module_version": "1.5.0",
            "_model_name": "DescriptionStyleModel",
            "_view_count": null,
            "_view_module": "@jupyter-widgets/base",
            "_view_module_version": "1.2.0",
            "_view_name": "StyleView",
            "description_width": ""
          }
        }
      }
    }
  },
  "cells": [
    {
      "cell_type": "markdown",
      "metadata": {
        "id": "view-in-github",
        "colab_type": "text"
      },
      "source": [
        "<a href=\"https://colab.research.google.com/github/alfinmaulani/skripsi2/blob/main/BERT.ipynb\" target=\"_parent\"><img src=\"https://colab.research.google.com/assets/colab-badge.svg\" alt=\"Open In Colab\"/></a>"
      ]
    },
    {
      "cell_type": "code",
      "execution_count": 1,
      "metadata": {
        "id": "azsaS9qX8ZUI"
      },
      "outputs": [],
      "source": [
        "import pandas as pd\n",
        "import numpy as np"
      ]
    },
    {
      "cell_type": "code",
      "source": [
        "from google.colab import drive\n",
        "drive.mount('/content/drive')"
      ],
      "metadata": {
        "id": "WO7jTTXu8b9s"
      },
      "execution_count": null,
      "outputs": []
    },
    {
      "cell_type": "code",
      "source": [
        "!pip install transformers"
      ],
      "metadata": {
        "id": "pKmN3MSCr53g",
        "colab": {
          "base_uri": "https://localhost:8080/"
        },
        "outputId": "38ae6673-5148-41da-a299-74a1b7fbe36e"
      },
      "execution_count": 2,
      "outputs": [
        {
          "output_type": "stream",
          "name": "stdout",
          "text": [
            "Looking in indexes: https://pypi.org/simple, https://us-python.pkg.dev/colab-wheels/public/simple/\n",
            "Collecting transformers\n",
            "  Downloading transformers-4.30.2-py3-none-any.whl (7.2 MB)\n",
            "\u001b[2K     \u001b[90m━━━━━━━━━━━━━━━━━━━━━━━━━━━━━━━━━━━━━━━━\u001b[0m \u001b[32m7.2/7.2 MB\u001b[0m \u001b[31m70.0 MB/s\u001b[0m eta \u001b[36m0:00:00\u001b[0m\n",
            "\u001b[?25hRequirement already satisfied: filelock in /usr/local/lib/python3.10/dist-packages (from transformers) (3.12.0)\n",
            "Collecting huggingface-hub<1.0,>=0.14.1 (from transformers)\n",
            "  Downloading huggingface_hub-0.15.1-py3-none-any.whl (236 kB)\n",
            "\u001b[2K     \u001b[90m━━━━━━━━━━━━━━━━━━━━━━━━━━━━━━━━━━━━━━\u001b[0m \u001b[32m236.8/236.8 kB\u001b[0m \u001b[31m14.4 MB/s\u001b[0m eta \u001b[36m0:00:00\u001b[0m\n",
            "\u001b[?25hRequirement already satisfied: numpy>=1.17 in /usr/local/lib/python3.10/dist-packages (from transformers) (1.22.4)\n",
            "Requirement already satisfied: packaging>=20.0 in /usr/local/lib/python3.10/dist-packages (from transformers) (23.1)\n",
            "Requirement already satisfied: pyyaml>=5.1 in /usr/local/lib/python3.10/dist-packages (from transformers) (6.0)\n",
            "Requirement already satisfied: regex!=2019.12.17 in /usr/local/lib/python3.10/dist-packages (from transformers) (2022.10.31)\n",
            "Requirement already satisfied: requests in /usr/local/lib/python3.10/dist-packages (from transformers) (2.27.1)\n",
            "Collecting tokenizers!=0.11.3,<0.14,>=0.11.1 (from transformers)\n",
            "  Downloading tokenizers-0.13.3-cp310-cp310-manylinux_2_17_x86_64.manylinux2014_x86_64.whl (7.8 MB)\n",
            "\u001b[2K     \u001b[90m━━━━━━━━━━━━━━━━━━━━━━━━━━━━━━━━━━━━━━━━\u001b[0m \u001b[32m7.8/7.8 MB\u001b[0m \u001b[31m72.0 MB/s\u001b[0m eta \u001b[36m0:00:00\u001b[0m\n",
            "\u001b[?25hCollecting safetensors>=0.3.1 (from transformers)\n",
            "  Downloading safetensors-0.3.1-cp310-cp310-manylinux_2_17_x86_64.manylinux2014_x86_64.whl (1.3 MB)\n",
            "\u001b[2K     \u001b[90m━━━━━━━━━━━━━━━━━━━━━━━━━━━━━━━━━━━━━━━━\u001b[0m \u001b[32m1.3/1.3 MB\u001b[0m \u001b[31m35.5 MB/s\u001b[0m eta \u001b[36m0:00:00\u001b[0m\n",
            "\u001b[?25hRequirement already satisfied: tqdm>=4.27 in /usr/local/lib/python3.10/dist-packages (from transformers) (4.65.0)\n",
            "Requirement already satisfied: fsspec in /usr/local/lib/python3.10/dist-packages (from huggingface-hub<1.0,>=0.14.1->transformers) (2023.4.0)\n",
            "Requirement already satisfied: typing-extensions>=3.7.4.3 in /usr/local/lib/python3.10/dist-packages (from huggingface-hub<1.0,>=0.14.1->transformers) (4.5.0)\n",
            "Requirement already satisfied: urllib3<1.27,>=1.21.1 in /usr/local/lib/python3.10/dist-packages (from requests->transformers) (1.26.15)\n",
            "Requirement already satisfied: certifi>=2017.4.17 in /usr/local/lib/python3.10/dist-packages (from requests->transformers) (2022.12.7)\n",
            "Requirement already satisfied: charset-normalizer~=2.0.0 in /usr/local/lib/python3.10/dist-packages (from requests->transformers) (2.0.12)\n",
            "Requirement already satisfied: idna<4,>=2.5 in /usr/local/lib/python3.10/dist-packages (from requests->transformers) (3.4)\n",
            "Installing collected packages: tokenizers, safetensors, huggingface-hub, transformers\n",
            "Successfully installed huggingface-hub-0.15.1 safetensors-0.3.1 tokenizers-0.13.3 transformers-4.30.2\n"
          ]
        }
      ]
    },
    {
      "cell_type": "code",
      "source": [
        "import torch\n",
        "\n",
        "if torch.cuda.is_available():\n",
        "  # device = torch.device('cuda')\n",
        "\n",
        "  print('there are %d GPU(s) available.' % torch.cuda.device_count())\n",
        "\n",
        "  print('we will use the GPU: ', torch.cuda.get_device_name(0))\n",
        "\n",
        "else:\n",
        "  print(\"No GPU available, using the CPU instead\")\n",
        "  device = torch.device(\"cpu\")"
      ],
      "metadata": {
        "colab": {
          "base_uri": "https://localhost:8080/"
        },
        "id": "Yqpz4joDEjX5",
        "outputId": "1a0b8c22-91a8-46e0-8139-dcacab6d6a68"
      },
      "execution_count": 3,
      "outputs": [
        {
          "output_type": "stream",
          "name": "stdout",
          "text": [
            "No GPU available, using the CPU instead\n"
          ]
        }
      ]
    },
    {
      "cell_type": "code",
      "source": [
        "korpusgabung='/content/drive/MyDrive/fake news/beritapalsugabung.csv'\n",
        "df=pd.read_csv(korpusgabung)\n",
        "# df.columns=['teks']"
      ],
      "metadata": {
        "id": "ES4hdmSz8j1w"
      },
      "execution_count": 4,
      "outputs": []
    },
    {
      "cell_type": "code",
      "source": [
        "df"
      ],
      "metadata": {
        "colab": {
          "base_uri": "https://localhost:8080/",
          "height": 424
        },
        "id": "-f2zgTV8854y",
        "outputId": "3c8460e4-3f44-4b69-fa75-47a5eedfe400"
      },
      "execution_count": 5,
      "outputs": [
        {
          "output_type": "execute_result",
          "data": {
            "text/plain": [
              "                                                    text  label\n",
              "0      Donald Trump just couldn t wish all Americans ...      0\n",
              "1      House Intelligence Committee Chairman Devin Nu...      0\n",
              "2      On Friday, it was revealed that former Milwauk...      0\n",
              "3      On Christmas day, Donald Trump announced that ...      0\n",
              "4      Pope Francis used his annual Christmas Day mes...      0\n",
              "...                                                  ...    ...\n",
              "44893  BRUSSELS (Reuters) - NATO allies on Tuesday we...      1\n",
              "44894  LONDON (Reuters) - LexisNexis, a provider of l...      1\n",
              "44895  MINSK (Reuters) - In the shadow of disused Sov...      1\n",
              "44896  MOSCOW (Reuters) - Vatican Secretary of State ...      1\n",
              "44897  JAKARTA (Reuters) - Indonesia will buy 11 Sukh...      1\n",
              "\n",
              "[44898 rows x 2 columns]"
            ],
            "text/html": [
              "\n",
              "  <div id=\"df-1df031d7-f935-45ac-98f6-b7897adae92e\">\n",
              "    <div class=\"colab-df-container\">\n",
              "      <div>\n",
              "<style scoped>\n",
              "    .dataframe tbody tr th:only-of-type {\n",
              "        vertical-align: middle;\n",
              "    }\n",
              "\n",
              "    .dataframe tbody tr th {\n",
              "        vertical-align: top;\n",
              "    }\n",
              "\n",
              "    .dataframe thead th {\n",
              "        text-align: right;\n",
              "    }\n",
              "</style>\n",
              "<table border=\"1\" class=\"dataframe\">\n",
              "  <thead>\n",
              "    <tr style=\"text-align: right;\">\n",
              "      <th></th>\n",
              "      <th>text</th>\n",
              "      <th>label</th>\n",
              "    </tr>\n",
              "  </thead>\n",
              "  <tbody>\n",
              "    <tr>\n",
              "      <th>0</th>\n",
              "      <td>Donald Trump just couldn t wish all Americans ...</td>\n",
              "      <td>0</td>\n",
              "    </tr>\n",
              "    <tr>\n",
              "      <th>1</th>\n",
              "      <td>House Intelligence Committee Chairman Devin Nu...</td>\n",
              "      <td>0</td>\n",
              "    </tr>\n",
              "    <tr>\n",
              "      <th>2</th>\n",
              "      <td>On Friday, it was revealed that former Milwauk...</td>\n",
              "      <td>0</td>\n",
              "    </tr>\n",
              "    <tr>\n",
              "      <th>3</th>\n",
              "      <td>On Christmas day, Donald Trump announced that ...</td>\n",
              "      <td>0</td>\n",
              "    </tr>\n",
              "    <tr>\n",
              "      <th>4</th>\n",
              "      <td>Pope Francis used his annual Christmas Day mes...</td>\n",
              "      <td>0</td>\n",
              "    </tr>\n",
              "    <tr>\n",
              "      <th>...</th>\n",
              "      <td>...</td>\n",
              "      <td>...</td>\n",
              "    </tr>\n",
              "    <tr>\n",
              "      <th>44893</th>\n",
              "      <td>BRUSSELS (Reuters) - NATO allies on Tuesday we...</td>\n",
              "      <td>1</td>\n",
              "    </tr>\n",
              "    <tr>\n",
              "      <th>44894</th>\n",
              "      <td>LONDON (Reuters) - LexisNexis, a provider of l...</td>\n",
              "      <td>1</td>\n",
              "    </tr>\n",
              "    <tr>\n",
              "      <th>44895</th>\n",
              "      <td>MINSK (Reuters) - In the shadow of disused Sov...</td>\n",
              "      <td>1</td>\n",
              "    </tr>\n",
              "    <tr>\n",
              "      <th>44896</th>\n",
              "      <td>MOSCOW (Reuters) - Vatican Secretary of State ...</td>\n",
              "      <td>1</td>\n",
              "    </tr>\n",
              "    <tr>\n",
              "      <th>44897</th>\n",
              "      <td>JAKARTA (Reuters) - Indonesia will buy 11 Sukh...</td>\n",
              "      <td>1</td>\n",
              "    </tr>\n",
              "  </tbody>\n",
              "</table>\n",
              "<p>44898 rows × 2 columns</p>\n",
              "</div>\n",
              "      <button class=\"colab-df-convert\" onclick=\"convertToInteractive('df-1df031d7-f935-45ac-98f6-b7897adae92e')\"\n",
              "              title=\"Convert this dataframe to an interactive table.\"\n",
              "              style=\"display:none;\">\n",
              "        \n",
              "  <svg xmlns=\"http://www.w3.org/2000/svg\" height=\"24px\"viewBox=\"0 0 24 24\"\n",
              "       width=\"24px\">\n",
              "    <path d=\"M0 0h24v24H0V0z\" fill=\"none\"/>\n",
              "    <path d=\"M18.56 5.44l.94 2.06.94-2.06 2.06-.94-2.06-.94-.94-2.06-.94 2.06-2.06.94zm-11 1L8.5 8.5l.94-2.06 2.06-.94-2.06-.94L8.5 2.5l-.94 2.06-2.06.94zm10 10l.94 2.06.94-2.06 2.06-.94-2.06-.94-.94-2.06-.94 2.06-2.06.94z\"/><path d=\"M17.41 7.96l-1.37-1.37c-.4-.4-.92-.59-1.43-.59-.52 0-1.04.2-1.43.59L10.3 9.45l-7.72 7.72c-.78.78-.78 2.05 0 2.83L4 21.41c.39.39.9.59 1.41.59.51 0 1.02-.2 1.41-.59l7.78-7.78 2.81-2.81c.8-.78.8-2.07 0-2.86zM5.41 20L4 18.59l7.72-7.72 1.47 1.35L5.41 20z\"/>\n",
              "  </svg>\n",
              "      </button>\n",
              "      \n",
              "  <style>\n",
              "    .colab-df-container {\n",
              "      display:flex;\n",
              "      flex-wrap:wrap;\n",
              "      gap: 12px;\n",
              "    }\n",
              "\n",
              "    .colab-df-convert {\n",
              "      background-color: #E8F0FE;\n",
              "      border: none;\n",
              "      border-radius: 50%;\n",
              "      cursor: pointer;\n",
              "      display: none;\n",
              "      fill: #1967D2;\n",
              "      height: 32px;\n",
              "      padding: 0 0 0 0;\n",
              "      width: 32px;\n",
              "    }\n",
              "\n",
              "    .colab-df-convert:hover {\n",
              "      background-color: #E2EBFA;\n",
              "      box-shadow: 0px 1px 2px rgba(60, 64, 67, 0.3), 0px 1px 3px 1px rgba(60, 64, 67, 0.15);\n",
              "      fill: #174EA6;\n",
              "    }\n",
              "\n",
              "    [theme=dark] .colab-df-convert {\n",
              "      background-color: #3B4455;\n",
              "      fill: #D2E3FC;\n",
              "    }\n",
              "\n",
              "    [theme=dark] .colab-df-convert:hover {\n",
              "      background-color: #434B5C;\n",
              "      box-shadow: 0px 1px 3px 1px rgba(0, 0, 0, 0.15);\n",
              "      filter: drop-shadow(0px 1px 2px rgba(0, 0, 0, 0.3));\n",
              "      fill: #FFFFFF;\n",
              "    }\n",
              "  </style>\n",
              "\n",
              "      <script>\n",
              "        const buttonEl =\n",
              "          document.querySelector('#df-1df031d7-f935-45ac-98f6-b7897adae92e button.colab-df-convert');\n",
              "        buttonEl.style.display =\n",
              "          google.colab.kernel.accessAllowed ? 'block' : 'none';\n",
              "\n",
              "        async function convertToInteractive(key) {\n",
              "          const element = document.querySelector('#df-1df031d7-f935-45ac-98f6-b7897adae92e');\n",
              "          const dataTable =\n",
              "            await google.colab.kernel.invokeFunction('convertToInteractive',\n",
              "                                                     [key], {});\n",
              "          if (!dataTable) return;\n",
              "\n",
              "          const docLinkHtml = 'Like what you see? Visit the ' +\n",
              "            '<a target=\"_blank\" href=https://colab.research.google.com/notebooks/data_table.ipynb>data table notebook</a>'\n",
              "            + ' to learn more about interactive tables.';\n",
              "          element.innerHTML = '';\n",
              "          dataTable['output_type'] = 'display_data';\n",
              "          await google.colab.output.renderOutput(dataTable, element);\n",
              "          const docLink = document.createElement('div');\n",
              "          docLink.innerHTML = docLinkHtml;\n",
              "          element.appendChild(docLink);\n",
              "        }\n",
              "      </script>\n",
              "    </div>\n",
              "  </div>\n",
              "  "
            ]
          },
          "metadata": {},
          "execution_count": 5
        }
      ]
    },
    {
      "cell_type": "code",
      "source": [
        "df.shape"
      ],
      "metadata": {
        "colab": {
          "base_uri": "https://localhost:8080/"
        },
        "id": "E7vJYVxfFJeK",
        "outputId": "5ac71be0-ef75-49f8-84ab-fdaf53ab669c"
      },
      "execution_count": 6,
      "outputs": [
        {
          "output_type": "execute_result",
          "data": {
            "text/plain": [
              "(44898, 2)"
            ]
          },
          "metadata": {},
          "execution_count": 6
        }
      ]
    },
    {
      "cell_type": "code",
      "source": [
        "df = df.drop(df[df.label == 1].sample(frac=0.75).index)\n",
        "df = df.drop(df[df.label == 0].sample(frac=0.75).index)"
      ],
      "metadata": {
        "id": "RJBAZUIQaJDS"
      },
      "execution_count": 7,
      "outputs": []
    },
    {
      "cell_type": "code",
      "source": [
        "df"
      ],
      "metadata": {
        "id": "Mmc3bIvNev20",
        "outputId": "13a57695-5b63-487e-a7e5-1a828bed0bea",
        "colab": {
          "base_uri": "https://localhost:8080/",
          "height": 424
        }
      },
      "execution_count": 8,
      "outputs": [
        {
          "output_type": "execute_result",
          "data": {
            "text/plain": [
              "                                                    text  label\n",
              "0      Donald Trump just couldn t wish all Americans ...      0\n",
              "2      On Friday, it was revealed that former Milwauk...      0\n",
              "3      On Christmas day, Donald Trump announced that ...      0\n",
              "7      In the wake of yet another court decision that...      0\n",
              "11     Republicans are working overtime trying to sel...      0\n",
              "...                                                  ...    ...\n",
              "44879  SHANGHAI (Reuters) - An old review of an acade...      1\n",
              "44880  DUBAI (Reuters) - A 14-year-old boy who was de...      1\n",
              "44889  GENEVA (Reuters) - North Korea and the United ...      1\n",
              "44890  GENEVA (Reuters) - North Korea and the United ...      1\n",
              "44892  UNITED NATIONS (Reuters) - Two North Korean sh...      1\n",
              "\n",
              "[11224 rows x 2 columns]"
            ],
            "text/html": [
              "\n",
              "  <div id=\"df-8f29554e-9272-4d05-a96d-5d2b00336278\">\n",
              "    <div class=\"colab-df-container\">\n",
              "      <div>\n",
              "<style scoped>\n",
              "    .dataframe tbody tr th:only-of-type {\n",
              "        vertical-align: middle;\n",
              "    }\n",
              "\n",
              "    .dataframe tbody tr th {\n",
              "        vertical-align: top;\n",
              "    }\n",
              "\n",
              "    .dataframe thead th {\n",
              "        text-align: right;\n",
              "    }\n",
              "</style>\n",
              "<table border=\"1\" class=\"dataframe\">\n",
              "  <thead>\n",
              "    <tr style=\"text-align: right;\">\n",
              "      <th></th>\n",
              "      <th>text</th>\n",
              "      <th>label</th>\n",
              "    </tr>\n",
              "  </thead>\n",
              "  <tbody>\n",
              "    <tr>\n",
              "      <th>0</th>\n",
              "      <td>Donald Trump just couldn t wish all Americans ...</td>\n",
              "      <td>0</td>\n",
              "    </tr>\n",
              "    <tr>\n",
              "      <th>2</th>\n",
              "      <td>On Friday, it was revealed that former Milwauk...</td>\n",
              "      <td>0</td>\n",
              "    </tr>\n",
              "    <tr>\n",
              "      <th>3</th>\n",
              "      <td>On Christmas day, Donald Trump announced that ...</td>\n",
              "      <td>0</td>\n",
              "    </tr>\n",
              "    <tr>\n",
              "      <th>7</th>\n",
              "      <td>In the wake of yet another court decision that...</td>\n",
              "      <td>0</td>\n",
              "    </tr>\n",
              "    <tr>\n",
              "      <th>11</th>\n",
              "      <td>Republicans are working overtime trying to sel...</td>\n",
              "      <td>0</td>\n",
              "    </tr>\n",
              "    <tr>\n",
              "      <th>...</th>\n",
              "      <td>...</td>\n",
              "      <td>...</td>\n",
              "    </tr>\n",
              "    <tr>\n",
              "      <th>44879</th>\n",
              "      <td>SHANGHAI (Reuters) - An old review of an acade...</td>\n",
              "      <td>1</td>\n",
              "    </tr>\n",
              "    <tr>\n",
              "      <th>44880</th>\n",
              "      <td>DUBAI (Reuters) - A 14-year-old boy who was de...</td>\n",
              "      <td>1</td>\n",
              "    </tr>\n",
              "    <tr>\n",
              "      <th>44889</th>\n",
              "      <td>GENEVA (Reuters) - North Korea and the United ...</td>\n",
              "      <td>1</td>\n",
              "    </tr>\n",
              "    <tr>\n",
              "      <th>44890</th>\n",
              "      <td>GENEVA (Reuters) - North Korea and the United ...</td>\n",
              "      <td>1</td>\n",
              "    </tr>\n",
              "    <tr>\n",
              "      <th>44892</th>\n",
              "      <td>UNITED NATIONS (Reuters) - Two North Korean sh...</td>\n",
              "      <td>1</td>\n",
              "    </tr>\n",
              "  </tbody>\n",
              "</table>\n",
              "<p>11224 rows × 2 columns</p>\n",
              "</div>\n",
              "      <button class=\"colab-df-convert\" onclick=\"convertToInteractive('df-8f29554e-9272-4d05-a96d-5d2b00336278')\"\n",
              "              title=\"Convert this dataframe to an interactive table.\"\n",
              "              style=\"display:none;\">\n",
              "        \n",
              "  <svg xmlns=\"http://www.w3.org/2000/svg\" height=\"24px\"viewBox=\"0 0 24 24\"\n",
              "       width=\"24px\">\n",
              "    <path d=\"M0 0h24v24H0V0z\" fill=\"none\"/>\n",
              "    <path d=\"M18.56 5.44l.94 2.06.94-2.06 2.06-.94-2.06-.94-.94-2.06-.94 2.06-2.06.94zm-11 1L8.5 8.5l.94-2.06 2.06-.94-2.06-.94L8.5 2.5l-.94 2.06-2.06.94zm10 10l.94 2.06.94-2.06 2.06-.94-2.06-.94-.94-2.06-.94 2.06-2.06.94z\"/><path d=\"M17.41 7.96l-1.37-1.37c-.4-.4-.92-.59-1.43-.59-.52 0-1.04.2-1.43.59L10.3 9.45l-7.72 7.72c-.78.78-.78 2.05 0 2.83L4 21.41c.39.39.9.59 1.41.59.51 0 1.02-.2 1.41-.59l7.78-7.78 2.81-2.81c.8-.78.8-2.07 0-2.86zM5.41 20L4 18.59l7.72-7.72 1.47 1.35L5.41 20z\"/>\n",
              "  </svg>\n",
              "      </button>\n",
              "      \n",
              "  <style>\n",
              "    .colab-df-container {\n",
              "      display:flex;\n",
              "      flex-wrap:wrap;\n",
              "      gap: 12px;\n",
              "    }\n",
              "\n",
              "    .colab-df-convert {\n",
              "      background-color: #E8F0FE;\n",
              "      border: none;\n",
              "      border-radius: 50%;\n",
              "      cursor: pointer;\n",
              "      display: none;\n",
              "      fill: #1967D2;\n",
              "      height: 32px;\n",
              "      padding: 0 0 0 0;\n",
              "      width: 32px;\n",
              "    }\n",
              "\n",
              "    .colab-df-convert:hover {\n",
              "      background-color: #E2EBFA;\n",
              "      box-shadow: 0px 1px 2px rgba(60, 64, 67, 0.3), 0px 1px 3px 1px rgba(60, 64, 67, 0.15);\n",
              "      fill: #174EA6;\n",
              "    }\n",
              "\n",
              "    [theme=dark] .colab-df-convert {\n",
              "      background-color: #3B4455;\n",
              "      fill: #D2E3FC;\n",
              "    }\n",
              "\n",
              "    [theme=dark] .colab-df-convert:hover {\n",
              "      background-color: #434B5C;\n",
              "      box-shadow: 0px 1px 3px 1px rgba(0, 0, 0, 0.15);\n",
              "      filter: drop-shadow(0px 1px 2px rgba(0, 0, 0, 0.3));\n",
              "      fill: #FFFFFF;\n",
              "    }\n",
              "  </style>\n",
              "\n",
              "      <script>\n",
              "        const buttonEl =\n",
              "          document.querySelector('#df-8f29554e-9272-4d05-a96d-5d2b00336278 button.colab-df-convert');\n",
              "        buttonEl.style.display =\n",
              "          google.colab.kernel.accessAllowed ? 'block' : 'none';\n",
              "\n",
              "        async function convertToInteractive(key) {\n",
              "          const element = document.querySelector('#df-8f29554e-9272-4d05-a96d-5d2b00336278');\n",
              "          const dataTable =\n",
              "            await google.colab.kernel.invokeFunction('convertToInteractive',\n",
              "                                                     [key], {});\n",
              "          if (!dataTable) return;\n",
              "\n",
              "          const docLinkHtml = 'Like what you see? Visit the ' +\n",
              "            '<a target=\"_blank\" href=https://colab.research.google.com/notebooks/data_table.ipynb>data table notebook</a>'\n",
              "            + ' to learn more about interactive tables.';\n",
              "          element.innerHTML = '';\n",
              "          dataTable['output_type'] = 'display_data';\n",
              "          await google.colab.output.renderOutput(dataTable, element);\n",
              "          const docLink = document.createElement('div');\n",
              "          docLink.innerHTML = docLinkHtml;\n",
              "          element.appendChild(docLink);\n",
              "        }\n",
              "      </script>\n",
              "    </div>\n",
              "  </div>\n",
              "  "
            ]
          },
          "metadata": {},
          "execution_count": 8
        }
      ]
    },
    {
      "cell_type": "code",
      "source": [
        "df.shape"
      ],
      "metadata": {
        "id": "y7gMKRKkevTH",
        "outputId": "9985425e-45a2-4995-eab6-44522ece3104",
        "colab": {
          "base_uri": "https://localhost:8080/"
        }
      },
      "execution_count": 9,
      "outputs": [
        {
          "output_type": "execute_result",
          "data": {
            "text/plain": [
              "(11224, 2)"
            ]
          },
          "metadata": {},
          "execution_count": 9
        }
      ]
    },
    {
      "cell_type": "code",
      "source": [
        "df.label.value_counts().index"
      ],
      "metadata": {
        "colab": {
          "base_uri": "https://localhost:8080/"
        },
        "id": "pPGhgWJAHmtU",
        "outputId": "7dc9b0f0-b455-4ef1-9b1a-cf70b4524e89"
      },
      "execution_count": 10,
      "outputs": [
        {
          "output_type": "execute_result",
          "data": {
            "text/plain": [
              "Int64Index([0, 1], dtype='int64')"
            ]
          },
          "metadata": {},
          "execution_count": 10
        }
      ]
    },
    {
      "cell_type": "code",
      "source": [
        "df.label.value_counts()"
      ],
      "metadata": {
        "colab": {
          "base_uri": "https://localhost:8080/"
        },
        "id": "NMpDRmuzJ82f",
        "outputId": "2a4ae4eb-f51f-4250-f961-9fffc2ca1698"
      },
      "execution_count": 11,
      "outputs": [
        {
          "output_type": "execute_result",
          "data": {
            "text/plain": [
              "0    5870\n",
              "1    5354\n",
              "Name: label, dtype: int64"
            ]
          },
          "metadata": {},
          "execution_count": 11
        }
      ]
    },
    {
      "cell_type": "code",
      "source": [
        "import seaborn as sns\n",
        "import matplotlib.pyplot as plt\n",
        "\n",
        "x=df.label.value_counts()\n",
        "sns.barplot(x=x.index, y=x)\n",
        "plt.gca().set_ylabel('samples')"
      ],
      "metadata": {
        "colab": {
          "base_uri": "https://localhost:8080/",
          "height": 448
        },
        "id": "3LiD3o3CGHR-",
        "outputId": "e99d8d99-13c5-419c-a24d-ff6922d1c912"
      },
      "execution_count": 12,
      "outputs": [
        {
          "output_type": "execute_result",
          "data": {
            "text/plain": [
              "Text(0, 0.5, 'samples')"
            ]
          },
          "metadata": {},
          "execution_count": 12
        },
        {
          "output_type": "display_data",
          "data": {
            "text/plain": [
              "<Figure size 640x480 with 1 Axes>"
            ],
            "image/png": "[encoded data removed]"
          },
          "metadata": {}
        }
      ]
    },
    {
      "cell_type": "code",
      "source": [
        "sentences = df.text.values\n",
        "labels = df.label.values"
      ],
      "metadata": {
        "id": "H0A0tpVdKo6_"
      },
      "execution_count": 13,
      "outputs": []
    },
    {
      "cell_type": "markdown",
      "source": [
        "load bert tokenizer"
      ],
      "metadata": {
        "id": "Cgmo2JahKz3r"
      }
    },
    {
      "cell_type": "code",
      "source": [
        "from transformers import BertTokenizer\n",
        "\n",
        "print(\"Loading BERT Tokenizer\")\n",
        "tokenizer = BertTokenizer.from_pretrained('bert-base-uncased', do_lower_case=True)"
      ],
      "metadata": {
        "id": "Y86Dvr30LHBy",
        "outputId": "5c0780c9-bc97-44e7-e184-87a812b522e3",
        "colab": {
          "base_uri": "https://localhost:8080/",
          "height": 131,
          "referenced_widgets": [
            "49bc5f4e7ca64e9e9305f591e5b9c582",
            "2170cf87648e4cfd9c57a43bd4b1f1a0",
            "46f890854b3d47b6a956ecbaa81e120b",
            "9050f450385b43cdaa8b148224c89541",
            "c00ca45dc95b484fb53c72d684ec050f",
            "4d9c7cd1105749b59ad7d8198d1fe49d",
            "8b3dfd82be744ebe9df1309b5e48a33c",
            "c7c365f4480d408e9cef30814b9cf850",
            "268163c1b66647d5bfcb4a4aac745b2f",
            "7d60d1fa66114ef5acbe01539516adea",
            "94acf2f50c0742f1bad3ffb6f221a8ec",
            "acb4ea604f3b48f7993d401396b91284",
            "8f253bc2d21b419cb8a23d0962c173d6",
            "f6c05f732e2b439db71057eb762cb3f9",
            "5516d5d8312b429da13df94dff7c1adc",
            "14e763f47f9641049285466a14f864a2",
            "f0ff860655cc423caa4c1477c82d0ead",
            "6da312966ae2497ca174099986030500",
            "619a4d6b1b6b40148a50f487b78d6e2a",
            "074bf6c6fe344274bdfa7ae64b781ac0",
            "f695630825cd45f384f60411ab0930c9",
            "539d313484104692bcdd7161a038da3c",
            "b7b51b7c033948b1b5293c22bd6e3046",
            "e1c7b490499942f9a287713c2eeddea5",
            "0fbb69e971894a3294c6c521337f3bd5",
            "7c17b0410d2248419bb37dc77f6d0530",
            "e817d2008c68421290c2c017155ee48a",
            "dbd9774ff7cd46b586d14afb39fe89d4",
            "69e19f86d23147d6acd3e10fde7d08a4",
            "d7fcfd2d6de84b49b4085d118c3d3cdc",
            "c6d0ee5230d5498a85588377993816ba",
            "b5e939ed8d054fd9aa6bf91121c54e50",
            "49900089d61b4012852d66cc7d9fd947"
          ]
        }
      },
      "execution_count": 14,
      "outputs": [
        {
          "output_type": "stream",
          "name": "stdout",
          "text": [
            "Loading BERT Tokenizer\n"
          ]
        },
        {
          "output_type": "display_data",
          "data": {
            "text/plain": [
              "Downloading (…)solve/main/vocab.txt:   0%|          | 0.00/232k [00:00<?, ?B/s]"
            ],
            "application/vnd.jupyter.widget-view+json": {
              "version_major": 2,
              "version_minor": 0,
              "model_id": "49bc5f4e7ca64e9e9305f591e5b9c582"
            }
          },
          "metadata": {}
        },
        {
          "output_type": "display_data",
          "data": {
            "text/plain": [
              "Downloading (…)okenizer_config.json:   0%|          | 0.00/28.0 [00:00<?, ?B/s]"
            ],
            "application/vnd.jupyter.widget-view+json": {
              "version_major": 2,
              "version_minor": 0,
              "model_id": "acb4ea604f3b48f7993d401396b91284"
            }
          },
          "metadata": {}
        },
        {
          "output_type": "display_data",
          "data": {
            "text/plain": [
              "Downloading (…)lve/main/config.json:   0%|          | 0.00/570 [00:00<?, ?B/s]"
            ],
            "application/vnd.jupyter.widget-view+json": {
              "version_major": 2,
              "version_minor": 0,
              "model_id": "b7b51b7c033948b1b5293c22bd6e3046"
            }
          },
          "metadata": {}
        }
      ]
    },
    {
      "cell_type": "code",
      "source": [
        "print(\"Original: \", sentences[0])\n",
        "\n",
        "print(\"Tokenized: \", tokenizer.tokenize(sentences[0]))\n",
        "\n",
        "print(\"Token IDS: \", tokenizer.convert_tokens_to_ids(tokenizer.tokenize(sentences[0])))"
      ],
      "metadata": {
        "id": "VISahLN3LQGZ",
        "outputId": "84af77b3-1f9b-4524-8886-139558f2d746",
        "colab": {
          "base_uri": "https://localhost:8080/"
        }
      },
      "execution_count": 15,
      "outputs": [
        {
          "output_type": "stream",
          "name": "stdout",
          "text": [
            "Original:  Donald Trump just couldn t wish all Americans a Happy New Year and leave it at that. Instead, he had to give a shout out to his enemies, haters and  the very dishonest fake news media.  The former reality show star had just one job to do and he couldn t do it. As our Country rapidly grows stronger and smarter, I want to wish all of my friends, supporters, enemies, haters, and even the very dishonest Fake News Media, a Happy and Healthy New Year,  President Angry Pants tweeted.  2018 will be a great year for America! As our Country rapidly grows stronger and smarter, I want to wish all of my friends, supporters, enemies, haters, and even the very dishonest Fake News Media, a Happy and Healthy New Year. 2018 will be a great year for America!  Donald J. Trump (@realDonaldTrump) December 31, 2017Trump s tweet went down about as welll as you d expect.What kind of president sends a New Year s greeting like this despicable, petty, infantile gibberish? Only Trump! His lack of decency won t even allow him to rise above the gutter long enough to wish the American citizens a happy new year!  Bishop Talbert Swan (@TalbertSwan) December 31, 2017no one likes you  Calvin (@calvinstowell) December 31, 2017Your impeachment would make 2018 a great year for America, but I ll also accept regaining control of Congress.  Miranda Yaver (@mirandayaver) December 31, 2017Do you hear yourself talk? When you have to include that many people that hate you you have to wonder? Why do the they all hate me?  Alan Sandoval (@AlanSandoval13) December 31, 2017Who uses the word Haters in a New Years wish??  Marlene (@marlene399) December 31, 2017You can t just say happy new year?  Koren pollitt (@Korencarpenter) December 31, 2017Here s Trump s New Year s Eve tweet from 2016.Happy New Year to all, including to my many enemies and those who have fought me and lost so badly they just don t know what to do. Love!  Donald J. Trump (@realDonaldTrump) December 31, 2016This is nothing new for Trump. He s been doing this for years.Trump has directed messages to his  enemies  and  haters  for New Year s, Easter, Thanksgiving, and the anniversary of 9/11. pic.twitter.com/4FPAe2KypA  Daniel Dale (@ddale8) December 31, 2017Trump s holiday tweets are clearly not presidential.How long did he work at Hallmark before becoming President?  Steven Goodine (@SGoodine) December 31, 2017He s always been like this . . . the only difference is that in the last few years, his filter has been breaking down.  Roy Schulze (@thbthttt) December 31, 2017Who, apart from a teenager uses the term haters?  Wendy (@WendyWhistles) December 31, 2017he s a fucking 5 year old  Who Knows (@rainyday80) December 31, 2017So, to all the people who voted for this a hole thinking he would change once he got into power, you were wrong! 70-year-old men don t change and now he s a year older.Photo by Andrew Burton/Getty Images.\n",
            "Tokenized:  ['donald', 'trump', 'just', 'couldn', 't', 'wish', 'all', 'americans', 'a', 'happy', 'new', 'year', 'and', 'leave', 'it', 'at', 'that', '.', 'instead', ',', 'he', 'had', 'to', 'give', 'a', 'shout', 'out', 'to', 'his', 'enemies', ',', 'hate', '##rs', 'and', 'the', 'very', 'dish', '##ones', '##t', 'fake', 'news', 'media', '.', 'the', 'former', 'reality', 'show', 'star', 'had', 'just', 'one', 'job', 'to', 'do', 'and', 'he', 'couldn', 't', 'do', 'it', '.', 'as', 'our', 'country', 'rapidly', 'grows', 'stronger', 'and', 'smarter', ',', 'i', 'want', 'to', 'wish', 'all', 'of', 'my', 'friends', ',', 'supporters', ',', 'enemies', ',', 'hate', '##rs', ',', 'and', 'even', 'the', 'very', 'dish', '##ones', '##t', 'fake', 'news', 'media', ',', 'a', 'happy', 'and', 'healthy', 'new', 'year', ',', 'president', 'angry', 'pants', 't', '##wee', '##ted', '.', '2018', 'will', 'be', 'a', 'great', 'year', 'for', 'america', '!', 'as', 'our', 'country', 'rapidly', 'grows', 'stronger', 'and', 'smarter', ',', 'i', 'want', 'to', 'wish', 'all', 'of', 'my', 'friends', ',', 'supporters', ',', 'enemies', ',', 'hate', '##rs', ',', 'and', 'even', 'the', 'very', 'dish', '##ones', '##t', 'fake', 'news', 'media', ',', 'a', 'happy', 'and', 'healthy', 'new', 'year', '.', '2018', 'will', 'be', 'a', 'great', 'year', 'for', 'america', '!', 'donald', 'j', '.', 'trump', '(', '@', 'real', '##don', '##ald', '##trum', '##p', ')', 'december', '31', ',', '2017', '##trum', '##p', 's', 't', '##wee', '##t', 'went', 'down', 'about', 'as', 'well', '##l', 'as', 'you', 'd', 'expect', '.', 'what', 'kind', 'of', 'president', 'sends', 'a', 'new', 'year', 's', 'greeting', 'like', 'this', 'des', '##pic', '##able', ',', 'petty', ',', 'infant', '##ile', 'gi', '##bber', '##ish', '?', 'only', 'trump', '!', 'his', 'lack', 'of', 'dec', '##ency', 'won', 't', 'even', 'allow', 'him', 'to', 'rise', 'above', 'the', 'gut', '##ter', 'long', 'enough', 'to', 'wish', 'the', 'american', 'citizens', 'a', 'happy', 'new', 'year', '!', 'bishop', 'tal', '##bert', 'swan', '(', '@', 'tal', '##bert', '##sw', '##an', ')', 'december', '31', ',', '2017', '##no', 'one', 'likes', 'you', 'calvin', '(', '@', 'calvin', '##sto', '##well', ')', 'december', '31', ',', '2017', '##you', '##r', 'imp', '##ea', '##chment', 'would', 'make', '2018', 'a', 'great', 'year', 'for', 'america', ',', 'but', 'i', 'll', 'also', 'accept', 'regaining', 'control', 'of', 'congress', '.', 'miranda', 'ya', '##ver', '(', '@', 'miranda', '##ya', '##ver', ')', 'december', '31', ',', '2017', '##do', 'you', 'hear', 'yourself', 'talk', '?', 'when', 'you', 'have', 'to', 'include', 'that', 'many', 'people', 'that', 'hate', 'you', 'you', 'have', 'to', 'wonder', '?', 'why', 'do', 'the', 'they', 'all', 'hate', 'me', '?', 'alan', 'sand', '##ova', '##l', '(', '@', 'alan', '##san', '##do', '##val', '##13', ')', 'december', '31', ',', '2017', '##w', '##ho', 'uses', 'the', 'word', 'hate', '##rs', 'in', 'a', 'new', 'years', 'wish', '?', '?', 'marlene', '(', '@', 'marlene', '##39', '##9', ')', 'december', '31', ',', '2017', '##you', 'can', 't', 'just', 'say', 'happy', 'new', 'year', '?', 'ko', '##ren', 'poll', '##itt', '(', '@', 'ko', '##ren', '##car', '##pen', '##ter', ')', 'december', '31', ',', '2017', '##her', '##e', 's', 'trump', 's', 'new', 'year', 's', 'eve', 't', '##wee', '##t', 'from', '2016', '.', 'happy', 'new', 'year', 'to', 'all', ',', 'including', 'to', 'my', 'many', 'enemies', 'and', 'those', 'who', 'have', 'fought', 'me', 'and', 'lost', 'so', 'badly', 'they', 'just', 'don', 't', 'know', 'what', 'to', 'do', '.', 'love', '!', 'donald', 'j', '.', 'trump', '(', '@', 'real', '##don', '##ald', '##trum', '##p', ')', 'december', '31', ',', '2016', '##thi', '##s', 'is', 'nothing', 'new', 'for', 'trump', '.', 'he', 's', 'been', 'doing', 'this', 'for', 'years', '.', 'trump', 'has', 'directed', 'messages', 'to', 'his', 'enemies', 'and', 'hate', '##rs', 'for', 'new', 'year', 's', ',', 'easter', ',', 'thanksgiving', ',', 'and', 'the', 'anniversary', 'of', '9', '/', '11', '.', 'pic', '.', 'twitter', '.', 'com', '/', '4', '##fp', '##ae', '##2', '##ky', '##pa', 'daniel', 'dale', '(', '@', 'dd', '##ale', '##8', ')', 'december', '31', ',', '2017', '##trum', '##p', 's', 'holiday', 't', '##wee', '##ts', 'are', 'clearly', 'not', 'presidential', '.', 'how', 'long', 'did', 'he', 'work', 'at', 'hallmark', 'before', 'becoming', 'president', '?', 'steven', 'good', '##ine', '(', '@', 'sg', '##ood', '##ine', ')', 'december', '31', ',', '2017', '##he', 's', 'always', 'been', 'like', 'this', '.', '.', '.', 'the', 'only', 'difference', 'is', 'that', 'in', 'the', 'last', 'few', 'years', ',', 'his', 'filter', 'has', 'been', 'breaking', 'down', '.', 'roy', 'sc', '##hul', '##ze', '(', '@', 'th', '##bt', '##ht', '##tt', ')', 'december', '31', ',', '2017', '##w', '##ho', ',', 'apart', 'from', 'a', 'teenager', 'uses', 'the', 'term', 'hate', '##rs', '?', 'wendy', '(', '@', 'wendy', '##w', '##his', '##tle', '##s', ')', 'december', '31', ',', '2017', '##he', 's', 'a', 'fucking', '5', 'year', 'old', 'who', 'knows', '(', '@', 'rainy', '##day', '##80', ')', 'december', '31', ',', '2017', '##so', ',', 'to', 'all', 'the', 'people', 'who', 'voted', 'for', 'this', 'a', 'hole', 'thinking', 'he', 'would', 'change', 'once', 'he', 'got', 'into', 'power', ',', 'you', 'were', 'wrong', '!', '70', '-', 'year', '-', 'old', 'men', 'don', 't', 'change', 'and', 'now', 'he', 's', 'a', 'year', 'older', '.', 'photo', 'by', 'andrew', 'burton', '/', 'get', '##ty', 'images', '.']\n",
            "Token IDS:  [6221, 8398, 2074, 2481, 1056, 4299, 2035, 4841, 1037, 3407, 2047, 2095, 1998, 2681, 2009, 2012, 2008, 1012, 2612, 1010, 2002, 2018, 2000, 2507, 1037, 11245, 2041, 2000, 2010, 6716, 1010, 5223, 2869, 1998, 1996, 2200, 9841, 21821, 2102, 8275, 2739, 2865, 1012, 1996, 2280, 4507, 2265, 2732, 2018, 2074, 2028, 3105, 2000, 2079, 1998, 2002, 2481, 1056, 2079, 2009, 1012, 2004, 2256, 2406, 5901, 7502, 6428, 1998, 25670, 1010, 1045, 2215, 2000, 4299, 2035, 1997, 2026, 2814, 1010, 6793, 1010, 6716, 1010, 5223, 2869, 1010, 1998, 2130, 1996, 2200, 9841, 21821, 2102, 8275, 2739, 2865, 1010, 1037, 3407, 1998, 7965, 2047, 2095, 1010, 2343, 4854, 6471, 1056, 28394, 3064, 1012, 2760, 2097, 2022, 1037, 2307, 2095, 2005, 2637, 999, 2004, 2256, 2406, 5901, 7502, 6428, 1998, 25670, 1010, 1045, 2215, 2000, 4299, 2035, 1997, 2026, 2814, 1010, 6793, 1010, 6716, 1010, 5223, 2869, 1010, 1998, 2130, 1996, 2200, 9841, 21821, 2102, 8275, 2739, 2865, 1010, 1037, 3407, 1998, 7965, 2047, 2095, 1012, 2760, 2097, 2022, 1037, 2307, 2095, 2005, 2637, 999, 6221, 1046, 1012, 8398, 1006, 1030, 2613, 5280, 19058, 24456, 2361, 1007, 2285, 2861, 1010, 2418, 24456, 2361, 1055, 1056, 28394, 2102, 2253, 2091, 2055, 2004, 2092, 2140, 2004, 2017, 1040, 5987, 1012, 2054, 2785, 1997, 2343, 10255, 1037, 2047, 2095, 1055, 14806, 2066, 2023, 4078, 24330, 3085, 1010, 11612, 1010, 10527, 9463, 21025, 29325, 4509, 1029, 2069, 8398, 999, 2010, 3768, 1997, 11703, 11916, 2180, 1056, 2130, 3499, 2032, 2000, 4125, 2682, 1996, 9535, 3334, 2146, 2438, 2000, 4299, 1996, 2137, 4480, 1037, 3407, 2047, 2095, 999, 3387, 21368, 8296, 10677, 1006, 1030, 21368, 8296, 26760, 2319, 1007, 2285, 2861, 1010, 2418, 3630, 2028, 7777, 2017, 11130, 1006, 1030, 11130, 16033, 4381, 1007, 2285, 2861, 1010, 2418, 29337, 2099, 17727, 5243, 22729, 2052, 2191, 2760, 1037, 2307, 2095, 2005, 2637, 1010, 2021, 1045, 2222, 2036, 5138, 28657, 2491, 1997, 3519, 1012, 9392, 8038, 6299, 1006, 1030, 9392, 3148, 6299, 1007, 2285, 2861, 1010, 2418, 3527, 2017, 2963, 4426, 2831, 1029, 2043, 2017, 2031, 2000, 2421, 2008, 2116, 2111, 2008, 5223, 2017, 2017, 2031, 2000, 4687, 1029, 2339, 2079, 1996, 2027, 2035, 5223, 2033, 1029, 5070, 5472, 7103, 2140, 1006, 1030, 5070, 8791, 3527, 10175, 17134, 1007, 2285, 2861, 1010, 2418, 2860, 6806, 3594, 1996, 2773, 5223, 2869, 1999, 1037, 2047, 2086, 4299, 1029, 1029, 26921, 1006, 1030, 26921, 23499, 2683, 1007, 2285, 2861, 1010, 2418, 29337, 2064, 1056, 2074, 2360, 3407, 2047, 2095, 1029, 12849, 7389, 8554, 12474, 1006, 1030, 12849, 7389, 10010, 11837, 3334, 1007, 2285, 2861, 1010, 2418, 5886, 2063, 1055, 8398, 1055, 2047, 2095, 1055, 6574, 1056, 28394, 2102, 2013, 2355, 1012, 3407, 2047, 2095, 2000, 2035, 1010, 2164, 2000, 2026, 2116, 6716, 1998, 2216, 2040, 2031, 4061, 2033, 1998, 2439, 2061, 6649, 2027, 2074, 2123, 1056, 2113, 2054, 2000, 2079, 1012, 2293, 999, 6221, 1046, 1012, 8398, 1006, 1030, 2613, 5280, 19058, 24456, 2361, 1007, 2285, 2861, 1010, 2355, 15222, 2015, 2003, 2498, 2047, 2005, 8398, 1012, 2002, 1055, 2042, 2725, 2023, 2005, 2086, 1012, 8398, 2038, 2856, 7696, 2000, 2010, 6716, 1998, 5223, 2869, 2005, 2047, 2095, 1055, 1010, 10957, 1010, 15060, 1010, 1998, 1996, 5315, 1997, 1023, 1013, 2340, 1012, 27263, 1012, 10474, 1012, 4012, 1013, 1018, 22540, 6679, 2475, 4801, 4502, 3817, 8512, 1006, 1030, 20315, 9453, 2620, 1007, 2285, 2861, 1010, 2418, 24456, 2361, 1055, 6209, 1056, 28394, 3215, 2024, 4415, 2025, 4883, 1012, 2129, 2146, 2106, 2002, 2147, 2012, 25812, 2077, 3352, 2343, 1029, 7112, 2204, 3170, 1006, 1030, 22214, 17139, 3170, 1007, 2285, 2861, 1010, 2418, 5369, 1055, 2467, 2042, 2066, 2023, 1012, 1012, 1012, 1996, 2069, 4489, 2003, 2008, 1999, 1996, 2197, 2261, 2086, 1010, 2010, 11307, 2038, 2042, 4911, 2091, 1012, 6060, 8040, 21886, 4371, 1006, 1030, 16215, 19279, 11039, 4779, 1007, 2285, 2861, 1010, 2418, 2860, 6806, 1010, 4237, 2013, 1037, 10563, 3594, 1996, 2744, 5223, 2869, 1029, 12815, 1006, 1030, 12815, 2860, 24158, 9286, 2015, 1007, 2285, 2861, 1010, 2418, 5369, 1055, 1037, 8239, 1019, 2095, 2214, 2040, 4282, 1006, 1030, 16373, 10259, 17914, 1007, 2285, 2861, 1010, 2418, 6499, 1010, 2000, 2035, 1996, 2111, 2040, 5444, 2005, 2023, 1037, 4920, 3241, 2002, 2052, 2689, 2320, 2002, 2288, 2046, 2373, 1010, 2017, 2020, 3308, 999, 3963, 1011, 2095, 1011, 2214, 2273, 2123, 1056, 2689, 1998, 2085, 2002, 1055, 1037, 2095, 3080, 1012, 6302, 2011, 4080, 9658, 1013, 2131, 3723, 4871, 1012]\n"
          ]
        }
      ]
    },
    {
      "cell_type": "code",
      "source": [
        "max_len=0\n",
        "row=0\n",
        "max_row=0\n",
        "\n",
        "for sen in sentences:\n",
        "  if max_len < len(sen):\n",
        "    max_len=len(sen)\n",
        "    max_row=row\n",
        "  row+=1\n",
        "  # len(sentences[0])"
      ],
      "metadata": {
        "id": "4wPM1_qL0ob0"
      },
      "execution_count": 35,
      "outputs": []
    },
    {
      "cell_type": "code",
      "source": [
        "max_row"
      ],
      "metadata": {
        "id": "XccOcx6T2hk5",
        "outputId": "eb9bbbf3-5eb3-4980-c87e-2ac3c5742b63",
        "colab": {
          "base_uri": "https://localhost:8080/"
        }
      },
      "execution_count": 36,
      "outputs": [
        {
          "output_type": "execute_result",
          "data": {
            "text/plain": [
              "5765"
            ]
          },
          "metadata": {},
          "execution_count": 36
        }
      ]
    },
    {
      "cell_type": "code",
      "source": [
        "len(sentences[5765])"
      ],
      "metadata": {
        "id": "04K7oRdg2khc",
        "outputId": "54dce92e-76b8-43e6-fa65-f272890288b3",
        "colab": {
          "base_uri": "https://localhost:8080/"
        }
      },
      "execution_count": 40,
      "outputs": [
        {
          "output_type": "execute_result",
          "data": {
            "text/plain": [
              "51794"
            ]
          },
          "metadata": {},
          "execution_count": 40
        }
      ]
    },
    {
      "cell_type": "code",
      "source": [
        "max_len"
      ],
      "metadata": {
        "id": "wx75moRk1aqq",
        "outputId": "f2d77bef-809b-4d7e-d729-496931a1907d",
        "colab": {
          "base_uri": "https://localhost:8080/"
        }
      },
      "execution_count": 29,
      "outputs": [
        {
          "output_type": "execute_result",
          "data": {
            "text/plain": [
              "51794"
            ]
          },
          "metadata": {},
          "execution_count": 29
        }
      ]
    },
    {
      "cell_type": "code",
      "source": [
        "# max(sentences, key=len, )\n",
        "max([len(sen) for sen in sentences])"
      ],
      "metadata": {
        "id": "NVsor9MjyXNe",
        "outputId": "7d18d0e0-c49c-40ee-ecde-ebbe191d2c9e",
        "colab": {
          "base_uri": "https://localhost:8080/"
        }
      },
      "execution_count": 26,
      "outputs": [
        {
          "output_type": "execute_result",
          "data": {
            "text/plain": [
              "51794"
            ]
          },
          "metadata": {},
          "execution_count": 26
        }
      ]
    },
    {
      "cell_type": "code",
      "source": [
        "input_ids = []\n",
        "\n",
        "for sent in sentences:\n",
        "  encoded_sent = tokenizer.encode(sent, add_special_tokens = True, max_length=15000, truncation=True)\n",
        "  input_ids.append(encoded_sent)\n",
        "\n",
        "print(\"Original: \", sentences[0])\n",
        "print(\"Token IDs: \", input_ids[0])\n",
        "\n"
      ],
      "metadata": {
        "colab": {
          "base_uri": "https://localhost:8080/"
        },
        "id": "iSqEGe3mE_O3",
        "outputId": "81725126-6da4-4e59-b648-4df86f8c8a26"
      },
      "execution_count": 47,
      "outputs": [
        {
          "output_type": "stream",
          "name": "stdout",
          "text": [
            "Original:  Donald Trump just couldn t wish all Americans a Happy New Year and leave it at that. Instead, he had to give a shout out to his enemies, haters and  the very dishonest fake news media.  The former reality show star had just one job to do and he couldn t do it. As our Country rapidly grows stronger and smarter, I want to wish all of my friends, supporters, enemies, haters, and even the very dishonest Fake News Media, a Happy and Healthy New Year,  President Angry Pants tweeted.  2018 will be a great year for America! As our Country rapidly grows stronger and smarter, I want to wish all of my friends, supporters, enemies, haters, and even the very dishonest Fake News Media, a Happy and Healthy New Year. 2018 will be a great year for America!  Donald J. Trump (@realDonaldTrump) December 31, 2017Trump s tweet went down about as welll as you d expect.What kind of president sends a New Year s greeting like this despicable, petty, infantile gibberish? Only Trump! His lack of decency won t even allow him to rise above the gutter long enough to wish the American citizens a happy new year!  Bishop Talbert Swan (@TalbertSwan) December 31, 2017no one likes you  Calvin (@calvinstowell) December 31, 2017Your impeachment would make 2018 a great year for America, but I ll also accept regaining control of Congress.  Miranda Yaver (@mirandayaver) December 31, 2017Do you hear yourself talk? When you have to include that many people that hate you you have to wonder? Why do the they all hate me?  Alan Sandoval (@AlanSandoval13) December 31, 2017Who uses the word Haters in a New Years wish??  Marlene (@marlene399) December 31, 2017You can t just say happy new year?  Koren pollitt (@Korencarpenter) December 31, 2017Here s Trump s New Year s Eve tweet from 2016.Happy New Year to all, including to my many enemies and those who have fought me and lost so badly they just don t know what to do. Love!  Donald J. Trump (@realDonaldTrump) December 31, 2016This is nothing new for Trump. He s been doing this for years.Trump has directed messages to his  enemies  and  haters  for New Year s, Easter, Thanksgiving, and the anniversary of 9/11. pic.twitter.com/4FPAe2KypA  Daniel Dale (@ddale8) December 31, 2017Trump s holiday tweets are clearly not presidential.How long did he work at Hallmark before becoming President?  Steven Goodine (@SGoodine) December 31, 2017He s always been like this . . . the only difference is that in the last few years, his filter has been breaking down.  Roy Schulze (@thbthttt) December 31, 2017Who, apart from a teenager uses the term haters?  Wendy (@WendyWhistles) December 31, 2017he s a fucking 5 year old  Who Knows (@rainyday80) December 31, 2017So, to all the people who voted for this a hole thinking he would change once he got into power, you were wrong! 70-year-old men don t change and now he s a year older.Photo by Andrew Burton/Getty Images.\n",
            "Token IDs:  [101, 6221, 8398, 2074, 2481, 1056, 4299, 2035, 4841, 1037, 3407, 2047, 2095, 1998, 2681, 2009, 2012, 2008, 1012, 2612, 1010, 2002, 2018, 2000, 2507, 1037, 11245, 2041, 2000, 2010, 6716, 1010, 5223, 2869, 1998, 1996, 2200, 9841, 21821, 2102, 8275, 2739, 2865, 1012, 1996, 2280, 4507, 2265, 2732, 2018, 2074, 2028, 3105, 2000, 2079, 1998, 2002, 2481, 1056, 2079, 2009, 1012, 2004, 2256, 2406, 5901, 7502, 6428, 1998, 25670, 1010, 1045, 2215, 2000, 4299, 2035, 1997, 2026, 2814, 1010, 6793, 1010, 6716, 1010, 5223, 2869, 1010, 1998, 2130, 1996, 2200, 9841, 21821, 2102, 8275, 2739, 2865, 1010, 1037, 3407, 1998, 7965, 2047, 2095, 1010, 2343, 4854, 6471, 1056, 28394, 3064, 1012, 2760, 2097, 2022, 1037, 2307, 2095, 2005, 2637, 999, 2004, 2256, 2406, 5901, 7502, 6428, 1998, 25670, 1010, 1045, 2215, 2000, 4299, 2035, 1997, 2026, 2814, 1010, 6793, 1010, 6716, 1010, 5223, 2869, 1010, 1998, 2130, 1996, 2200, 9841, 21821, 2102, 8275, 2739, 2865, 1010, 1037, 3407, 1998, 7965, 2047, 2095, 1012, 2760, 2097, 2022, 1037, 2307, 2095, 2005, 2637, 999, 6221, 1046, 1012, 8398, 1006, 1030, 2613, 5280, 19058, 24456, 2361, 1007, 2285, 2861, 1010, 2418, 24456, 2361, 1055, 1056, 28394, 2102, 2253, 2091, 2055, 2004, 2092, 2140, 2004, 2017, 1040, 5987, 1012, 2054, 2785, 1997, 2343, 10255, 1037, 2047, 2095, 1055, 14806, 2066, 2023, 4078, 24330, 3085, 1010, 11612, 1010, 10527, 9463, 21025, 29325, 4509, 1029, 2069, 8398, 999, 2010, 3768, 1997, 11703, 11916, 2180, 1056, 2130, 3499, 2032, 2000, 4125, 2682, 1996, 9535, 3334, 2146, 2438, 2000, 4299, 1996, 2137, 4480, 1037, 3407, 2047, 2095, 999, 3387, 21368, 8296, 10677, 1006, 1030, 21368, 8296, 26760, 2319, 1007, 2285, 2861, 1010, 2418, 3630, 2028, 7777, 2017, 11130, 1006, 1030, 11130, 16033, 4381, 1007, 2285, 2861, 1010, 2418, 29337, 2099, 17727, 5243, 22729, 2052, 2191, 2760, 1037, 2307, 2095, 2005, 2637, 1010, 2021, 1045, 2222, 2036, 5138, 28657, 2491, 1997, 3519, 1012, 9392, 8038, 6299, 1006, 1030, 9392, 3148, 6299, 1007, 2285, 2861, 1010, 2418, 3527, 2017, 2963, 4426, 2831, 1029, 2043, 2017, 2031, 2000, 2421, 2008, 2116, 2111, 2008, 5223, 2017, 2017, 2031, 2000, 4687, 1029, 2339, 2079, 1996, 2027, 2035, 5223, 2033, 1029, 5070, 5472, 7103, 2140, 1006, 1030, 5070, 8791, 3527, 10175, 17134, 1007, 2285, 2861, 1010, 2418, 2860, 6806, 3594, 1996, 2773, 5223, 2869, 1999, 1037, 2047, 2086, 4299, 1029, 1029, 26921, 1006, 1030, 26921, 23499, 2683, 1007, 2285, 2861, 1010, 2418, 29337, 2064, 1056, 2074, 2360, 3407, 2047, 2095, 1029, 12849, 7389, 8554, 12474, 1006, 1030, 12849, 7389, 10010, 11837, 3334, 1007, 2285, 2861, 1010, 2418, 5886, 2063, 1055, 8398, 1055, 2047, 2095, 1055, 6574, 1056, 28394, 2102, 2013, 2355, 1012, 3407, 2047, 2095, 2000, 2035, 1010, 2164, 2000, 2026, 2116, 6716, 1998, 2216, 2040, 2031, 4061, 2033, 1998, 2439, 2061, 6649, 2027, 2074, 2123, 1056, 2113, 2054, 2000, 2079, 1012, 2293, 999, 6221, 1046, 1012, 8398, 1006, 1030, 2613, 5280, 19058, 24456, 2361, 1007, 2285, 2861, 1010, 2355, 15222, 2015, 2003, 2498, 2047, 2005, 8398, 1012, 2002, 1055, 2042, 2725, 2023, 2005, 2086, 1012, 8398, 2038, 2856, 7696, 2000, 2010, 6716, 1998, 5223, 2869, 2005, 2047, 2095, 1055, 1010, 10957, 1010, 15060, 1010, 1998, 1996, 5315, 1997, 1023, 1013, 2340, 1012, 27263, 1012, 10474, 1012, 4012, 1013, 1018, 22540, 6679, 2475, 4801, 4502, 3817, 8512, 1006, 1030, 20315, 9453, 2620, 1007, 2285, 2861, 1010, 2418, 24456, 2361, 1055, 6209, 1056, 28394, 3215, 2024, 4415, 2025, 4883, 1012, 2129, 2146, 2106, 2002, 2147, 2012, 25812, 2077, 3352, 2343, 1029, 7112, 2204, 3170, 1006, 1030, 22214, 17139, 3170, 1007, 2285, 2861, 1010, 2418, 5369, 1055, 2467, 2042, 2066, 2023, 1012, 1012, 1012, 1996, 2069, 4489, 2003, 2008, 1999, 1996, 2197, 2261, 2086, 1010, 2010, 11307, 2038, 2042, 4911, 2091, 1012, 6060, 8040, 21886, 4371, 1006, 1030, 16215, 19279, 11039, 4779, 1007, 2285, 2861, 1010, 2418, 2860, 6806, 1010, 4237, 2013, 1037, 10563, 3594, 1996, 2744, 5223, 2869, 1029, 12815, 1006, 1030, 12815, 2860, 24158, 9286, 2015, 1007, 2285, 2861, 1010, 2418, 5369, 1055, 1037, 8239, 1019, 2095, 2214, 2040, 4282, 1006, 1030, 16373, 10259, 17914, 1007, 2285, 2861, 1010, 2418, 6499, 1010, 2000, 2035, 1996, 2111, 2040, 5444, 2005, 2023, 1037, 4920, 3241, 2002, 2052, 2689, 2320, 2002, 2288, 2046, 2373, 1010, 2017, 2020, 3308, 999, 3963, 1011, 2095, 1011, 2214, 2273, 2123, 1056, 2689, 1998, 2085, 2002, 1055, 1037, 2095, 3080, 1012, 6302, 2011, 4080, 9658, 1013, 2131, 3723, 4871, 1012, 102]\n"
          ]
        }
      ]
    },
    {
      "cell_type": "code",
      "source": [
        "print(\"Max sentence length: \", max([len(sen) for sen in input_ids]))"
      ],
      "metadata": {
        "colab": {
          "base_uri": "https://localhost:8080/"
        },
        "id": "MfPsMPA4FQjJ",
        "outputId": "2ea633e4-db91-44d6-a009-d3a74eb5f221"
      },
      "execution_count": 48,
      "outputs": [
        {
          "output_type": "stream",
          "name": "stdout",
          "text": [
            "Max sentence length:  14285\n"
          ]
        }
      ]
    },
    {
      "cell_type": "code",
      "source": [
        "from keras.utils import pad_sequences"
      ],
      "metadata": {
        "id": "WxUQhr9KLzRz"
      },
      "execution_count": 49,
      "outputs": []
    },
    {
      "cell_type": "code",
      "source": [
        "from keras.utils import pad_sequences\n",
        "\n",
        "MAX_LEN = 14290\n",
        "\n",
        "print(\"Padding/truncating all sentences to %d values\" % MAX_LEN)\n",
        "print('Padding token: \"{:}\", ID: {:}'.format(tokenizer.pad_token, tokenizer.pad_token_id))\n",
        "\n",
        "input_ids = pad_sequences(input_ids, maxlen=MAX_LEN, dtype='long', value=0, truncating='post', padding='post')\n",
        "\n",
        "print(\"Done\")"
      ],
      "metadata": {
        "colab": {
          "base_uri": "https://localhost:8080/"
        },
        "id": "tkkv3ynJFcTl",
        "outputId": "f8963b9f-a16f-40ae-d4ab-1e260b829a32"
      },
      "execution_count": 50,
      "outputs": [
        {
          "output_type": "stream",
          "name": "stdout",
          "text": [
            "Padding/truncating all sentences to 14290 values\n",
            "Padding token: \"[PAD]\", ID: 0\n",
            "Done\n"
          ]
        }
      ]
    },
    {
      "cell_type": "code",
      "source": [
        "input_ids[0]"
      ],
      "metadata": {
        "colab": {
          "base_uri": "https://localhost:8080/"
        },
        "id": "jp_W-0qYFsD5",
        "outputId": "14dacbe4-3319-47a2-94f0-93de6cf640d2"
      },
      "execution_count": 51,
      "outputs": [
        {
          "output_type": "execute_result",
          "data": {
            "text/plain": [
              "array([ 101, 6221, 8398, ...,    0,    0,    0])"
            ]
          },
          "metadata": {},
          "execution_count": 51
        }
      ]
    },
    {
      "cell_type": "code",
      "source": [
        "attention_mask = []\n",
        "\n",
        "for sent in input_ids:\n",
        "  att_mask = [int(token_id > 0) for token_id in sent]\n",
        "\n",
        "  attention_mask.append(att_mask)"
      ],
      "metadata": {
        "id": "4JLoku0tFuM_"
      },
      "execution_count": null,
      "outputs": []
    },
    {
      "cell_type": "markdown",
      "source": [
        "persiapan data"
      ],
      "metadata": {
        "id": "De_VydH-Qc_p"
      }
    },
    {
      "cell_type": "code",
      "source": [
        "from sklearn.model_selection import train_test_split\n",
        "\n",
        "train_input, test_input, train_labels, test_labels = train_test_split(input_ids,\n",
        "                                                                      labels,\n",
        "                                                                      random_state=2017,\n",
        "                                                                      test_size=0.1)\n",
        "train_mask, test_mask, _, _ = train_test_split(attention_mask,\n",
        "                                               labels,\n",
        "                                               random_state=2017,\n",
        "                                               test_size=0.1)\n",
        "\n",
        "train_input, validation_input, train_labels, validation_labels = train_test_split(train_input,\n",
        "                                                                                  train_labels,\n",
        "                                                                                  random_state=2018,\n",
        "                                                                                  test_size=0.15)\n",
        "train_mask, validation_mask, _, _ = train_test_split(train_mask,\n",
        "                                                     train_mask,\n",
        "                                                     random_state=2018,\n",
        "                                                     test_size=0.15)"
      ],
      "metadata": {
        "id": "KAnSO3HkQfDn"
      },
      "execution_count": null,
      "outputs": []
    },
    {
      "cell_type": "code",
      "source": [
        "import numpy as np\n",
        "print(\"== Train ==\")\n",
        "print(\"Input: \", train_input.shape)\n",
        "print(\"Label: \", train_labels.shape)\n",
        "print(\"Mask: \", np.array(train_mask).shape)\n",
        "\n",
        "print(\"\\n== Validation ==\")\n",
        "print(\"Input: \", validation_input.shape)\n",
        "print(\"Label: \", validation_labels.shape)\n",
        "print(\"Mask: \", np.array(validation_mask).shape)\n",
        "\n",
        "print(\"\\n== Test ==\")\n",
        "print(\"Input: \", test_input.shape)\n",
        "print(\"Label: \", test_labels.shape)\n",
        "print(\"Mask: \", np.array(test_mask).shape)"
      ],
      "metadata": {
        "id": "Cg1laKw3RfmO"
      },
      "execution_count": null,
      "outputs": []
    },
    {
      "cell_type": "code",
      "source": [
        "train_input = torch.tensor(train_input)\n",
        "train_labels = torch.tensor(train_labels)\n",
        "train_mask = torch.tensor(train_mask)\n",
        "\n",
        "validation_input = torch.tensor(validation_input)\n",
        "validation_labels = torch.tensor(validation_labels)\n",
        "validation_mask = torch.tensor(validation_mask)\n",
        "\n",
        "test_input = torch.tensor(test_input)\n",
        "test_labels = torch.tensor(test_labels)\n",
        "test_mask = torch.tensor(test_mask)"
      ],
      "metadata": {
        "id": "ww0POFnARjaK"
      },
      "execution_count": null,
      "outputs": []
    },
    {
      "cell_type": "code",
      "source": [
        "from torch.utils.data import TensorDataset, DataLoader, RandomSampler, SequentialSampler\n",
        "\n",
        "batch_size = 32\n",
        "\n",
        "train_data = TensorDataset(train_input, train_mask, train_labels)\n",
        "train_sampler = RandomSampler(train_data)\n",
        "train_dataloader = DataLoader(train_data, sampler=train_sampler, batch_size=batch_size)\n",
        "\n",
        "validation_data = TensorDataset(validation_input, validation_mask, validation_labels)\n",
        "validation_sampler = SequentialSampler(validation_data)\n",
        "validation_dataloader = DataLoader(validation_data, sampler=validation_sampler, batch_size=batch_size)\n",
        "\n",
        "test_data = TensorDataset(test_input, test_mask, test_labels)\n",
        "test_sampler = SequentialSampler(test_data)\n",
        "test_dataloader = DataLoader(test_data, sampler=test_sampler, batch_size=batch_size)"
      ],
      "metadata": {
        "id": "EeMMkd0KRonP"
      },
      "execution_count": null,
      "outputs": []
    }
  ]
}