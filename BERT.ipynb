{
  "nbformat": 4,
  "nbformat_minor": 0,
  "metadata": {
    "colab": {
      "provenance": [],
      "gpuType": "T4",
      "mount_file_id": "https://github.com/alfinmaulani/skripsi2/blob/main/BERT.ipynb",
      "authorship_tag": "ABX9TyNoQy0Wtlo3do1huPiv+pLp",
      "include_colab_link": true
    },
    "kernelspec": {
      "name": "python3",
      "display_name": "Python 3"
    },
    "language_info": {
      "name": "python"
    },
    "gpuClass": "standard",
    "widgets": {
      "application/vnd.jupyter.widget-state+json": {
        "cc87d91e3592402fadd9496c0bb18a70": {
          "model_module": "@jupyter-widgets/controls",
          "model_name": "HBoxModel",
          "model_module_version": "1.5.0",
          "state": {
            "_dom_classes": [],
            "_model_module": "@jupyter-widgets/controls",
            "_model_module_version": "1.5.0",
            "_model_name": "HBoxModel",
            "_view_count": null,
            "_view_module": "@jupyter-widgets/controls",
            "_view_module_version": "1.5.0",
            "_view_name": "HBoxView",
            "box_style": "",
            "children": [
              "IPY_MODEL_3ea88b8bd3df42e299969908eb5b6b87",
              "IPY_MODEL_f0007f4dac6a452caa7ba743a50590d9",
              "IPY_MODEL_8d622b31356144979900f2f0e7aa59ee"
            ],
            "layout": "IPY_MODEL_bec4eff322e949a18c5c66d3f8884554"
          }
        },
        "3ea88b8bd3df42e299969908eb5b6b87": {
          "model_module": "@jupyter-widgets/controls",
          "model_name": "HTMLModel",
          "model_module_version": "1.5.0",
          "state": {
            "_dom_classes": [],
            "_model_module": "@jupyter-widgets/controls",
            "_model_module_version": "1.5.0",
            "_model_name": "HTMLModel",
            "_view_count": null,
            "_view_module": "@jupyter-widgets/controls",
            "_view_module_version": "1.5.0",
            "_view_name": "HTMLView",
            "description": "",
            "description_tooltip": null,
            "layout": "IPY_MODEL_14a4a837dfbd40d98bc93affe9778e51",
            "placeholder": "​",
            "style": "IPY_MODEL_aae1a57ba7fa405c9a628f12bf12fcf8",
            "value": "Downloading (…)solve/main/vocab.txt: 100%"
          }
        },
        "f0007f4dac6a452caa7ba743a50590d9": {
          "model_module": "@jupyter-widgets/controls",
          "model_name": "FloatProgressModel",
          "model_module_version": "1.5.0",
          "state": {
            "_dom_classes": [],
            "_model_module": "@jupyter-widgets/controls",
            "_model_module_version": "1.5.0",
            "_model_name": "FloatProgressModel",
            "_view_count": null,
            "_view_module": "@jupyter-widgets/controls",
            "_view_module_version": "1.5.0",
            "_view_name": "ProgressView",
            "bar_style": "success",
            "description": "",
            "description_tooltip": null,
            "layout": "IPY_MODEL_069e7bad182245baa829cfc1cc4827cd",
            "max": 231508,
            "min": 0,
            "orientation": "horizontal",
            "style": "IPY_MODEL_ee89c3002bb94cdab9fa704251b9b83f",
            "value": 231508
          }
        },
        "8d622b31356144979900f2f0e7aa59ee": {
          "model_module": "@jupyter-widgets/controls",
          "model_name": "HTMLModel",
          "model_module_version": "1.5.0",
          "state": {
            "_dom_classes": [],
            "_model_module": "@jupyter-widgets/controls",
            "_model_module_version": "1.5.0",
            "_model_name": "HTMLModel",
            "_view_count": null,
            "_view_module": "@jupyter-widgets/controls",
            "_view_module_version": "1.5.0",
            "_view_name": "HTMLView",
            "description": "",
            "description_tooltip": null,
            "layout": "IPY_MODEL_13143b1c6da647059e99e5afe8027314",
            "placeholder": "​",
            "style": "IPY_MODEL_5f2b8e69a9b640519b00aec2f068860c",
            "value": " 232k/232k [00:00&lt;00:00, 3.75MB/s]"
          }
        },
        "bec4eff322e949a18c5c66d3f8884554": {
          "model_module": "@jupyter-widgets/base",
          "model_name": "LayoutModel",
          "model_module_version": "1.2.0",
          "state": {
            "_model_module": "@jupyter-widgets/base",
            "_model_module_version": "1.2.0",
            "_model_name": "LayoutModel",
            "_view_count": null,
            "_view_module": "@jupyter-widgets/base",
            "_view_module_version": "1.2.0",
            "_view_name": "LayoutView",
            "align_content": null,
            "align_items": null,
            "align_self": null,
            "border": null,
            "bottom": null,
            "display": null,
            "flex": null,
            "flex_flow": null,
            "grid_area": null,
            "grid_auto_columns": null,
            "grid_auto_flow": null,
            "grid_auto_rows": null,
            "grid_column": null,
            "grid_gap": null,
            "grid_row": null,
            "grid_template_areas": null,
            "grid_template_columns": null,
            "grid_template_rows": null,
            "height": null,
            "justify_content": null,
            "justify_items": null,
            "left": null,
            "margin": null,
            "max_height": null,
            "max_width": null,
            "min_height": null,
            "min_width": null,
            "object_fit": null,
            "object_position": null,
            "order": null,
            "overflow": null,
            "overflow_x": null,
            "overflow_y": null,
            "padding": null,
            "right": null,
            "top": null,
            "visibility": null,
            "width": null
          }
        },
        "14a4a837dfbd40d98bc93affe9778e51": {
          "model_module": "@jupyter-widgets/base",
          "model_name": "LayoutModel",
          "model_module_version": "1.2.0",
          "state": {
            "_model_module": "@jupyter-widgets/base",
            "_model_module_version": "1.2.0",
            "_model_name": "LayoutModel",
            "_view_count": null,
            "_view_module": "@jupyter-widgets/base",
            "_view_module_version": "1.2.0",
            "_view_name": "LayoutView",
            "align_content": null,
            "align_items": null,
            "align_self": null,
            "border": null,
            "bottom": null,
            "display": null,
            "flex": null,
            "flex_flow": null,
            "grid_area": null,
            "grid_auto_columns": null,
            "grid_auto_flow": null,
            "grid_auto_rows": null,
            "grid_column": null,
            "grid_gap": null,
            "grid_row": null,
            "grid_template_areas": null,
            "grid_template_columns": null,
            "grid_template_rows": null,
            "height": null,
            "justify_content": null,
            "justify_items": null,
            "left": null,
            "margin": null,
            "max_height": null,
            "max_width": null,
            "min_height": null,
            "min_width": null,
            "object_fit": null,
            "object_position": null,
            "order": null,
            "overflow": null,
            "overflow_x": null,
            "overflow_y": null,
            "padding": null,
            "right": null,
            "top": null,
            "visibility": null,
            "width": null
          }
        },
        "aae1a57ba7fa405c9a628f12bf12fcf8": {
          "model_module": "@jupyter-widgets/controls",
          "model_name": "DescriptionStyleModel",
          "model_module_version": "1.5.0",
          "state": {
            "_model_module": "@jupyter-widgets/controls",
            "_model_module_version": "1.5.0",
            "_model_name": "DescriptionStyleModel",
            "_view_count": null,
            "_view_module": "@jupyter-widgets/base",
            "_view_module_version": "1.2.0",
            "_view_name": "StyleView",
            "description_width": ""
          }
        },
        "069e7bad182245baa829cfc1cc4827cd": {
          "model_module": "@jupyter-widgets/base",
          "model_name": "LayoutModel",
          "model_module_version": "1.2.0",
          "state": {
            "_model_module": "@jupyter-widgets/base",
            "_model_module_version": "1.2.0",
            "_model_name": "LayoutModel",
            "_view_count": null,
            "_view_module": "@jupyter-widgets/base",
            "_view_module_version": "1.2.0",
            "_view_name": "LayoutView",
            "align_content": null,
            "align_items": null,
            "align_self": null,
            "border": null,
            "bottom": null,
            "display": null,
            "flex": null,
            "flex_flow": null,
            "grid_area": null,
            "grid_auto_columns": null,
            "grid_auto_flow": null,
            "grid_auto_rows": null,
            "grid_column": null,
            "grid_gap": null,
            "grid_row": null,
            "grid_template_areas": null,
            "grid_template_columns": null,
            "grid_template_rows": null,
            "height": null,
            "justify_content": null,
            "justify_items": null,
            "left": null,
            "margin": null,
            "max_height": null,
            "max_width": null,
            "min_height": null,
            "min_width": null,
            "object_fit": null,
            "object_position": null,
            "order": null,
            "overflow": null,
            "overflow_x": null,
            "overflow_y": null,
            "padding": null,
            "right": null,
            "top": null,
            "visibility": null,
            "width": null
          }
        },
        "ee89c3002bb94cdab9fa704251b9b83f": {
          "model_module": "@jupyter-widgets/controls",
          "model_name": "ProgressStyleModel",
          "model_module_version": "1.5.0",
          "state": {
            "_model_module": "@jupyter-widgets/controls",
            "_model_module_version": "1.5.0",
            "_model_name": "ProgressStyleModel",
            "_view_count": null,
            "_view_module": "@jupyter-widgets/base",
            "_view_module_version": "1.2.0",
            "_view_name": "StyleView",
            "bar_color": null,
            "description_width": ""
          }
        },
        "13143b1c6da647059e99e5afe8027314": {
          "model_module": "@jupyter-widgets/base",
          "model_name": "LayoutModel",
          "model_module_version": "1.2.0",
          "state": {
            "_model_module": "@jupyter-widgets/base",
            "_model_module_version": "1.2.0",
            "_model_name": "LayoutModel",
            "_view_count": null,
            "_view_module": "@jupyter-widgets/base",
            "_view_module_version": "1.2.0",
            "_view_name": "LayoutView",
            "align_content": null,
            "align_items": null,
            "align_self": null,
            "border": null,
            "bottom": null,
            "display": null,
            "flex": null,
            "flex_flow": null,
            "grid_area": null,
            "grid_auto_columns": null,
            "grid_auto_flow": null,
            "grid_auto_rows": null,
            "grid_column": null,
            "grid_gap": null,
            "grid_row": null,
            "grid_template_areas": null,
            "grid_template_columns": null,
            "grid_template_rows": null,
            "height": null,
            "justify_content": null,
            "justify_items": null,
            "left": null,
            "margin": null,
            "max_height": null,
            "max_width": null,
            "min_height": null,
            "min_width": null,
            "object_fit": null,
            "object_position": null,
            "order": null,
            "overflow": null,
            "overflow_x": null,
            "overflow_y": null,
            "padding": null,
            "right": null,
            "top": null,
            "visibility": null,
            "width": null
          }
        },
        "5f2b8e69a9b640519b00aec2f068860c": {
          "model_module": "@jupyter-widgets/controls",
          "model_name": "DescriptionStyleModel",
          "model_module_version": "1.5.0",
          "state": {
            "_model_module": "@jupyter-widgets/controls",
            "_model_module_version": "1.5.0",
            "_model_name": "DescriptionStyleModel",
            "_view_count": null,
            "_view_module": "@jupyter-widgets/base",
            "_view_module_version": "1.2.0",
            "_view_name": "StyleView",
            "description_width": ""
          }
        },
        "04f18000f30d455aafee3e9d06c455c2": {
          "model_module": "@jupyter-widgets/controls",
          "model_name": "HBoxModel",
          "model_module_version": "1.5.0",
          "state": {
            "_dom_classes": [],
            "_model_module": "@jupyter-widgets/controls",
            "_model_module_version": "1.5.0",
            "_model_name": "HBoxModel",
            "_view_count": null,
            "_view_module": "@jupyter-widgets/controls",
            "_view_module_version": "1.5.0",
            "_view_name": "HBoxView",
            "box_style": "",
            "children": [
              "IPY_MODEL_8d4fe77507184f34bd0bc4f3d81bbc76",
              "IPY_MODEL_b8e6b4419c254683b79d460361bb5ae4",
              "IPY_MODEL_cc4df258542247f8b397989c4621425d"
            ],
            "layout": "IPY_MODEL_c9ceaeb7fa244c0496efe285a7705173"
          }
        },
        "8d4fe77507184f34bd0bc4f3d81bbc76": {
          "model_module": "@jupyter-widgets/controls",
          "model_name": "HTMLModel",
          "model_module_version": "1.5.0",
          "state": {
            "_dom_classes": [],
            "_model_module": "@jupyter-widgets/controls",
            "_model_module_version": "1.5.0",
            "_model_name": "HTMLModel",
            "_view_count": null,
            "_view_module": "@jupyter-widgets/controls",
            "_view_module_version": "1.5.0",
            "_view_name": "HTMLView",
            "description": "",
            "description_tooltip": null,
            "layout": "IPY_MODEL_2eff9afe165648b0bc8dff55ebc0e350",
            "placeholder": "​",
            "style": "IPY_MODEL_334e70e4fd8c4007bbf4f552fed90429",
            "value": "Downloading (…)okenizer_config.json: 100%"
          }
        },
        "b8e6b4419c254683b79d460361bb5ae4": {
          "model_module": "@jupyter-widgets/controls",
          "model_name": "FloatProgressModel",
          "model_module_version": "1.5.0",
          "state": {
            "_dom_classes": [],
            "_model_module": "@jupyter-widgets/controls",
            "_model_module_version": "1.5.0",
            "_model_name": "FloatProgressModel",
            "_view_count": null,
            "_view_module": "@jupyter-widgets/controls",
            "_view_module_version": "1.5.0",
            "_view_name": "ProgressView",
            "bar_style": "success",
            "description": "",
            "description_tooltip": null,
            "layout": "IPY_MODEL_a7ea54b83f534a1f85b7f0af0f62f6b3",
            "max": 28,
            "min": 0,
            "orientation": "horizontal",
            "style": "IPY_MODEL_3bae9a5336fb45978c0e77bf79b5e7ae",
            "value": 28
          }
        },
        "cc4df258542247f8b397989c4621425d": {
          "model_module": "@jupyter-widgets/controls",
          "model_name": "HTMLModel",
          "model_module_version": "1.5.0",
          "state": {
            "_dom_classes": [],
            "_model_module": "@jupyter-widgets/controls",
            "_model_module_version": "1.5.0",
            "_model_name": "HTMLModel",
            "_view_count": null,
            "_view_module": "@jupyter-widgets/controls",
            "_view_module_version": "1.5.0",
            "_view_name": "HTMLView",
            "description": "",
            "description_tooltip": null,
            "layout": "IPY_MODEL_8a95615763104a4080e792f53daba929",
            "placeholder": "​",
            "style": "IPY_MODEL_925e9b81259d4ab58588d05c6d2846aa",
            "value": " 28.0/28.0 [00:00&lt;00:00, 548B/s]"
          }
        },
        "c9ceaeb7fa244c0496efe285a7705173": {
          "model_module": "@jupyter-widgets/base",
          "model_name": "LayoutModel",
          "model_module_version": "1.2.0",
          "state": {
            "_model_module": "@jupyter-widgets/base",
            "_model_module_version": "1.2.0",
            "_model_name": "LayoutModel",
            "_view_count": null,
            "_view_module": "@jupyter-widgets/base",
            "_view_module_version": "1.2.0",
            "_view_name": "LayoutView",
            "align_content": null,
            "align_items": null,
            "align_self": null,
            "border": null,
            "bottom": null,
            "display": null,
            "flex": null,
            "flex_flow": null,
            "grid_area": null,
            "grid_auto_columns": null,
            "grid_auto_flow": null,
            "grid_auto_rows": null,
            "grid_column": null,
            "grid_gap": null,
            "grid_row": null,
            "grid_template_areas": null,
            "grid_template_columns": null,
            "grid_template_rows": null,
            "height": null,
            "justify_content": null,
            "justify_items": null,
            "left": null,
            "margin": null,
            "max_height": null,
            "max_width": null,
            "min_height": null,
            "min_width": null,
            "object_fit": null,
            "object_position": null,
            "order": null,
            "overflow": null,
            "overflow_x": null,
            "overflow_y": null,
            "padding": null,
            "right": null,
            "top": null,
            "visibility": null,
            "width": null
          }
        },
        "2eff9afe165648b0bc8dff55ebc0e350": {
          "model_module": "@jupyter-widgets/base",
          "model_name": "LayoutModel",
          "model_module_version": "1.2.0",
          "state": {
            "_model_module": "@jupyter-widgets/base",
            "_model_module_version": "1.2.0",
            "_model_name": "LayoutModel",
            "_view_count": null,
            "_view_module": "@jupyter-widgets/base",
            "_view_module_version": "1.2.0",
            "_view_name": "LayoutView",
            "align_content": null,
            "align_items": null,
            "align_self": null,
            "border": null,
            "bottom": null,
            "display": null,
            "flex": null,
            "flex_flow": null,
            "grid_area": null,
            "grid_auto_columns": null,
            "grid_auto_flow": null,
            "grid_auto_rows": null,
            "grid_column": null,
            "grid_gap": null,
            "grid_row": null,
            "grid_template_areas": null,
            "grid_template_columns": null,
            "grid_template_rows": null,
            "height": null,
            "justify_content": null,
            "justify_items": null,
            "left": null,
            "margin": null,
            "max_height": null,
            "max_width": null,
            "min_height": null,
            "min_width": null,
            "object_fit": null,
            "object_position": null,
            "order": null,
            "overflow": null,
            "overflow_x": null,
            "overflow_y": null,
            "padding": null,
            "right": null,
            "top": null,
            "visibility": null,
            "width": null
          }
        },
        "334e70e4fd8c4007bbf4f552fed90429": {
          "model_module": "@jupyter-widgets/controls",
          "model_name": "DescriptionStyleModel",
          "model_module_version": "1.5.0",
          "state": {
            "_model_module": "@jupyter-widgets/controls",
            "_model_module_version": "1.5.0",
            "_model_name": "DescriptionStyleModel",
            "_view_count": null,
            "_view_module": "@jupyter-widgets/base",
            "_view_module_version": "1.2.0",
            "_view_name": "StyleView",
            "description_width": ""
          }
        },
        "a7ea54b83f534a1f85b7f0af0f62f6b3": {
          "model_module": "@jupyter-widgets/base",
          "model_name": "LayoutModel",
          "model_module_version": "1.2.0",
          "state": {
            "_model_module": "@jupyter-widgets/base",
            "_model_module_version": "1.2.0",
            "_model_name": "LayoutModel",
            "_view_count": null,
            "_view_module": "@jupyter-widgets/base",
            "_view_module_version": "1.2.0",
            "_view_name": "LayoutView",
            "align_content": null,
            "align_items": null,
            "align_self": null,
            "border": null,
            "bottom": null,
            "display": null,
            "flex": null,
            "flex_flow": null,
            "grid_area": null,
            "grid_auto_columns": null,
            "grid_auto_flow": null,
            "grid_auto_rows": null,
            "grid_column": null,
            "grid_gap": null,
            "grid_row": null,
            "grid_template_areas": null,
            "grid_template_columns": null,
            "grid_template_rows": null,
            "height": null,
            "justify_content": null,
            "justify_items": null,
            "left": null,
            "margin": null,
            "max_height": null,
            "max_width": null,
            "min_height": null,
            "min_width": null,
            "object_fit": null,
            "object_position": null,
            "order": null,
            "overflow": null,
            "overflow_x": null,
            "overflow_y": null,
            "padding": null,
            "right": null,
            "top": null,
            "visibility": null,
            "width": null
          }
        },
        "3bae9a5336fb45978c0e77bf79b5e7ae": {
          "model_module": "@jupyter-widgets/controls",
          "model_name": "ProgressStyleModel",
          "model_module_version": "1.5.0",
          "state": {
            "_model_module": "@jupyter-widgets/controls",
            "_model_module_version": "1.5.0",
            "_model_name": "ProgressStyleModel",
            "_view_count": null,
            "_view_module": "@jupyter-widgets/base",
            "_view_module_version": "1.2.0",
            "_view_name": "StyleView",
            "bar_color": null,
            "description_width": ""
          }
        },
        "8a95615763104a4080e792f53daba929": {
          "model_module": "@jupyter-widgets/base",
          "model_name": "LayoutModel",
          "model_module_version": "1.2.0",
          "state": {
            "_model_module": "@jupyter-widgets/base",
            "_model_module_version": "1.2.0",
            "_model_name": "LayoutModel",
            "_view_count": null,
            "_view_module": "@jupyter-widgets/base",
            "_view_module_version": "1.2.0",
            "_view_name": "LayoutView",
            "align_content": null,
            "align_items": null,
            "align_self": null,
            "border": null,
            "bottom": null,
            "display": null,
            "flex": null,
            "flex_flow": null,
            "grid_area": null,
            "grid_auto_columns": null,
            "grid_auto_flow": null,
            "grid_auto_rows": null,
            "grid_column": null,
            "grid_gap": null,
            "grid_row": null,
            "grid_template_areas": null,
            "grid_template_columns": null,
            "grid_template_rows": null,
            "height": null,
            "justify_content": null,
            "justify_items": null,
            "left": null,
            "margin": null,
            "max_height": null,
            "max_width": null,
            "min_height": null,
            "min_width": null,
            "object_fit": null,
            "object_position": null,
            "order": null,
            "overflow": null,
            "overflow_x": null,
            "overflow_y": null,
            "padding": null,
            "right": null,
            "top": null,
            "visibility": null,
            "width": null
          }
        },
        "925e9b81259d4ab58588d05c6d2846aa": {
          "model_module": "@jupyter-widgets/controls",
          "model_name": "DescriptionStyleModel",
          "model_module_version": "1.5.0",
          "state": {
            "_model_module": "@jupyter-widgets/controls",
            "_model_module_version": "1.5.0",
            "_model_name": "DescriptionStyleModel",
            "_view_count": null,
            "_view_module": "@jupyter-widgets/base",
            "_view_module_version": "1.2.0",
            "_view_name": "StyleView",
            "description_width": ""
          }
        },
        "2260e621fdc74bd0b2a87c7c9364cbec": {
          "model_module": "@jupyter-widgets/controls",
          "model_name": "HBoxModel",
          "model_module_version": "1.5.0",
          "state": {
            "_dom_classes": [],
            "_model_module": "@jupyter-widgets/controls",
            "_model_module_version": "1.5.0",
            "_model_name": "HBoxModel",
            "_view_count": null,
            "_view_module": "@jupyter-widgets/controls",
            "_view_module_version": "1.5.0",
            "_view_name": "HBoxView",
            "box_style": "",
            "children": [
              "IPY_MODEL_e1d3a9cfc21e47489fe5dd52b18e1c04",
              "IPY_MODEL_cb5b6ff6fda24c53a4ae6e047b7e16dd",
              "IPY_MODEL_eea4a4a8d4b74c51af2bd53922151c72"
            ],
            "layout": "IPY_MODEL_56be5d7632134ee5a17c9cef8c93d9c9"
          }
        },
        "e1d3a9cfc21e47489fe5dd52b18e1c04": {
          "model_module": "@jupyter-widgets/controls",
          "model_name": "HTMLModel",
          "model_module_version": "1.5.0",
          "state": {
            "_dom_classes": [],
            "_model_module": "@jupyter-widgets/controls",
            "_model_module_version": "1.5.0",
            "_model_name": "HTMLModel",
            "_view_count": null,
            "_view_module": "@jupyter-widgets/controls",
            "_view_module_version": "1.5.0",
            "_view_name": "HTMLView",
            "description": "",
            "description_tooltip": null,
            "layout": "IPY_MODEL_386c3d27ac7441deabd47351346ca6bc",
            "placeholder": "​",
            "style": "IPY_MODEL_e02e5deaca68480886bcd15ad26680b5",
            "value": "Downloading (…)lve/main/config.json: 100%"
          }
        },
        "cb5b6ff6fda24c53a4ae6e047b7e16dd": {
          "model_module": "@jupyter-widgets/controls",
          "model_name": "FloatProgressModel",
          "model_module_version": "1.5.0",
          "state": {
            "_dom_classes": [],
            "_model_module": "@jupyter-widgets/controls",
            "_model_module_version": "1.5.0",
            "_model_name": "FloatProgressModel",
            "_view_count": null,
            "_view_module": "@jupyter-widgets/controls",
            "_view_module_version": "1.5.0",
            "_view_name": "ProgressView",
            "bar_style": "success",
            "description": "",
            "description_tooltip": null,
            "layout": "IPY_MODEL_ac89be150a8148ec95d443224c858640",
            "max": 570,
            "min": 0,
            "orientation": "horizontal",
            "style": "IPY_MODEL_92cfcf64d9c64c6489df44e8ceab20cc",
            "value": 570
          }
        },
        "eea4a4a8d4b74c51af2bd53922151c72": {
          "model_module": "@jupyter-widgets/controls",
          "model_name": "HTMLModel",
          "model_module_version": "1.5.0",
          "state": {
            "_dom_classes": [],
            "_model_module": "@jupyter-widgets/controls",
            "_model_module_version": "1.5.0",
            "_model_name": "HTMLModel",
            "_view_count": null,
            "_view_module": "@jupyter-widgets/controls",
            "_view_module_version": "1.5.0",
            "_view_name": "HTMLView",
            "description": "",
            "description_tooltip": null,
            "layout": "IPY_MODEL_db04f2fe697443a8a3cda932a69691c2",
            "placeholder": "​",
            "style": "IPY_MODEL_7245b2c2b832486dae9b94cf79c51cf1",
            "value": " 570/570 [00:00&lt;00:00, 10.6kB/s]"
          }
        },
        "56be5d7632134ee5a17c9cef8c93d9c9": {
          "model_module": "@jupyter-widgets/base",
          "model_name": "LayoutModel",
          "model_module_version": "1.2.0",
          "state": {
            "_model_module": "@jupyter-widgets/base",
            "_model_module_version": "1.2.0",
            "_model_name": "LayoutModel",
            "_view_count": null,
            "_view_module": "@jupyter-widgets/base",
            "_view_module_version": "1.2.0",
            "_view_name": "LayoutView",
            "align_content": null,
            "align_items": null,
            "align_self": null,
            "border": null,
            "bottom": null,
            "display": null,
            "flex": null,
            "flex_flow": null,
            "grid_area": null,
            "grid_auto_columns": null,
            "grid_auto_flow": null,
            "grid_auto_rows": null,
            "grid_column": null,
            "grid_gap": null,
            "grid_row": null,
            "grid_template_areas": null,
            "grid_template_columns": null,
            "grid_template_rows": null,
            "height": null,
            "justify_content": null,
            "justify_items": null,
            "left": null,
            "margin": null,
            "max_height": null,
            "max_width": null,
            "min_height": null,
            "min_width": null,
            "object_fit": null,
            "object_position": null,
            "order": null,
            "overflow": null,
            "overflow_x": null,
            "overflow_y": null,
            "padding": null,
            "right": null,
            "top": null,
            "visibility": null,
            "width": null
          }
        },
        "386c3d27ac7441deabd47351346ca6bc": {
          "model_module": "@jupyter-widgets/base",
          "model_name": "LayoutModel",
          "model_module_version": "1.2.0",
          "state": {
            "_model_module": "@jupyter-widgets/base",
            "_model_module_version": "1.2.0",
            "_model_name": "LayoutModel",
            "_view_count": null,
            "_view_module": "@jupyter-widgets/base",
            "_view_module_version": "1.2.0",
            "_view_name": "LayoutView",
            "align_content": null,
            "align_items": null,
            "align_self": null,
            "border": null,
            "bottom": null,
            "display": null,
            "flex": null,
            "flex_flow": null,
            "grid_area": null,
            "grid_auto_columns": null,
            "grid_auto_flow": null,
            "grid_auto_rows": null,
            "grid_column": null,
            "grid_gap": null,
            "grid_row": null,
            "grid_template_areas": null,
            "grid_template_columns": null,
            "grid_template_rows": null,
            "height": null,
            "justify_content": null,
            "justify_items": null,
            "left": null,
            "margin": null,
            "max_height": null,
            "max_width": null,
            "min_height": null,
            "min_width": null,
            "object_fit": null,
            "object_position": null,
            "order": null,
            "overflow": null,
            "overflow_x": null,
            "overflow_y": null,
            "padding": null,
            "right": null,
            "top": null,
            "visibility": null,
            "width": null
          }
        },
        "e02e5deaca68480886bcd15ad26680b5": {
          "model_module": "@jupyter-widgets/controls",
          "model_name": "DescriptionStyleModel",
          "model_module_version": "1.5.0",
          "state": {
            "_model_module": "@jupyter-widgets/controls",
            "_model_module_version": "1.5.0",
            "_model_name": "DescriptionStyleModel",
            "_view_count": null,
            "_view_module": "@jupyter-widgets/base",
            "_view_module_version": "1.2.0",
            "_view_name": "StyleView",
            "description_width": ""
          }
        },
        "ac89be150a8148ec95d443224c858640": {
          "model_module": "@jupyter-widgets/base",
          "model_name": "LayoutModel",
          "model_module_version": "1.2.0",
          "state": {
            "_model_module": "@jupyter-widgets/base",
            "_model_module_version": "1.2.0",
            "_model_name": "LayoutModel",
            "_view_count": null,
            "_view_module": "@jupyter-widgets/base",
            "_view_module_version": "1.2.0",
            "_view_name": "LayoutView",
            "align_content": null,
            "align_items": null,
            "align_self": null,
            "border": null,
            "bottom": null,
            "display": null,
            "flex": null,
            "flex_flow": null,
            "grid_area": null,
            "grid_auto_columns": null,
            "grid_auto_flow": null,
            "grid_auto_rows": null,
            "grid_column": null,
            "grid_gap": null,
            "grid_row": null,
            "grid_template_areas": null,
            "grid_template_columns": null,
            "grid_template_rows": null,
            "height": null,
            "justify_content": null,
            "justify_items": null,
            "left": null,
            "margin": null,
            "max_height": null,
            "max_width": null,
            "min_height": null,
            "min_width": null,
            "object_fit": null,
            "object_position": null,
            "order": null,
            "overflow": null,
            "overflow_x": null,
            "overflow_y": null,
            "padding": null,
            "right": null,
            "top": null,
            "visibility": null,
            "width": null
          }
        },
        "92cfcf64d9c64c6489df44e8ceab20cc": {
          "model_module": "@jupyter-widgets/controls",
          "model_name": "ProgressStyleModel",
          "model_module_version": "1.5.0",
          "state": {
            "_model_module": "@jupyter-widgets/controls",
            "_model_module_version": "1.5.0",
            "_model_name": "ProgressStyleModel",
            "_view_count": null,
            "_view_module": "@jupyter-widgets/base",
            "_view_module_version": "1.2.0",
            "_view_name": "StyleView",
            "bar_color": null,
            "description_width": ""
          }
        },
        "db04f2fe697443a8a3cda932a69691c2": {
          "model_module": "@jupyter-widgets/base",
          "model_name": "LayoutModel",
          "model_module_version": "1.2.0",
          "state": {
            "_model_module": "@jupyter-widgets/base",
            "_model_module_version": "1.2.0",
            "_model_name": "LayoutModel",
            "_view_count": null,
            "_view_module": "@jupyter-widgets/base",
            "_view_module_version": "1.2.0",
            "_view_name": "LayoutView",
            "align_content": null,
            "align_items": null,
            "align_self": null,
            "border": null,
            "bottom": null,
            "display": null,
            "flex": null,
            "flex_flow": null,
            "grid_area": null,
            "grid_auto_columns": null,
            "grid_auto_flow": null,
            "grid_auto_rows": null,
            "grid_column": null,
            "grid_gap": null,
            "grid_row": null,
            "grid_template_areas": null,
            "grid_template_columns": null,
            "grid_template_rows": null,
            "height": null,
            "justify_content": null,
            "justify_items": null,
            "left": null,
            "margin": null,
            "max_height": null,
            "max_width": null,
            "min_height": null,
            "min_width": null,
            "object_fit": null,
            "object_position": null,
            "order": null,
            "overflow": null,
            "overflow_x": null,
            "overflow_y": null,
            "padding": null,
            "right": null,
            "top": null,
            "visibility": null,
            "width": null
          }
        },
        "7245b2c2b832486dae9b94cf79c51cf1": {
          "model_module": "@jupyter-widgets/controls",
          "model_name": "DescriptionStyleModel",
          "model_module_version": "1.5.0",
          "state": {
            "_model_module": "@jupyter-widgets/controls",
            "_model_module_version": "1.5.0",
            "_model_name": "DescriptionStyleModel",
            "_view_count": null,
            "_view_module": "@jupyter-widgets/base",
            "_view_module_version": "1.2.0",
            "_view_name": "StyleView",
            "description_width": ""
          }
        }
      }
    }
  },
  "cells": [
    {
      "cell_type": "markdown",
      "metadata": {
        "id": "view-in-github",
        "colab_type": "text"
      },
      "source": [
        "<a href=\"https://colab.research.google.com/github/alfinmaulani/skripsi2/blob/main/BERT.ipynb\" target=\"_parent\"><img src=\"https://colab.research.google.com/assets/colab-badge.svg\" alt=\"Open In Colab\"/></a>"
      ]
    },
    {
      "cell_type": "code",
      "execution_count": 2,
      "metadata": {
        "id": "azsaS9qX8ZUI"
      },
      "outputs": [],
      "source": [
        "import pandas as pd\n",
        "import numpy as np"
      ]
    },
    {
      "cell_type": "code",
      "source": [
        "from google.colab import drive\n",
        "drive.mount('/content/drive')"
      ],
      "metadata": {
        "id": "WO7jTTXu8b9s"
      },
      "execution_count": null,
      "outputs": []
    },
    {
      "cell_type": "code",
      "source": [
        "!pip install transformers"
      ],
      "metadata": {
        "id": "pKmN3MSCr53g",
        "colab": {
          "base_uri": "https://localhost:8080/"
        },
        "outputId": "0f58373b-016e-4b90-d21b-f96ce5676a76"
      },
      "execution_count": 3,
      "outputs": [
        {
          "output_type": "stream",
          "name": "stdout",
          "text": [
            "Looking in indexes: https://pypi.org/simple, https://us-python.pkg.dev/colab-wheels/public/simple/\n",
            "Collecting transformers\n",
            "  Downloading transformers-4.29.2-py3-none-any.whl (7.1 MB)\n",
            "\u001b[2K     \u001b[90m━━━━━━━━━━━━━━━━━━━━━━━━━━━━━━━━━━━━━━━━\u001b[0m \u001b[32m7.1/7.1 MB\u001b[0m \u001b[31m56.4 MB/s\u001b[0m eta \u001b[36m0:00:00\u001b[0m\n",
            "\u001b[?25hRequirement already satisfied: filelock in /usr/local/lib/python3.10/dist-packages (from transformers) (3.12.0)\n",
            "Collecting huggingface-hub<1.0,>=0.14.1 (from transformers)\n",
            "  Downloading huggingface_hub-0.14.1-py3-none-any.whl (224 kB)\n",
            "\u001b[2K     \u001b[90m━━━━━━━━━━━━━━━━━━━━━━━━━━━━━━━━━━━━━━\u001b[0m \u001b[32m224.5/224.5 kB\u001b[0m \u001b[31m21.5 MB/s\u001b[0m eta \u001b[36m0:00:00\u001b[0m\n",
            "\u001b[?25hRequirement already satisfied: numpy>=1.17 in /usr/local/lib/python3.10/dist-packages (from transformers) (1.22.4)\n",
            "Requirement already satisfied: packaging>=20.0 in /usr/local/lib/python3.10/dist-packages (from transformers) (23.1)\n",
            "Requirement already satisfied: pyyaml>=5.1 in /usr/local/lib/python3.10/dist-packages (from transformers) (6.0)\n",
            "Requirement already satisfied: regex!=2019.12.17 in /usr/local/lib/python3.10/dist-packages (from transformers) (2022.10.31)\n",
            "Requirement already satisfied: requests in /usr/local/lib/python3.10/dist-packages (from transformers) (2.27.1)\n",
            "Collecting tokenizers!=0.11.3,<0.14,>=0.11.1 (from transformers)\n",
            "  Downloading tokenizers-0.13.3-cp310-cp310-manylinux_2_17_x86_64.manylinux2014_x86_64.whl (7.8 MB)\n",
            "\u001b[2K     \u001b[90m━━━━━━━━━━━━━━━━━━━━━━━━━━━━━━━━━━━━━━━━\u001b[0m \u001b[32m7.8/7.8 MB\u001b[0m \u001b[31m77.7 MB/s\u001b[0m eta \u001b[36m0:00:00\u001b[0m\n",
            "\u001b[?25hRequirement already satisfied: tqdm>=4.27 in /usr/local/lib/python3.10/dist-packages (from transformers) (4.65.0)\n",
            "Requirement already satisfied: fsspec in /usr/local/lib/python3.10/dist-packages (from huggingface-hub<1.0,>=0.14.1->transformers) (2023.4.0)\n",
            "Requirement already satisfied: typing-extensions>=3.7.4.3 in /usr/local/lib/python3.10/dist-packages (from huggingface-hub<1.0,>=0.14.1->transformers) (4.5.0)\n",
            "Requirement already satisfied: urllib3<1.27,>=1.21.1 in /usr/local/lib/python3.10/dist-packages (from requests->transformers) (1.26.15)\n",
            "Requirement already satisfied: certifi>=2017.4.17 in /usr/local/lib/python3.10/dist-packages (from requests->transformers) (2022.12.7)\n",
            "Requirement already satisfied: charset-normalizer~=2.0.0 in /usr/local/lib/python3.10/dist-packages (from requests->transformers) (2.0.12)\n",
            "Requirement already satisfied: idna<4,>=2.5 in /usr/local/lib/python3.10/dist-packages (from requests->transformers) (3.4)\n",
            "Installing collected packages: tokenizers, huggingface-hub, transformers\n",
            "Successfully installed huggingface-hub-0.14.1 tokenizers-0.13.3 transformers-4.29.2\n"
          ]
        }
      ]
    },
    {
      "cell_type": "code",
      "source": [
        "import torch\n",
        "\n",
        "if torch.cuda.is_available():\n",
        "  # device = torch.device('cuda')\n",
        "\n",
        "  print('there are %d GPU(s) available.' % torch.cuda.device_count())\n",
        "\n",
        "  print('we will use the GPU: ', torch.cuda.get_device_name(0))\n",
        "\n",
        "else:\n",
        "  print(\"No GPU available, using the CPU instead\")\n",
        "  device = torch.device(\"cpu\")"
      ],
      "metadata": {
        "colab": {
          "base_uri": "https://localhost:8080/"
        },
        "id": "Yqpz4joDEjX5",
        "outputId": "bdf8f349-63de-43ad-9bf0-b193efe6277c"
      },
      "execution_count": 1,
      "outputs": [
        {
          "output_type": "stream",
          "name": "stdout",
          "text": [
            "No GPU available, using the CPU instead\n"
          ]
        }
      ]
    },
    {
      "cell_type": "code",
      "source": [
        "korpusgabung='/content/drive/MyDrive/fake news/beritapalsugabung.csv'\n",
        "df=pd.read_csv(korpusgabung)\n",
        "# df.columns=['teks']"
      ],
      "metadata": {
        "id": "ES4hdmSz8j1w"
      },
      "execution_count": 6,
      "outputs": []
    },
    {
      "cell_type": "code",
      "source": [
        "df"
      ],
      "metadata": {
        "colab": {
          "base_uri": "https://localhost:8080/",
          "height": 424
        },
        "id": "-f2zgTV8854y",
        "outputId": "64f305dc-fcf3-47ad-d975-44221c413bb8"
      },
      "execution_count": 7,
      "outputs": [
        {
          "output_type": "execute_result",
          "data": {
            "text/plain": [
              "                                                    text  label\n",
              "0      Donald Trump just couldn t wish all Americans ...      0\n",
              "1      House Intelligence Committee Chairman Devin Nu...      0\n",
              "2      On Friday, it was revealed that former Milwauk...      0\n",
              "3      On Christmas day, Donald Trump announced that ...      0\n",
              "4      Pope Francis used his annual Christmas Day mes...      0\n",
              "...                                                  ...    ...\n",
              "44893  BRUSSELS (Reuters) - NATO allies on Tuesday we...      1\n",
              "44894  LONDON (Reuters) - LexisNexis, a provider of l...      1\n",
              "44895  MINSK (Reuters) - In the shadow of disused Sov...      1\n",
              "44896  MOSCOW (Reuters) - Vatican Secretary of State ...      1\n",
              "44897  JAKARTA (Reuters) - Indonesia will buy 11 Sukh...      1\n",
              "\n",
              "[44898 rows x 2 columns]"
            ],
            "text/html": [
              "\n",
              "  <div id=\"df-cdb96d43-7045-4a44-96ee-07581f82b075\">\n",
              "    <div class=\"colab-df-container\">\n",
              "      <div>\n",
              "<style scoped>\n",
              "    .dataframe tbody tr th:only-of-type {\n",
              "        vertical-align: middle;\n",
              "    }\n",
              "\n",
              "    .dataframe tbody tr th {\n",
              "        vertical-align: top;\n",
              "    }\n",
              "\n",
              "    .dataframe thead th {\n",
              "        text-align: right;\n",
              "    }\n",
              "</style>\n",
              "<table border=\"1\" class=\"dataframe\">\n",
              "  <thead>\n",
              "    <tr style=\"text-align: right;\">\n",
              "      <th></th>\n",
              "      <th>text</th>\n",
              "      <th>label</th>\n",
              "    </tr>\n",
              "  </thead>\n",
              "  <tbody>\n",
              "    <tr>\n",
              "      <th>0</th>\n",
              "      <td>Donald Trump just couldn t wish all Americans ...</td>\n",
              "      <td>0</td>\n",
              "    </tr>\n",
              "    <tr>\n",
              "      <th>1</th>\n",
              "      <td>House Intelligence Committee Chairman Devin Nu...</td>\n",
              "      <td>0</td>\n",
              "    </tr>\n",
              "    <tr>\n",
              "      <th>2</th>\n",
              "      <td>On Friday, it was revealed that former Milwauk...</td>\n",
              "      <td>0</td>\n",
              "    </tr>\n",
              "    <tr>\n",
              "      <th>3</th>\n",
              "      <td>On Christmas day, Donald Trump announced that ...</td>\n",
              "      <td>0</td>\n",
              "    </tr>\n",
              "    <tr>\n",
              "      <th>4</th>\n",
              "      <td>Pope Francis used his annual Christmas Day mes...</td>\n",
              "      <td>0</td>\n",
              "    </tr>\n",
              "    <tr>\n",
              "      <th>...</th>\n",
              "      <td>...</td>\n",
              "      <td>...</td>\n",
              "    </tr>\n",
              "    <tr>\n",
              "      <th>44893</th>\n",
              "      <td>BRUSSELS (Reuters) - NATO allies on Tuesday we...</td>\n",
              "      <td>1</td>\n",
              "    </tr>\n",
              "    <tr>\n",
              "      <th>44894</th>\n",
              "      <td>LONDON (Reuters) - LexisNexis, a provider of l...</td>\n",
              "      <td>1</td>\n",
              "    </tr>\n",
              "    <tr>\n",
              "      <th>44895</th>\n",
              "      <td>MINSK (Reuters) - In the shadow of disused Sov...</td>\n",
              "      <td>1</td>\n",
              "    </tr>\n",
              "    <tr>\n",
              "      <th>44896</th>\n",
              "      <td>MOSCOW (Reuters) - Vatican Secretary of State ...</td>\n",
              "      <td>1</td>\n",
              "    </tr>\n",
              "    <tr>\n",
              "      <th>44897</th>\n",
              "      <td>JAKARTA (Reuters) - Indonesia will buy 11 Sukh...</td>\n",
              "      <td>1</td>\n",
              "    </tr>\n",
              "  </tbody>\n",
              "</table>\n",
              "<p>44898 rows × 2 columns</p>\n",
              "</div>\n",
              "      <button class=\"colab-df-convert\" onclick=\"convertToInteractive('df-cdb96d43-7045-4a44-96ee-07581f82b075')\"\n",
              "              title=\"Convert this dataframe to an interactive table.\"\n",
              "              style=\"display:none;\">\n",
              "        \n",
              "  <svg xmlns=\"http://www.w3.org/2000/svg\" height=\"24px\"viewBox=\"0 0 24 24\"\n",
              "       width=\"24px\">\n",
              "    <path d=\"M0 0h24v24H0V0z\" fill=\"none\"/>\n",
              "    <path d=\"M18.56 5.44l.94 2.06.94-2.06 2.06-.94-2.06-.94-.94-2.06-.94 2.06-2.06.94zm-11 1L8.5 8.5l.94-2.06 2.06-.94-2.06-.94L8.5 2.5l-.94 2.06-2.06.94zm10 10l.94 2.06.94-2.06 2.06-.94-2.06-.94-.94-2.06-.94 2.06-2.06.94z\"/><path d=\"M17.41 7.96l-1.37-1.37c-.4-.4-.92-.59-1.43-.59-.52 0-1.04.2-1.43.59L10.3 9.45l-7.72 7.72c-.78.78-.78 2.05 0 2.83L4 21.41c.39.39.9.59 1.41.59.51 0 1.02-.2 1.41-.59l7.78-7.78 2.81-2.81c.8-.78.8-2.07 0-2.86zM5.41 20L4 18.59l7.72-7.72 1.47 1.35L5.41 20z\"/>\n",
              "  </svg>\n",
              "      </button>\n",
              "      \n",
              "  <style>\n",
              "    .colab-df-container {\n",
              "      display:flex;\n",
              "      flex-wrap:wrap;\n",
              "      gap: 12px;\n",
              "    }\n",
              "\n",
              "    .colab-df-convert {\n",
              "      background-color: #E8F0FE;\n",
              "      border: none;\n",
              "      border-radius: 50%;\n",
              "      cursor: pointer;\n",
              "      display: none;\n",
              "      fill: #1967D2;\n",
              "      height: 32px;\n",
              "      padding: 0 0 0 0;\n",
              "      width: 32px;\n",
              "    }\n",
              "\n",
              "    .colab-df-convert:hover {\n",
              "      background-color: #E2EBFA;\n",
              "      box-shadow: 0px 1px 2px rgba(60, 64, 67, 0.3), 0px 1px 3px 1px rgba(60, 64, 67, 0.15);\n",
              "      fill: #174EA6;\n",
              "    }\n",
              "\n",
              "    [theme=dark] .colab-df-convert {\n",
              "      background-color: #3B4455;\n",
              "      fill: #D2E3FC;\n",
              "    }\n",
              "\n",
              "    [theme=dark] .colab-df-convert:hover {\n",
              "      background-color: #434B5C;\n",
              "      box-shadow: 0px 1px 3px 1px rgba(0, 0, 0, 0.15);\n",
              "      filter: drop-shadow(0px 1px 2px rgba(0, 0, 0, 0.3));\n",
              "      fill: #FFFFFF;\n",
              "    }\n",
              "  </style>\n",
              "\n",
              "      <script>\n",
              "        const buttonEl =\n",
              "          document.querySelector('#df-cdb96d43-7045-4a44-96ee-07581f82b075 button.colab-df-convert');\n",
              "        buttonEl.style.display =\n",
              "          google.colab.kernel.accessAllowed ? 'block' : 'none';\n",
              "\n",
              "        async function convertToInteractive(key) {\n",
              "          const element = document.querySelector('#df-cdb96d43-7045-4a44-96ee-07581f82b075');\n",
              "          const dataTable =\n",
              "            await google.colab.kernel.invokeFunction('convertToInteractive',\n",
              "                                                     [key], {});\n",
              "          if (!dataTable) return;\n",
              "\n",
              "          const docLinkHtml = 'Like what you see? Visit the ' +\n",
              "            '<a target=\"_blank\" href=https://colab.research.google.com/notebooks/data_table.ipynb>data table notebook</a>'\n",
              "            + ' to learn more about interactive tables.';\n",
              "          element.innerHTML = '';\n",
              "          dataTable['output_type'] = 'display_data';\n",
              "          await google.colab.output.renderOutput(dataTable, element);\n",
              "          const docLink = document.createElement('div');\n",
              "          docLink.innerHTML = docLinkHtml;\n",
              "          element.appendChild(docLink);\n",
              "        }\n",
              "      </script>\n",
              "    </div>\n",
              "  </div>\n",
              "  "
            ]
          },
          "metadata": {},
          "execution_count": 7
        }
      ]
    },
    {
      "cell_type": "code",
      "source": [
        "df.shape"
      ],
      "metadata": {
        "colab": {
          "base_uri": "https://localhost:8080/"
        },
        "id": "E7vJYVxfFJeK",
        "outputId": "0ffb9c86-32dc-4182-c293-7320694cfc81"
      },
      "execution_count": 9,
      "outputs": [
        {
          "output_type": "execute_result",
          "data": {
            "text/plain": [
              "(44898, 2)"
            ]
          },
          "metadata": {},
          "execution_count": 9
        }
      ]
    },
    {
      "cell_type": "code",
      "source": [
        "df.label.value_counts().index"
      ],
      "metadata": {
        "colab": {
          "base_uri": "https://localhost:8080/"
        },
        "id": "pPGhgWJAHmtU",
        "outputId": "e40f8658-608c-41e9-f1b6-f881a10d7c60"
      },
      "execution_count": 17,
      "outputs": [
        {
          "output_type": "execute_result",
          "data": {
            "text/plain": [
              "Int64Index([0, 1], dtype='int64')"
            ]
          },
          "metadata": {},
          "execution_count": 17
        }
      ]
    },
    {
      "cell_type": "code",
      "source": [
        "df.label.value_counts()"
      ],
      "metadata": {
        "colab": {
          "base_uri": "https://localhost:8080/"
        },
        "id": "NMpDRmuzJ82f",
        "outputId": "3d82c31c-aa51-408d-82d7-287788e89fbd"
      },
      "execution_count": 20,
      "outputs": [
        {
          "output_type": "execute_result",
          "data": {
            "text/plain": [
              "0    23481\n",
              "1    21417\n",
              "Name: label, dtype: int64"
            ]
          },
          "metadata": {},
          "execution_count": 20
        }
      ]
    },
    {
      "cell_type": "code",
      "source": [
        "import seaborn as sns\n",
        "import matplotlib.pyplot as plt\n",
        "\n",
        "x=df.label.value_counts()\n",
        "sns.barplot(x=x.index, y=x)\n",
        "plt.gca().set_ylabel('samples')"
      ],
      "metadata": {
        "colab": {
          "base_uri": "https://localhost:8080/",
          "height": 448
        },
        "id": "3LiD3o3CGHR-",
        "outputId": "809f8038-57ca-466b-99fd-3c33cca6082f"
      },
      "execution_count": 25,
      "outputs": [
        {
          "output_type": "execute_result",
          "data": {
            "text/plain": [
              "Text(0, 0.5, 'samples')"
            ]
          },
          "metadata": {},
          "execution_count": 25
        },
        {
          "output_type": "display_data",
          "data": {
            "text/plain": [
              "<Figure size 640x480 with 1 Axes>"
            ],
            "image/png": "[encoded data removed]"
          },
          "metadata": {}
        }
      ]
    },
    {
      "cell_type": "code",
      "source": [
        "sentences = df.text.values\n",
        "labels = df.label.values  "
      ],
      "metadata": {
        "id": "H0A0tpVdKo6_"
      },
      "execution_count": 26,
      "outputs": []
    },
    {
      "cell_type": "markdown",
      "source": [
        "load bert tokenizer"
      ],
      "metadata": {
        "id": "Cgmo2JahKz3r"
      }
    },
    {
      "cell_type": "code",
      "source": [
        "from transformers import BertTokenizer\n",
        "\n",
        "print(\"Loading BERT Tokenizer\")\n",
        "tokenizer = BertTokenizer.from_pretrained('bert-base-uncased', do_lower_case=True)"
      ],
      "metadata": {
        "id": "Y86Dvr30LHBy",
        "outputId": "4890c348-b357-4353-b8e3-fb1eda05e14c",
        "colab": {
          "base_uri": "https://localhost:8080/",
          "height": 131,
          "referenced_widgets": [
            "cc87d91e3592402fadd9496c0bb18a70",
            "3ea88b8bd3df42e299969908eb5b6b87",
            "f0007f4dac6a452caa7ba743a50590d9",
            "8d622b31356144979900f2f0e7aa59ee",
            "bec4eff322e949a18c5c66d3f8884554",
            "14a4a837dfbd40d98bc93affe9778e51",
            "aae1a57ba7fa405c9a628f12bf12fcf8",
            "069e7bad182245baa829cfc1cc4827cd",
            "ee89c3002bb94cdab9fa704251b9b83f",
            "13143b1c6da647059e99e5afe8027314",
            "5f2b8e69a9b640519b00aec2f068860c",
            "04f18000f30d455aafee3e9d06c455c2",
            "8d4fe77507184f34bd0bc4f3d81bbc76",
            "b8e6b4419c254683b79d460361bb5ae4",
            "cc4df258542247f8b397989c4621425d",
            "c9ceaeb7fa244c0496efe285a7705173",
            "2eff9afe165648b0bc8dff55ebc0e350",
            "334e70e4fd8c4007bbf4f552fed90429",
            "a7ea54b83f534a1f85b7f0af0f62f6b3",
            "3bae9a5336fb45978c0e77bf79b5e7ae",
            "8a95615763104a4080e792f53daba929",
            "925e9b81259d4ab58588d05c6d2846aa",
            "2260e621fdc74bd0b2a87c7c9364cbec",
            "e1d3a9cfc21e47489fe5dd52b18e1c04",
            "cb5b6ff6fda24c53a4ae6e047b7e16dd",
            "eea4a4a8d4b74c51af2bd53922151c72",
            "56be5d7632134ee5a17c9cef8c93d9c9",
            "386c3d27ac7441deabd47351346ca6bc",
            "e02e5deaca68480886bcd15ad26680b5",
            "ac89be150a8148ec95d443224c858640",
            "92cfcf64d9c64c6489df44e8ceab20cc",
            "db04f2fe697443a8a3cda932a69691c2",
            "7245b2c2b832486dae9b94cf79c51cf1"
          ]
        }
      },
      "execution_count": 27,
      "outputs": [
        {
          "output_type": "stream",
          "name": "stdout",
          "text": [
            "Loading BERT Tokenizer\n"
          ]
        },
        {
          "output_type": "display_data",
          "data": {
            "text/plain": [
              "Downloading (…)solve/main/vocab.txt:   0%|          | 0.00/232k [00:00<?, ?B/s]"
            ],
            "application/vnd.jupyter.widget-view+json": {
              "version_major": 2,
              "version_minor": 0,
              "model_id": "cc87d91e3592402fadd9496c0bb18a70"
            }
          },
          "metadata": {}
        },
        {
          "output_type": "display_data",
          "data": {
            "text/plain": [
              "Downloading (…)okenizer_config.json:   0%|          | 0.00/28.0 [00:00<?, ?B/s]"
            ],
            "application/vnd.jupyter.widget-view+json": {
              "version_major": 2,
              "version_minor": 0,
              "model_id": "04f18000f30d455aafee3e9d06c455c2"
            }
          },
          "metadata": {}
        },
        {
          "output_type": "display_data",
          "data": {
            "text/plain": [
              "Downloading (…)lve/main/config.json:   0%|          | 0.00/570 [00:00<?, ?B/s]"
            ],
            "application/vnd.jupyter.widget-view+json": {
              "version_major": 2,
              "version_minor": 0,
              "model_id": "2260e621fdc74bd0b2a87c7c9364cbec"
            }
          },
          "metadata": {}
        }
      ]
    },
    {
      "cell_type": "code",
      "source": [
        "print(\"Original: \", sentences[0])\n",
        "\n",
        "print(\"Tokenized: \", tokenizer.tokenize(sentences[0]))\n",
        "\n",
        "print(\"Token IDS: \", tokenizer.convert_tokens_to_ids(tokenizer.tokenize(sentences[0])))"
      ],
      "metadata": {
        "id": "VISahLN3LQGZ",
        "outputId": "2484393e-02fb-4535-f2bf-75adebc531e7",
        "colab": {
          "base_uri": "https://localhost:8080/"
        }
      },
      "execution_count": 28,
      "outputs": [
        {
          "output_type": "stream",
          "name": "stdout",
          "text": [
            "Original:  Donald Trump just couldn t wish all Americans a Happy New Year and leave it at that. Instead, he had to give a shout out to his enemies, haters and  the very dishonest fake news media.  The former reality show star had just one job to do and he couldn t do it. As our Country rapidly grows stronger and smarter, I want to wish all of my friends, supporters, enemies, haters, and even the very dishonest Fake News Media, a Happy and Healthy New Year,  President Angry Pants tweeted.  2018 will be a great year for America! As our Country rapidly grows stronger and smarter, I want to wish all of my friends, supporters, enemies, haters, and even the very dishonest Fake News Media, a Happy and Healthy New Year. 2018 will be a great year for America!  Donald J. Trump (@realDonaldTrump) December 31, 2017Trump s tweet went down about as welll as you d expect.What kind of president sends a New Year s greeting like this despicable, petty, infantile gibberish? Only Trump! His lack of decency won t even allow him to rise above the gutter long enough to wish the American citizens a happy new year!  Bishop Talbert Swan (@TalbertSwan) December 31, 2017no one likes you  Calvin (@calvinstowell) December 31, 2017Your impeachment would make 2018 a great year for America, but I ll also accept regaining control of Congress.  Miranda Yaver (@mirandayaver) December 31, 2017Do you hear yourself talk? When you have to include that many people that hate you you have to wonder? Why do the they all hate me?  Alan Sandoval (@AlanSandoval13) December 31, 2017Who uses the word Haters in a New Years wish??  Marlene (@marlene399) December 31, 2017You can t just say happy new year?  Koren pollitt (@Korencarpenter) December 31, 2017Here s Trump s New Year s Eve tweet from 2016.Happy New Year to all, including to my many enemies and those who have fought me and lost so badly they just don t know what to do. Love!  Donald J. Trump (@realDonaldTrump) December 31, 2016This is nothing new for Trump. He s been doing this for years.Trump has directed messages to his  enemies  and  haters  for New Year s, Easter, Thanksgiving, and the anniversary of 9/11. pic.twitter.com/4FPAe2KypA  Daniel Dale (@ddale8) December 31, 2017Trump s holiday tweets are clearly not presidential.How long did he work at Hallmark before becoming President?  Steven Goodine (@SGoodine) December 31, 2017He s always been like this . . . the only difference is that in the last few years, his filter has been breaking down.  Roy Schulze (@thbthttt) December 31, 2017Who, apart from a teenager uses the term haters?  Wendy (@WendyWhistles) December 31, 2017he s a fucking 5 year old  Who Knows (@rainyday80) December 31, 2017So, to all the people who voted for this a hole thinking he would change once he got into power, you were wrong! 70-year-old men don t change and now he s a year older.Photo by Andrew Burton/Getty Images.\n",
            "Tokenized:  ['donald', 'trump', 'just', 'couldn', 't', 'wish', 'all', 'americans', 'a', 'happy', 'new', 'year', 'and', 'leave', 'it', 'at', 'that', '.', 'instead', ',', 'he', 'had', 'to', 'give', 'a', 'shout', 'out', 'to', 'his', 'enemies', ',', 'hate', '##rs', 'and', 'the', 'very', 'dish', '##ones', '##t', 'fake', 'news', 'media', '.', 'the', 'former', 'reality', 'show', 'star', 'had', 'just', 'one', 'job', 'to', 'do', 'and', 'he', 'couldn', 't', 'do', 'it', '.', 'as', 'our', 'country', 'rapidly', 'grows', 'stronger', 'and', 'smarter', ',', 'i', 'want', 'to', 'wish', 'all', 'of', 'my', 'friends', ',', 'supporters', ',', 'enemies', ',', 'hate', '##rs', ',', 'and', 'even', 'the', 'very', 'dish', '##ones', '##t', 'fake', 'news', 'media', ',', 'a', 'happy', 'and', 'healthy', 'new', 'year', ',', 'president', 'angry', 'pants', 't', '##wee', '##ted', '.', '2018', 'will', 'be', 'a', 'great', 'year', 'for', 'america', '!', 'as', 'our', 'country', 'rapidly', 'grows', 'stronger', 'and', 'smarter', ',', 'i', 'want', 'to', 'wish', 'all', 'of', 'my', 'friends', ',', 'supporters', ',', 'enemies', ',', 'hate', '##rs', ',', 'and', 'even', 'the', 'very', 'dish', '##ones', '##t', 'fake', 'news', 'media', ',', 'a', 'happy', 'and', 'healthy', 'new', 'year', '.', '2018', 'will', 'be', 'a', 'great', 'year', 'for', 'america', '!', 'donald', 'j', '.', 'trump', '(', '@', 'real', '##don', '##ald', '##trum', '##p', ')', 'december', '31', ',', '2017', '##trum', '##p', 's', 't', '##wee', '##t', 'went', 'down', 'about', 'as', 'well', '##l', 'as', 'you', 'd', 'expect', '.', 'what', 'kind', 'of', 'president', 'sends', 'a', 'new', 'year', 's', 'greeting', 'like', 'this', 'des', '##pic', '##able', ',', 'petty', ',', 'infant', '##ile', 'gi', '##bber', '##ish', '?', 'only', 'trump', '!', 'his', 'lack', 'of', 'dec', '##ency', 'won', 't', 'even', 'allow', 'him', 'to', 'rise', 'above', 'the', 'gut', '##ter', 'long', 'enough', 'to', 'wish', 'the', 'american', 'citizens', 'a', 'happy', 'new', 'year', '!', 'bishop', 'tal', '##bert', 'swan', '(', '@', 'tal', '##bert', '##sw', '##an', ')', 'december', '31', ',', '2017', '##no', 'one', 'likes', 'you', 'calvin', '(', '@', 'calvin', '##sto', '##well', ')', 'december', '31', ',', '2017', '##you', '##r', 'imp', '##ea', '##chment', 'would', 'make', '2018', 'a', 'great', 'year', 'for', 'america', ',', 'but', 'i', 'll', 'also', 'accept', 'regaining', 'control', 'of', 'congress', '.', 'miranda', 'ya', '##ver', '(', '@', 'miranda', '##ya', '##ver', ')', 'december', '31', ',', '2017', '##do', 'you', 'hear', 'yourself', 'talk', '?', 'when', 'you', 'have', 'to', 'include', 'that', 'many', 'people', 'that', 'hate', 'you', 'you', 'have', 'to', 'wonder', '?', 'why', 'do', 'the', 'they', 'all', 'hate', 'me', '?', 'alan', 'sand', '##ova', '##l', '(', '@', 'alan', '##san', '##do', '##val', '##13', ')', 'december', '31', ',', '2017', '##w', '##ho', 'uses', 'the', 'word', 'hate', '##rs', 'in', 'a', 'new', 'years', 'wish', '?', '?', 'marlene', '(', '@', 'marlene', '##39', '##9', ')', 'december', '31', ',', '2017', '##you', 'can', 't', 'just', 'say', 'happy', 'new', 'year', '?', 'ko', '##ren', 'poll', '##itt', '(', '@', 'ko', '##ren', '##car', '##pen', '##ter', ')', 'december', '31', ',', '2017', '##her', '##e', 's', 'trump', 's', 'new', 'year', 's', 'eve', 't', '##wee', '##t', 'from', '2016', '.', 'happy', 'new', 'year', 'to', 'all', ',', 'including', 'to', 'my', 'many', 'enemies', 'and', 'those', 'who', 'have', 'fought', 'me', 'and', 'lost', 'so', 'badly', 'they', 'just', 'don', 't', 'know', 'what', 'to', 'do', '.', 'love', '!', 'donald', 'j', '.', 'trump', '(', '@', 'real', '##don', '##ald', '##trum', '##p', ')', 'december', '31', ',', '2016', '##thi', '##s', 'is', 'nothing', 'new', 'for', 'trump', '.', 'he', 's', 'been', 'doing', 'this', 'for', 'years', '.', 'trump', 'has', 'directed', 'messages', 'to', 'his', 'enemies', 'and', 'hate', '##rs', 'for', 'new', 'year', 's', ',', 'easter', ',', 'thanksgiving', ',', 'and', 'the', 'anniversary', 'of', '9', '/', '11', '.', 'pic', '.', 'twitter', '.', 'com', '/', '4', '##fp', '##ae', '##2', '##ky', '##pa', 'daniel', 'dale', '(', '@', 'dd', '##ale', '##8', ')', 'december', '31', ',', '2017', '##trum', '##p', 's', 'holiday', 't', '##wee', '##ts', 'are', 'clearly', 'not', 'presidential', '.', 'how', 'long', 'did', 'he', 'work', 'at', 'hallmark', 'before', 'becoming', 'president', '?', 'steven', 'good', '##ine', '(', '@', 'sg', '##ood', '##ine', ')', 'december', '31', ',', '2017', '##he', 's', 'always', 'been', 'like', 'this', '.', '.', '.', 'the', 'only', 'difference', 'is', 'that', 'in', 'the', 'last', 'few', 'years', ',', 'his', 'filter', 'has', 'been', 'breaking', 'down', '.', 'roy', 'sc', '##hul', '##ze', '(', '@', 'th', '##bt', '##ht', '##tt', ')', 'december', '31', ',', '2017', '##w', '##ho', ',', 'apart', 'from', 'a', 'teenager', 'uses', 'the', 'term', 'hate', '##rs', '?', 'wendy', '(', '@', 'wendy', '##w', '##his', '##tle', '##s', ')', 'december', '31', ',', '2017', '##he', 's', 'a', 'fucking', '5', 'year', 'old', 'who', 'knows', '(', '@', 'rainy', '##day', '##80', ')', 'december', '31', ',', '2017', '##so', ',', 'to', 'all', 'the', 'people', 'who', 'voted', 'for', 'this', 'a', 'hole', 'thinking', 'he', 'would', 'change', 'once', 'he', 'got', 'into', 'power', ',', 'you', 'were', 'wrong', '!', '70', '-', 'year', '-', 'old', 'men', 'don', 't', 'change', 'and', 'now', 'he', 's', 'a', 'year', 'older', '.', 'photo', 'by', 'andrew', 'burton', '/', 'get', '##ty', 'images', '.']\n",
            "Token IDS:  [6221, 8398, 2074, 2481, 1056, 4299, 2035, 4841, 1037, 3407, 2047, 2095, 1998, 2681, 2009, 2012, 2008, 1012, 2612, 1010, 2002, 2018, 2000, 2507, 1037, 11245, 2041, 2000, 2010, 6716, 1010, 5223, 2869, 1998, 1996, 2200, 9841, 21821, 2102, 8275, 2739, 2865, 1012, 1996, 2280, 4507, 2265, 2732, 2018, 2074, 2028, 3105, 2000, 2079, 1998, 2002, 2481, 1056, 2079, 2009, 1012, 2004, 2256, 2406, 5901, 7502, 6428, 1998, 25670, 1010, 1045, 2215, 2000, 4299, 2035, 1997, 2026, 2814, 1010, 6793, 1010, 6716, 1010, 5223, 2869, 1010, 1998, 2130, 1996, 2200, 9841, 21821, 2102, 8275, 2739, 2865, 1010, 1037, 3407, 1998, 7965, 2047, 2095, 1010, 2343, 4854, 6471, 1056, 28394, 3064, 1012, 2760, 2097, 2022, 1037, 2307, 2095, 2005, 2637, 999, 2004, 2256, 2406, 5901, 7502, 6428, 1998, 25670, 1010, 1045, 2215, 2000, 4299, 2035, 1997, 2026, 2814, 1010, 6793, 1010, 6716, 1010, 5223, 2869, 1010, 1998, 2130, 1996, 2200, 9841, 21821, 2102, 8275, 2739, 2865, 1010, 1037, 3407, 1998, 7965, 2047, 2095, 1012, 2760, 2097, 2022, 1037, 2307, 2095, 2005, 2637, 999, 6221, 1046, 1012, 8398, 1006, 1030, 2613, 5280, 19058, 24456, 2361, 1007, 2285, 2861, 1010, 2418, 24456, 2361, 1055, 1056, 28394, 2102, 2253, 2091, 2055, 2004, 2092, 2140, 2004, 2017, 1040, 5987, 1012, 2054, 2785, 1997, 2343, 10255, 1037, 2047, 2095, 1055, 14806, 2066, 2023, 4078, 24330, 3085, 1010, 11612, 1010, 10527, 9463, 21025, 29325, 4509, 1029, 2069, 8398, 999, 2010, 3768, 1997, 11703, 11916, 2180, 1056, 2130, 3499, 2032, 2000, 4125, 2682, 1996, 9535, 3334, 2146, 2438, 2000, 4299, 1996, 2137, 4480, 1037, 3407, 2047, 2095, 999, 3387, 21368, 8296, 10677, 1006, 1030, 21368, 8296, 26760, 2319, 1007, 2285, 2861, 1010, 2418, 3630, 2028, 7777, 2017, 11130, 1006, 1030, 11130, 16033, 4381, 1007, 2285, 2861, 1010, 2418, 29337, 2099, 17727, 5243, 22729, 2052, 2191, 2760, 1037, 2307, 2095, 2005, 2637, 1010, 2021, 1045, 2222, 2036, 5138, 28657, 2491, 1997, 3519, 1012, 9392, 8038, 6299, 1006, 1030, 9392, 3148, 6299, 1007, 2285, 2861, 1010, 2418, 3527, 2017, 2963, 4426, 2831, 1029, 2043, 2017, 2031, 2000, 2421, 2008, 2116, 2111, 2008, 5223, 2017, 2017, 2031, 2000, 4687, 1029, 2339, 2079, 1996, 2027, 2035, 5223, 2033, 1029, 5070, 5472, 7103, 2140, 1006, 1030, 5070, 8791, 3527, 10175, 17134, 1007, 2285, 2861, 1010, 2418, 2860, 6806, 3594, 1996, 2773, 5223, 2869, 1999, 1037, 2047, 2086, 4299, 1029, 1029, 26921, 1006, 1030, 26921, 23499, 2683, 1007, 2285, 2861, 1010, 2418, 29337, 2064, 1056, 2074, 2360, 3407, 2047, 2095, 1029, 12849, 7389, 8554, 12474, 1006, 1030, 12849, 7389, 10010, 11837, 3334, 1007, 2285, 2861, 1010, 2418, 5886, 2063, 1055, 8398, 1055, 2047, 2095, 1055, 6574, 1056, 28394, 2102, 2013, 2355, 1012, 3407, 2047, 2095, 2000, 2035, 1010, 2164, 2000, 2026, 2116, 6716, 1998, 2216, 2040, 2031, 4061, 2033, 1998, 2439, 2061, 6649, 2027, 2074, 2123, 1056, 2113, 2054, 2000, 2079, 1012, 2293, 999, 6221, 1046, 1012, 8398, 1006, 1030, 2613, 5280, 19058, 24456, 2361, 1007, 2285, 2861, 1010, 2355, 15222, 2015, 2003, 2498, 2047, 2005, 8398, 1012, 2002, 1055, 2042, 2725, 2023, 2005, 2086, 1012, 8398, 2038, 2856, 7696, 2000, 2010, 6716, 1998, 5223, 2869, 2005, 2047, 2095, 1055, 1010, 10957, 1010, 15060, 1010, 1998, 1996, 5315, 1997, 1023, 1013, 2340, 1012, 27263, 1012, 10474, 1012, 4012, 1013, 1018, 22540, 6679, 2475, 4801, 4502, 3817, 8512, 1006, 1030, 20315, 9453, 2620, 1007, 2285, 2861, 1010, 2418, 24456, 2361, 1055, 6209, 1056, 28394, 3215, 2024, 4415, 2025, 4883, 1012, 2129, 2146, 2106, 2002, 2147, 2012, 25812, 2077, 3352, 2343, 1029, 7112, 2204, 3170, 1006, 1030, 22214, 17139, 3170, 1007, 2285, 2861, 1010, 2418, 5369, 1055, 2467, 2042, 2066, 2023, 1012, 1012, 1012, 1996, 2069, 4489, 2003, 2008, 1999, 1996, 2197, 2261, 2086, 1010, 2010, 11307, 2038, 2042, 4911, 2091, 1012, 6060, 8040, 21886, 4371, 1006, 1030, 16215, 19279, 11039, 4779, 1007, 2285, 2861, 1010, 2418, 2860, 6806, 1010, 4237, 2013, 1037, 10563, 3594, 1996, 2744, 5223, 2869, 1029, 12815, 1006, 1030, 12815, 2860, 24158, 9286, 2015, 1007, 2285, 2861, 1010, 2418, 5369, 1055, 1037, 8239, 1019, 2095, 2214, 2040, 4282, 1006, 1030, 16373, 10259, 17914, 1007, 2285, 2861, 1010, 2418, 6499, 1010, 2000, 2035, 1996, 2111, 2040, 5444, 2005, 2023, 1037, 4920, 3241, 2002, 2052, 2689, 2320, 2002, 2288, 2046, 2373, 1010, 2017, 2020, 3308, 999, 3963, 1011, 2095, 1011, 2214, 2273, 2123, 1056, 2689, 1998, 2085, 2002, 1055, 1037, 2095, 3080, 1012, 6302, 2011, 4080, 9658, 1013, 2131, 3723, 4871, 1012]\n"
          ]
        }
      ]
    }
  ]
}