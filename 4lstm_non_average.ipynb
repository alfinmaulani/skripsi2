{
  "nbformat": 4,
  "nbformat_minor": 0,
  "metadata": {
    "colab": {
      "name": "Untitled15.ipynb",
      "provenance": [],
      "mount_file_id": "https://github.com/alfinmaulani/skripsi/blob/master/4lstm_non_average.ipynb",
      "authorship_tag": "ABX9TyNKea5pCXAbVMeA8MqGTjvq",
      "include_colab_link": true
    },
    "kernelspec": {
      "name": "python3",
      "display_name": "Python 3"
    },
    "language_info": {
      "name": "python"
    }
  },
  "cells": [
    {
      "cell_type": "markdown",
      "metadata": {
        "id": "view-in-github",
        "colab_type": "text"
      },
      "source": [
        "<a href=\"https://colab.research.google.com/github/alfinmaulani/skripsi2/blob/main/4lstm_non_average.ipynb\" target=\"_parent\"><img src=\"https://colab.research.google.com/assets/colab-badge.svg\" alt=\"Open In Colab\"/></a>"
      ]
    },
    {
      "cell_type": "code",
      "metadata": {
        "id": "BIF9lCPhrpf7",
        "colab": {
          "base_uri": "https://localhost:8080/"
        },
        "outputId": "12de4d08-ed90-4d82-ab5b-400aa0635b14"
      },
      "source": [
        "import pandas as pd\n",
        "import numpy as np\n",
        "from sklearn.model_selection import train_test_split\n",
        "\n",
        "!pip install --upgrade scikit-learn\n",
        "\n",
        "import io\n",
        "import os\n",
        "from nltk.tokenize import word_tokenize\n",
        "import nltk\n",
        "nltk.download('punkt')\n",
        "import gensim\n",
        "import ast"
      ],
      "execution_count": null,
      "outputs": [
        {
          "output_type": "stream",
          "name": "stdout",
          "text": [
            "Requirement already satisfied: scikit-learn in /usr/local/lib/python3.7/dist-packages (1.0.2)\n",
            "Requirement already satisfied: joblib>=0.11 in /usr/local/lib/python3.7/dist-packages (from scikit-learn) (1.1.0)\n",
            "Requirement already satisfied: numpy>=1.14.6 in /usr/local/lib/python3.7/dist-packages (from scikit-learn) (1.21.6)\n",
            "Requirement already satisfied: scipy>=1.1.0 in /usr/local/lib/python3.7/dist-packages (from scikit-learn) (1.4.1)\n",
            "Requirement already satisfied: threadpoolctl>=2.0.0 in /usr/local/lib/python3.7/dist-packages (from scikit-learn) (3.1.0)\n",
            "[nltk_data] Downloading package punkt to /root/nltk_data...\n",
            "[nltk_data]   Unzipping tokenizers/punkt.zip.\n"
          ]
        }
      ]
    },
    {
      "cell_type": "code",
      "metadata": {
        "colab": {
          "base_uri": "https://localhost:8080/"
        },
        "id": "OFy9zWmAs-Ia",
        "outputId": "b9a1a2b0-f1ec-4963-ca5a-64bd9c9abda9"
      },
      "source": [
        "from google.colab import drive\n",
        "drive.mount('/content/drive')"
      ],
      "execution_count": null,
      "outputs": [
        {
          "output_type": "stream",
          "name": "stdout",
          "text": [
            "Drive already mounted at /content/drive; to attempt to forcibly remount, call drive.mount(\"/content/drive\", force_remount=True).\n"
          ]
        }
      ]
    },
    {
      "cell_type": "markdown",
      "source": [
        "load korpus"
      ],
      "metadata": {
        "id": "9q51wV0StCDi"
      }
    },
    {
      "cell_type": "code",
      "source": [
        "korpus1a = '/content/drive/MyDrive/korpus1dataisear(preputama).csv'\n",
        "korpus1b = '/content/drive/MyDrive/korpus1dataisear(preptambah).csv'\n",
        "korpus2a = '/content/drive/MyDrive/korpus2(preputama).csv'\n",
        "korpus2b = '/content/drive/MyDrive/korpus2(preptambah).csv'\n",
        "df = pd.read_csv(korpus1b)"
      ],
      "metadata": {
        "id": "oCJrSqqTZ3dv"
      },
      "execution_count": null,
      "outputs": []
    },
    {
      "cell_type": "code",
      "source": [
        "temp=[]\n",
        "for senten in df.dokumen:\n",
        "  temp.append(ast.literal_eval(senten))\n",
        "df.dokumen=temp"
      ],
      "metadata": {
        "id": "CUGL7FBWaFBC"
      },
      "execution_count": null,
      "outputs": []
    },
    {
      "cell_type": "markdown",
      "source": [
        "cari paling panjang dalam korpus"
      ],
      "metadata": {
        "id": "8vSYMSqatKlN"
      }
    },
    {
      "cell_type": "code",
      "source": [
        "paling_panjang=0\n",
        "i=0\n",
        "ke=0\n",
        "for x in df.dokumen:\n",
        "  if paling_panjang<len(x):\n",
        "    paling_panjang=len(x)\n",
        "    kata=x\n",
        "    ke=i\n",
        "  i+=1\n",
        "print(paling_panjang)\n",
        "print(kata)\n",
        "print(ke)"
      ],
      "metadata": {
        "colab": {
          "base_uri": "https://localhost:8080/"
        },
        "id": "gy8Xzcl7rilN",
        "outputId": "0f913cff-f413-469c-a1fe-1c8239c317dd"
      },
      "execution_count": null,
      "outputs": [
        {
          "output_type": "stream",
          "name": "stdout",
          "text": [
            "78\n",
            "['day', 'back', 'wait', 'bus', 'bus', 'stop', 'get', 'bus', 'prepar', 'exact', 'amount', 'coin', 'pay', 'bus', 'fair', 'got', 'bus', 'put', 'coin', 'box', 'meant', 'collect', 'bus', 'fair', 'thought', 'paid', 'want', 'get', 'insid', 'howev', 'bus', 'driver', 'call', 'ask', 'impolit', 'way', 'coin', 'stuck', 'open', 'box', 'seen', 'pay', 'stack', 'coin', 'box', 'could', 'understand', 'driver', 'kept', 'question', 'made', 'feel', 'angri', 'last', 'insert', 'dollar', 'coin', 'box', 'get', 'away', 'later', 'found', 'forgotten', 'coin', 'pocket', 'paid', 'enough', 'fair', 'first', 'time', 'enter', 'bus', 'could', 'still', 'hear', 'scold', 'felt', 'disgust']\n",
            "7443\n"
          ]
        }
      ]
    },
    {
      "cell_type": "code",
      "source": [
        "df.dokumen.iloc[7443]"
      ],
      "metadata": {
        "id": "XzZnT0RUsGX4"
      },
      "execution_count": null,
      "outputs": []
    },
    {
      "cell_type": "markdown",
      "source": [
        "cek"
      ],
      "metadata": {
        "id": "s3P5YZKHMSPH"
      }
    },
    {
      "cell_type": "code",
      "metadata": {
        "colab": {
          "base_uri": "https://localhost:8080/"
        },
        "id": "qwt1pHUS7vCm",
        "outputId": "cefc99d0-39d4-4ba6-de03-a734181499f1"
      },
      "source": [
        "df.info()"
      ],
      "execution_count": null,
      "outputs": [
        {
          "output_type": "stream",
          "name": "stdout",
          "text": [
            "<class 'pandas.core.frame.DataFrame'>\n",
            "RangeIndex: 7516 entries, 0 to 7515\n",
            "Data columns (total 2 columns):\n",
            " #   Column   Non-Null Count  Dtype \n",
            "---  ------   --------------  ----- \n",
            " 0   emosi    7516 non-null   object\n",
            " 1   dokumen  7516 non-null   object\n",
            "dtypes: object(2)\n",
            "memory usage: 117.6+ KB\n"
          ]
        }
      ]
    },
    {
      "cell_type": "markdown",
      "source": [
        "bagi kolom klasifikasi"
      ],
      "metadata": {
        "id": "Xkap0R_ot9Bd"
      }
    },
    {
      "cell_type": "code",
      "metadata": {
        "colab": {
          "base_uri": "https://localhost:8080/",
          "height": 424
        },
        "id": "vF3Lh6Ee43Mm",
        "outputId": "72cad0f7-dccc-4205-9441-3bc927a78cdb"
      },
      "source": [
        "category = pd.get_dummies(df.emosi)\n",
        "df_new = pd.concat([df, category], axis=1)\n",
        "df_new = df_new.drop(columns='emosi')\n",
        "df_new"
      ],
      "execution_count": null,
      "outputs": [
        {
          "output_type": "execute_result",
          "data": {
            "text/plain": [
              "                                                dokumen  anger  disgust  fear  \\\n",
              "0     [day, feel, close, partner, friend, feel, peac...      0        0     0   \n",
              "1     [everi, time, imagin, someon, love, could, con...      0        0     1   \n",
              "2             [obvious, unjust, treat, possibl, elucid]      1        0     0   \n",
              "3     [think, short, time, live, relat, period, life...      0        0     0   \n",
              "4     [gather, found, involuntarili, sit, next, two,...      0        1     0   \n",
              "...                                                 ...    ...      ...   ...   \n",
              "7511  [two, year, back, someon, invit, tutor, grandd...      0        0     0   \n",
              "7512  [taken, respons, someth, prepar, howev, fail, ...      0        0     0   \n",
              "7513  [home, heard, loud, sound, spit, outsid, door,...      0        0     1   \n",
              "7514        [homework, teacher, ask, us, scold, immedi]      0        0     0   \n",
              "7515  [shout, younger, brother, alway, afraid, call,...      0        0     1   \n",
              "\n",
              "      guilt  joy  sadness  shame  \n",
              "0         0    1        0      0  \n",
              "1         0    0        0      0  \n",
              "2         0    0        0      0  \n",
              "3         0    0        1      0  \n",
              "4         0    0        0      0  \n",
              "...     ...  ...      ...    ...  \n",
              "7511      0    0        0      1  \n",
              "7512      0    0        0      1  \n",
              "7513      0    0        0      0  \n",
              "7514      1    0        0      0  \n",
              "7515      0    0        0      0  \n",
              "\n",
              "[7516 rows x 8 columns]"
            ],
            "text/html": [
              "\n",
              "  <div id=\"df-476c8f6b-fb9c-4608-a53e-80a9afc0c7ca\">\n",
              "    <div class=\"colab-df-container\">\n",
              "      <div>\n",
              "<style scoped>\n",
              "    .dataframe tbody tr th:only-of-type {\n",
              "        vertical-align: middle;\n",
              "    }\n",
              "\n",
              "    .dataframe tbody tr th {\n",
              "        vertical-align: top;\n",
              "    }\n",
              "\n",
              "    .dataframe thead th {\n",
              "        text-align: right;\n",
              "    }\n",
              "</style>\n",
              "<table border=\"1\" class=\"dataframe\">\n",
              "  <thead>\n",
              "    <tr style=\"text-align: right;\">\n",
              "      <th></th>\n",
              "      <th>dokumen</th>\n",
              "      <th>anger</th>\n",
              "      <th>disgust</th>\n",
              "      <th>fear</th>\n",
              "      <th>guilt</th>\n",
              "      <th>joy</th>\n",
              "      <th>sadness</th>\n",
              "      <th>shame</th>\n",
              "    </tr>\n",
              "  </thead>\n",
              "  <tbody>\n",
              "    <tr>\n",
              "      <th>0</th>\n",
              "      <td>[day, feel, close, partner, friend, feel, peac...</td>\n",
              "      <td>0</td>\n",
              "      <td>0</td>\n",
              "      <td>0</td>\n",
              "      <td>0</td>\n",
              "      <td>1</td>\n",
              "      <td>0</td>\n",
              "      <td>0</td>\n",
              "    </tr>\n",
              "    <tr>\n",
              "      <th>1</th>\n",
              "      <td>[everi, time, imagin, someon, love, could, con...</td>\n",
              "      <td>0</td>\n",
              "      <td>0</td>\n",
              "      <td>1</td>\n",
              "      <td>0</td>\n",
              "      <td>0</td>\n",
              "      <td>0</td>\n",
              "      <td>0</td>\n",
              "    </tr>\n",
              "    <tr>\n",
              "      <th>2</th>\n",
              "      <td>[obvious, unjust, treat, possibl, elucid]</td>\n",
              "      <td>1</td>\n",
              "      <td>0</td>\n",
              "      <td>0</td>\n",
              "      <td>0</td>\n",
              "      <td>0</td>\n",
              "      <td>0</td>\n",
              "      <td>0</td>\n",
              "    </tr>\n",
              "    <tr>\n",
              "      <th>3</th>\n",
              "      <td>[think, short, time, live, relat, period, life...</td>\n",
              "      <td>0</td>\n",
              "      <td>0</td>\n",
              "      <td>0</td>\n",
              "      <td>0</td>\n",
              "      <td>0</td>\n",
              "      <td>1</td>\n",
              "      <td>0</td>\n",
              "    </tr>\n",
              "    <tr>\n",
              "      <th>4</th>\n",
              "      <td>[gather, found, involuntarili, sit, next, two,...</td>\n",
              "      <td>0</td>\n",
              "      <td>1</td>\n",
              "      <td>0</td>\n",
              "      <td>0</td>\n",
              "      <td>0</td>\n",
              "      <td>0</td>\n",
              "      <td>0</td>\n",
              "    </tr>\n",
              "    <tr>\n",
              "      <th>...</th>\n",
              "      <td>...</td>\n",
              "      <td>...</td>\n",
              "      <td>...</td>\n",
              "      <td>...</td>\n",
              "      <td>...</td>\n",
              "      <td>...</td>\n",
              "      <td>...</td>\n",
              "      <td>...</td>\n",
              "    </tr>\n",
              "    <tr>\n",
              "      <th>7511</th>\n",
              "      <td>[two, year, back, someon, invit, tutor, grandd...</td>\n",
              "      <td>0</td>\n",
              "      <td>0</td>\n",
              "      <td>0</td>\n",
              "      <td>0</td>\n",
              "      <td>0</td>\n",
              "      <td>0</td>\n",
              "      <td>1</td>\n",
              "    </tr>\n",
              "    <tr>\n",
              "      <th>7512</th>\n",
              "      <td>[taken, respons, someth, prepar, howev, fail, ...</td>\n",
              "      <td>0</td>\n",
              "      <td>0</td>\n",
              "      <td>0</td>\n",
              "      <td>0</td>\n",
              "      <td>0</td>\n",
              "      <td>0</td>\n",
              "      <td>1</td>\n",
              "    </tr>\n",
              "    <tr>\n",
              "      <th>7513</th>\n",
              "      <td>[home, heard, loud, sound, spit, outsid, door,...</td>\n",
              "      <td>0</td>\n",
              "      <td>0</td>\n",
              "      <td>1</td>\n",
              "      <td>0</td>\n",
              "      <td>0</td>\n",
              "      <td>0</td>\n",
              "      <td>0</td>\n",
              "    </tr>\n",
              "    <tr>\n",
              "      <th>7514</th>\n",
              "      <td>[homework, teacher, ask, us, scold, immedi]</td>\n",
              "      <td>0</td>\n",
              "      <td>0</td>\n",
              "      <td>0</td>\n",
              "      <td>1</td>\n",
              "      <td>0</td>\n",
              "      <td>0</td>\n",
              "      <td>0</td>\n",
              "    </tr>\n",
              "    <tr>\n",
              "      <th>7515</th>\n",
              "      <td>[shout, younger, brother, alway, afraid, call,...</td>\n",
              "      <td>0</td>\n",
              "      <td>0</td>\n",
              "      <td>1</td>\n",
              "      <td>0</td>\n",
              "      <td>0</td>\n",
              "      <td>0</td>\n",
              "      <td>0</td>\n",
              "    </tr>\n",
              "  </tbody>\n",
              "</table>\n",
              "<p>7516 rows × 8 columns</p>\n",
              "</div>\n",
              "      <button class=\"colab-df-convert\" onclick=\"convertToInteractive('df-476c8f6b-fb9c-4608-a53e-80a9afc0c7ca')\"\n",
              "              title=\"Convert this dataframe to an interactive table.\"\n",
              "              style=\"display:none;\">\n",
              "        \n",
              "  <svg xmlns=\"http://www.w3.org/2000/svg\" height=\"24px\"viewBox=\"0 0 24 24\"\n",
              "       width=\"24px\">\n",
              "    <path d=\"M0 0h24v24H0V0z\" fill=\"none\"/>\n",
              "    <path d=\"M18.56 5.44l.94 2.06.94-2.06 2.06-.94-2.06-.94-.94-2.06-.94 2.06-2.06.94zm-11 1L8.5 8.5l.94-2.06 2.06-.94-2.06-.94L8.5 2.5l-.94 2.06-2.06.94zm10 10l.94 2.06.94-2.06 2.06-.94-2.06-.94-.94-2.06-.94 2.06-2.06.94z\"/><path d=\"M17.41 7.96l-1.37-1.37c-.4-.4-.92-.59-1.43-.59-.52 0-1.04.2-1.43.59L10.3 9.45l-7.72 7.72c-.78.78-.78 2.05 0 2.83L4 21.41c.39.39.9.59 1.41.59.51 0 1.02-.2 1.41-.59l7.78-7.78 2.81-2.81c.8-.78.8-2.07 0-2.86zM5.41 20L4 18.59l7.72-7.72 1.47 1.35L5.41 20z\"/>\n",
              "  </svg>\n",
              "      </button>\n",
              "      \n",
              "  <style>\n",
              "    .colab-df-container {\n",
              "      display:flex;\n",
              "      flex-wrap:wrap;\n",
              "      gap: 12px;\n",
              "    }\n",
              "\n",
              "    .colab-df-convert {\n",
              "      background-color: #E8F0FE;\n",
              "      border: none;\n",
              "      border-radius: 50%;\n",
              "      cursor: pointer;\n",
              "      display: none;\n",
              "      fill: #1967D2;\n",
              "      height: 32px;\n",
              "      padding: 0 0 0 0;\n",
              "      width: 32px;\n",
              "    }\n",
              "\n",
              "    .colab-df-convert:hover {\n",
              "      background-color: #E2EBFA;\n",
              "      box-shadow: 0px 1px 2px rgba(60, 64, 67, 0.3), 0px 1px 3px 1px rgba(60, 64, 67, 0.15);\n",
              "      fill: #174EA6;\n",
              "    }\n",
              "\n",
              "    [theme=dark] .colab-df-convert {\n",
              "      background-color: #3B4455;\n",
              "      fill: #D2E3FC;\n",
              "    }\n",
              "\n",
              "    [theme=dark] .colab-df-convert:hover {\n",
              "      background-color: #434B5C;\n",
              "      box-shadow: 0px 1px 3px 1px rgba(0, 0, 0, 0.15);\n",
              "      filter: drop-shadow(0px 1px 2px rgba(0, 0, 0, 0.3));\n",
              "      fill: #FFFFFF;\n",
              "    }\n",
              "  </style>\n",
              "\n",
              "      <script>\n",
              "        const buttonEl =\n",
              "          document.querySelector('#df-476c8f6b-fb9c-4608-a53e-80a9afc0c7ca button.colab-df-convert');\n",
              "        buttonEl.style.display =\n",
              "          google.colab.kernel.accessAllowed ? 'block' : 'none';\n",
              "\n",
              "        async function convertToInteractive(key) {\n",
              "          const element = document.querySelector('#df-476c8f6b-fb9c-4608-a53e-80a9afc0c7ca');\n",
              "          const dataTable =\n",
              "            await google.colab.kernel.invokeFunction('convertToInteractive',\n",
              "                                                     [key], {});\n",
              "          if (!dataTable) return;\n",
              "\n",
              "          const docLinkHtml = 'Like what you see? Visit the ' +\n",
              "            '<a target=\"_blank\" href=https://colab.research.google.com/notebooks/data_table.ipynb>data table notebook</a>'\n",
              "            + ' to learn more about interactive tables.';\n",
              "          element.innerHTML = '';\n",
              "          dataTable['output_type'] = 'display_data';\n",
              "          await google.colab.output.renderOutput(dataTable, element);\n",
              "          const docLink = document.createElement('div');\n",
              "          docLink.innerHTML = docLinkHtml;\n",
              "          element.appendChild(docLink);\n",
              "        }\n",
              "      </script>\n",
              "    </div>\n",
              "  </div>\n",
              "  "
            ]
          },
          "metadata": {},
          "execution_count": 7
        }
      ]
    },
    {
      "cell_type": "markdown",
      "source": [
        "cek null"
      ],
      "metadata": {
        "id": "W8Xn40ztuDXe"
      }
    },
    {
      "cell_type": "code",
      "metadata": {
        "colab": {
          "base_uri": "https://localhost:8080/"
        },
        "id": "1fA1cx3AudMO",
        "outputId": "7cd0246b-097b-4091-951e-b59c2a4c4cb6"
      },
      "source": [
        "df_new.isnull().sum()"
      ],
      "execution_count": null,
      "outputs": [
        {
          "output_type": "execute_result",
          "data": {
            "text/plain": [
              "dokumen    0\n",
              "anger      0\n",
              "disgust    0\n",
              "fear       0\n",
              "guilt      0\n",
              "joy        0\n",
              "sadness    0\n",
              "shame      0\n",
              "dtype: int64"
            ]
          },
          "metadata": {},
          "execution_count": 8
        }
      ]
    },
    {
      "cell_type": "markdown",
      "source": [
        "padding"
      ],
      "metadata": {
        "id": "xRJH3DC6vu0t"
      }
    },
    {
      "cell_type": "code",
      "metadata": {
        "id": "YaLeDSfswwU6"
      },
      "source": [
        "max_features = paling_panjang+2"
      ],
      "execution_count": null,
      "outputs": []
    },
    {
      "cell_type": "code",
      "source": [
        "max_features"
      ],
      "metadata": {
        "colab": {
          "base_uri": "https://localhost:8080/"
        },
        "id": "-fP0dcsyBMGP",
        "outputId": "28aee83e-9cb1-4ace-b3a6-4f248ccece24"
      },
      "execution_count": null,
      "outputs": [
        {
          "output_type": "execute_result",
          "data": {
            "text/plain": [
              "80"
            ]
          },
          "metadata": {},
          "execution_count": 10
        }
      ]
    },
    {
      "cell_type": "code",
      "source": [
        "from tensorflow.keras.preprocessing.text import Tokenizer\n",
        "tokenizer = Tokenizer(num_words=10000)\n",
        "tokenizer.fit_on_texts(df.dokumen)"
      ],
      "metadata": {
        "id": "YMJ9pa5xoVqT"
      },
      "execution_count": null,
      "outputs": []
    },
    {
      "cell_type": "code",
      "metadata": {
        "id": "Lq7cMk2FwOAd"
      },
      "source": [
        "from keras.preprocessing import sequence\n",
        "from keras.preprocessing.sequence import pad_sequences\n",
        "# from tensorflow.keras.preprocessing.sequence import pad_sequences\n",
        "\n",
        "# seq = tokenizer.texts_to_sequences(df.dokumen)\n",
        "seq_test = tokenizer.texts_to_sequences(df.dokumen)\n",
        "\n",
        "X_pad = sequence.pad_sequences(seq_test, padding='pre', maxlen=max_features)\n",
        "# X_test_pad = pad_sequences(seq_test, padding='post',)\n",
        "\n",
        "# train_padded = pad_sequences(train_sequences, maxlen=max_len, truncating=\"post\", padding=\"post\")"
      ],
      "execution_count": null,
      "outputs": []
    },
    {
      "cell_type": "code",
      "source": [
        "jumlah_kata=len(tokenizer.word_index)"
      ],
      "metadata": {
        "id": "0UUqB2O3Mj42"
      },
      "execution_count": null,
      "outputs": []
    },
    {
      "cell_type": "code",
      "source": [
        "word_index=tokenizer.word_index"
      ],
      "metadata": {
        "id": "godpkxUZAhF_"
      },
      "execution_count": null,
      "outputs": []
    },
    {
      "cell_type": "code",
      "source": [
        "word_index[\"yes\"]"
      ],
      "metadata": {
        "colab": {
          "base_uri": "https://localhost:8080/"
        },
        "id": "NtRtzo1_O2Zq",
        "outputId": "224d0777-dfe0-46bd-deaf-8c25f1ffbb6e"
      },
      "execution_count": null,
      "outputs": [
        {
          "output_type": "execute_result",
          "data": {
            "text/plain": [
              "1986"
            ]
          },
          "metadata": {},
          "execution_count": 15
        }
      ]
    },
    {
      "cell_type": "code",
      "metadata": {
        "id": "W2Elw8wBv8WE",
        "colab": {
          "base_uri": "https://localhost:8080/"
        },
        "outputId": "3e07bf3f-36de-4c3f-ba30-8863b9561db2"
      },
      "source": [
        "X = X_pad\n",
        "y = df_new[['anger', 'disgust', 'fear', 'guilt', 'joy', 'sadness', 'shame']].values\n",
        "print(np.shape(X))\n",
        "print(np.shape(y))"
      ],
      "execution_count": null,
      "outputs": [
        {
          "output_type": "stream",
          "name": "stdout",
          "text": [
            "(7516, 80)\n",
            "(7516, 7)\n"
          ]
        }
      ]
    },
    {
      "cell_type": "markdown",
      "source": [
        "load model word embedding"
      ],
      "metadata": {
        "id": "H6PacQf_tRL9"
      }
    },
    {
      "cell_type": "code",
      "source": [
        "pakai_model=1"
      ],
      "metadata": {
        "id": "7xkX3itbaKcM"
      },
      "execution_count": null,
      "outputs": []
    },
    {
      "cell_type": "code",
      "source": [
        "from gensim.models import word2vec\n",
        "!pip install glove-python-binary\n",
        "from glove import Glove\n",
        "from glove import Corpus"
      ],
      "metadata": {
        "colab": {
          "base_uri": "https://localhost:8080/"
        },
        "id": "U7xbq3pvaOO4",
        "outputId": "6f11fd28-cc85-46e1-8e0e-02363a5db2b9"
      },
      "execution_count": null,
      "outputs": [
        {
          "output_type": "stream",
          "name": "stdout",
          "text": [
            "Collecting glove-python-binary\n",
            "  Downloading glove_python_binary-0.2.0-cp37-cp37m-manylinux1_x86_64.whl (948 kB)\n",
            "\u001b[?25l\r\u001b[K     |▍                               | 10 kB 26.3 MB/s eta 0:00:01\r\u001b[K     |▊                               | 20 kB 31.5 MB/s eta 0:00:01\r\u001b[K     |█                               | 30 kB 23.7 MB/s eta 0:00:01\r\u001b[K     |█▍                              | 40 kB 18.3 MB/s eta 0:00:01\r\u001b[K     |█▊                              | 51 kB 7.2 MB/s eta 0:00:01\r\u001b[K     |██                              | 61 kB 8.5 MB/s eta 0:00:01\r\u001b[K     |██▍                             | 71 kB 8.4 MB/s eta 0:00:01\r\u001b[K     |██▊                             | 81 kB 8.7 MB/s eta 0:00:01\r\u001b[K     |███                             | 92 kB 9.6 MB/s eta 0:00:01\r\u001b[K     |███▌                            | 102 kB 7.8 MB/s eta 0:00:01\r\u001b[K     |███▉                            | 112 kB 7.8 MB/s eta 0:00:01\r\u001b[K     |████▏                           | 122 kB 7.8 MB/s eta 0:00:01\r\u001b[K     |████▌                           | 133 kB 7.8 MB/s eta 0:00:01\r\u001b[K     |████▉                           | 143 kB 7.8 MB/s eta 0:00:01\r\u001b[K     |█████▏                          | 153 kB 7.8 MB/s eta 0:00:01\r\u001b[K     |█████▌                          | 163 kB 7.8 MB/s eta 0:00:01\r\u001b[K     |█████▉                          | 174 kB 7.8 MB/s eta 0:00:01\r\u001b[K     |██████▏                         | 184 kB 7.8 MB/s eta 0:00:01\r\u001b[K     |██████▋                         | 194 kB 7.8 MB/s eta 0:00:01\r\u001b[K     |███████                         | 204 kB 7.8 MB/s eta 0:00:01\r\u001b[K     |███████▎                        | 215 kB 7.8 MB/s eta 0:00:01\r\u001b[K     |███████▋                        | 225 kB 7.8 MB/s eta 0:00:01\r\u001b[K     |████████                        | 235 kB 7.8 MB/s eta 0:00:01\r\u001b[K     |████████▎                       | 245 kB 7.8 MB/s eta 0:00:01\r\u001b[K     |████████▋                       | 256 kB 7.8 MB/s eta 0:00:01\r\u001b[K     |█████████                       | 266 kB 7.8 MB/s eta 0:00:01\r\u001b[K     |█████████▎                      | 276 kB 7.8 MB/s eta 0:00:01\r\u001b[K     |█████████▊                      | 286 kB 7.8 MB/s eta 0:00:01\r\u001b[K     |██████████                      | 296 kB 7.8 MB/s eta 0:00:01\r\u001b[K     |██████████▍                     | 307 kB 7.8 MB/s eta 0:00:01\r\u001b[K     |██████████▊                     | 317 kB 7.8 MB/s eta 0:00:01\r\u001b[K     |███████████                     | 327 kB 7.8 MB/s eta 0:00:01\r\u001b[K     |███████████▍                    | 337 kB 7.8 MB/s eta 0:00:01\r\u001b[K     |███████████▊                    | 348 kB 7.8 MB/s eta 0:00:01\r\u001b[K     |████████████                    | 358 kB 7.8 MB/s eta 0:00:01\r\u001b[K     |████████████▍                   | 368 kB 7.8 MB/s eta 0:00:01\r\u001b[K     |████████████▊                   | 378 kB 7.8 MB/s eta 0:00:01\r\u001b[K     |█████████████▏                  | 389 kB 7.8 MB/s eta 0:00:01\r\u001b[K     |█████████████▌                  | 399 kB 7.8 MB/s eta 0:00:01\r\u001b[K     |█████████████▉                  | 409 kB 7.8 MB/s eta 0:00:01\r\u001b[K     |██████████████▏                 | 419 kB 7.8 MB/s eta 0:00:01\r\u001b[K     |██████████████▌                 | 430 kB 7.8 MB/s eta 0:00:01\r\u001b[K     |██████████████▉                 | 440 kB 7.8 MB/s eta 0:00:01\r\u001b[K     |███████████████▏                | 450 kB 7.8 MB/s eta 0:00:01\r\u001b[K     |███████████████▌                | 460 kB 7.8 MB/s eta 0:00:01\r\u001b[K     |███████████████▉                | 471 kB 7.8 MB/s eta 0:00:01\r\u001b[K     |████████████████▎               | 481 kB 7.8 MB/s eta 0:00:01\r\u001b[K     |████████████████▋               | 491 kB 7.8 MB/s eta 0:00:01\r\u001b[K     |█████████████████               | 501 kB 7.8 MB/s eta 0:00:01\r\u001b[K     |█████████████████▎              | 512 kB 7.8 MB/s eta 0:00:01\r\u001b[K     |█████████████████▋              | 522 kB 7.8 MB/s eta 0:00:01\r\u001b[K     |██████████████████              | 532 kB 7.8 MB/s eta 0:00:01\r\u001b[K     |██████████████████▎             | 542 kB 7.8 MB/s eta 0:00:01\r\u001b[K     |██████████████████▋             | 552 kB 7.8 MB/s eta 0:00:01\r\u001b[K     |███████████████████             | 563 kB 7.8 MB/s eta 0:00:01\r\u001b[K     |███████████████████▍            | 573 kB 7.8 MB/s eta 0:00:01\r\u001b[K     |███████████████████▊            | 583 kB 7.8 MB/s eta 0:00:01\r\u001b[K     |████████████████████            | 593 kB 7.8 MB/s eta 0:00:01\r\u001b[K     |████████████████████▍           | 604 kB 7.8 MB/s eta 0:00:01\r\u001b[K     |████████████████████▊           | 614 kB 7.8 MB/s eta 0:00:01\r\u001b[K     |█████████████████████           | 624 kB 7.8 MB/s eta 0:00:01\r\u001b[K     |█████████████████████▍          | 634 kB 7.8 MB/s eta 0:00:01\r\u001b[K     |█████████████████████▊          | 645 kB 7.8 MB/s eta 0:00:01\r\u001b[K     |██████████████████████          | 655 kB 7.8 MB/s eta 0:00:01\r\u001b[K     |██████████████████████▌         | 665 kB 7.8 MB/s eta 0:00:01\r\u001b[K     |██████████████████████▉         | 675 kB 7.8 MB/s eta 0:00:01\r\u001b[K     |███████████████████████▏        | 686 kB 7.8 MB/s eta 0:00:01\r\u001b[K     |███████████████████████▌        | 696 kB 7.8 MB/s eta 0:00:01\r\u001b[K     |███████████████████████▉        | 706 kB 7.8 MB/s eta 0:00:01\r\u001b[K     |████████████████████████▏       | 716 kB 7.8 MB/s eta 0:00:01\r\u001b[K     |████████████████████████▌       | 727 kB 7.8 MB/s eta 0:00:01\r\u001b[K     |████████████████████████▉       | 737 kB 7.8 MB/s eta 0:00:01\r\u001b[K     |█████████████████████████▏      | 747 kB 7.8 MB/s eta 0:00:01\r\u001b[K     |█████████████████████████▌      | 757 kB 7.8 MB/s eta 0:00:01\r\u001b[K     |██████████████████████████      | 768 kB 7.8 MB/s eta 0:00:01\r\u001b[K     |██████████████████████████▎     | 778 kB 7.8 MB/s eta 0:00:01\r\u001b[K     |██████████████████████████▋     | 788 kB 7.8 MB/s eta 0:00:01\r\u001b[K     |███████████████████████████     | 798 kB 7.8 MB/s eta 0:00:01\r\u001b[K     |███████████████████████████▎    | 808 kB 7.8 MB/s eta 0:00:01\r\u001b[K     |███████████████████████████▋    | 819 kB 7.8 MB/s eta 0:00:01\r\u001b[K     |████████████████████████████    | 829 kB 7.8 MB/s eta 0:00:01\r\u001b[K     |████████████████████████████▎   | 839 kB 7.8 MB/s eta 0:00:01\r\u001b[K     |████████████████████████████▋   | 849 kB 7.8 MB/s eta 0:00:01\r\u001b[K     |█████████████████████████████   | 860 kB 7.8 MB/s eta 0:00:01\r\u001b[K     |█████████████████████████████▍  | 870 kB 7.8 MB/s eta 0:00:01\r\u001b[K     |█████████████████████████████▊  | 880 kB 7.8 MB/s eta 0:00:01\r\u001b[K     |██████████████████████████████  | 890 kB 7.8 MB/s eta 0:00:01\r\u001b[K     |██████████████████████████████▍ | 901 kB 7.8 MB/s eta 0:00:01\r\u001b[K     |██████████████████████████████▊ | 911 kB 7.8 MB/s eta 0:00:01\r\u001b[K     |███████████████████████████████ | 921 kB 7.8 MB/s eta 0:00:01\r\u001b[K     |███████████████████████████████▍| 931 kB 7.8 MB/s eta 0:00:01\r\u001b[K     |███████████████████████████████▊| 942 kB 7.8 MB/s eta 0:00:01\r\u001b[K     |████████████████████████████████| 948 kB 7.8 MB/s \n",
            "\u001b[?25hRequirement already satisfied: scipy in /usr/local/lib/python3.7/dist-packages (from glove-python-binary) (1.4.1)\n",
            "Requirement already satisfied: numpy in /usr/local/lib/python3.7/dist-packages (from glove-python-binary) (1.21.6)\n",
            "Installing collected packages: glove-python-binary\n",
            "Successfully installed glove-python-binary-0.2.0\n"
          ]
        }
      ]
    },
    {
      "cell_type": "code",
      "source": [
        "if pakai_model == 1:#load model word2vec\n",
        "  model = gensim.models.word2vec.Word2Vec.load('/content/drive/MyDrive/korpus1+blog(preptambah).w2v')\n",
        "\n",
        "elif pakai_model == 2:#load model glove\n",
        "  model=Glove.load('/content/drive/MyDrive/korpus1+blog(preputama).glove')"
      ],
      "metadata": {
        "id": "HjQcCGwYaX3S"
      },
      "execution_count": null,
      "outputs": []
    },
    {
      "cell_type": "markdown",
      "source": [
        "ft"
      ],
      "metadata": {
        "id": "ELOiyP_OsDFJ"
      }
    },
    {
      "cell_type": "code",
      "source": [
        "model=0"
      ],
      "metadata": {
        "id": "dDY-Wn1eq8GT"
      },
      "execution_count": null,
      "outputs": []
    },
    {
      "cell_type": "code",
      "source": [
        "import gensim\n",
        "import multiprocessing\n",
        "from gensim.models import FastText"
      ],
      "metadata": {
        "id": "7b4Sz66SsCip"
      },
      "execution_count": null,
      "outputs": []
    },
    {
      "cell_type": "code",
      "source": [
        "model=gensim.models.FastText.load('/content/drive/MyDrive/korpus1+blog(preptambah).ft')"
      ],
      "metadata": {
        "id": "F8Q_jyOgsIUV"
      },
      "execution_count": null,
      "outputs": []
    },
    {
      "cell_type": "code",
      "source": [
        "model.wv.vectors.shape"
      ],
      "metadata": {
        "id": "FNz7a06dsMJ8",
        "outputId": "5d2258b9-c07b-4d79-e4d5-03bee751e53a",
        "colab": {
          "base_uri": "https://localhost:8080/"
        }
      },
      "execution_count": null,
      "outputs": [
        {
          "output_type": "execute_result",
          "data": {
            "text/plain": [
              "(908097, 100)"
            ]
          },
          "metadata": {},
          "execution_count": 23
        }
      ]
    },
    {
      "cell_type": "code",
      "source": [
        "model.wv[\"yes\"]"
      ],
      "metadata": {
        "id": "4wtQ0XL2sPma",
        "outputId": "7578fdd6-074a-4868-eea3-95787874ccd9",
        "colab": {
          "base_uri": "https://localhost:8080/"
        }
      },
      "execution_count": null,
      "outputs": [
        {
          "output_type": "execute_result",
          "data": {
            "text/plain": [
              "array([-1.6030304e-01,  7.4624933e-02, -6.6067569e-02, -1.9056515e-01,\n",
              "       -1.0811662e-01, -1.5898502e-01,  2.9597646e-01, -4.9413821e-01,\n",
              "        2.1252683e-01, -2.1294379e-01,  3.7743473e-01,  1.4332914e-01,\n",
              "        1.4581354e-01, -5.7055080e-01,  2.0915738e-01,  2.4308136e-01,\n",
              "       -1.4109777e-01, -4.7160303e-03, -2.7090126e-01, -3.0724242e-01,\n",
              "        1.4733352e-02, -3.5831356e-01,  9.4068901e-06,  3.6258164e-01,\n",
              "       -1.8123712e-02, -9.6960090e-02,  9.9078618e-02, -5.3254449e-01,\n",
              "       -2.8545660e-01,  7.3417984e-02, -2.3300426e-01,  1.8089540e-01,\n",
              "        6.9177553e-02,  5.4255271e-01, -6.1472241e-02, -1.8647979e-01,\n",
              "        4.5107561e-01, -1.5016389e-01,  5.9499055e-01, -2.1075526e-02,\n",
              "       -1.6485551e-01,  1.6829541e-02, -4.1091588e-01, -2.7934644e-02,\n",
              "       -3.9017105e-01, -6.2679189e-01, -1.1576921e-02, -5.5312060e-02,\n",
              "        3.4623152e-01, -3.5690212e-01, -8.1305422e-02, -6.4371251e-02,\n",
              "       -1.6630973e-01,  3.2814007e-02,  3.3163077e-01,  2.6075128e-01,\n",
              "       -1.9765241e-02, -7.4357376e-02, -5.8203217e-02,  1.3356081e-02,\n",
              "       -3.8230425e-01,  1.4460786e-01,  3.4959835e-01, -1.2472988e-01,\n",
              "       -4.6244461e-02,  2.1938038e-01, -5.1498424e-02, -7.2800744e-01,\n",
              "        3.8593844e-01, -1.8280371e-01, -3.6049432e-01,  4.2952603e-01,\n",
              "       -6.9881305e-02, -1.4293408e-01, -9.2987977e-02, -1.9340906e-02,\n",
              "       -5.6156952e-02,  5.5939364e-01,  6.2138093e-01, -7.1658856e-01,\n",
              "        8.8203020e-02, -6.5201092e-01,  5.0277424e-01,  1.7799003e-01,\n",
              "        1.6060042e-01,  4.6538410e-01, -2.4630950e-01, -4.7714370e-01,\n",
              "        4.2622128e-01,  2.5223181e-01, -3.3694711e-01, -1.4109284e-01,\n",
              "        5.2808297e-01, -1.8708217e-01, -1.6453731e-01,  2.1814875e-01,\n",
              "       -7.5006537e-02, -2.6215723e-01, -2.4909210e-01,  8.0013620e-03],\n",
              "      dtype=float32)"
            ]
          },
          "metadata": {},
          "execution_count": 24
        }
      ]
    },
    {
      "cell_type": "markdown",
      "source": [
        "cek model word embedding"
      ],
      "metadata": {
        "id": "J0Jlk0notaUr"
      }
    },
    {
      "cell_type": "code",
      "source": [
        "if pakai_model == 1:\n",
        "  print(model.wv.vectors.shape)\n",
        "elif pakai_model == 2:\n",
        "  print(model.word_vectors.shape)"
      ],
      "metadata": {
        "colab": {
          "base_uri": "https://localhost:8080/"
        },
        "id": "oE-vbIpqaca4",
        "outputId": "f066b716-55f9-421f-dea1-a21efd67e264"
      },
      "execution_count": null,
      "outputs": [
        {
          "output_type": "stream",
          "name": "stdout",
          "text": [
            "(908097, 100)\n"
          ]
        }
      ]
    },
    {
      "cell_type": "code",
      "source": [
        "if pakai_model == 1:\n",
        "  print(model.wv[\"yes\"])\n",
        "elif pakai_model == 2:\n",
        "  print(model.word_vectors[model.dictionary['yes']])"
      ],
      "metadata": {
        "id": "80ry-JxKcK3w",
        "colab": {
          "base_uri": "https://localhost:8080/"
        },
        "outputId": "a21c9aa7-16f9-43a6-8e99-94a20c3e4d2e"
      },
      "execution_count": null,
      "outputs": [
        {
          "output_type": "stream",
          "name": "stdout",
          "text": [
            "[-1.6030304e-01  7.4624933e-02 -6.6067569e-02 -1.9056515e-01\n",
            " -1.0811662e-01 -1.5898502e-01  2.9597646e-01 -4.9413821e-01\n",
            "  2.1252683e-01 -2.1294379e-01  3.7743473e-01  1.4332914e-01\n",
            "  1.4581354e-01 -5.7055080e-01  2.0915738e-01  2.4308136e-01\n",
            " -1.4109777e-01 -4.7160303e-03 -2.7090126e-01 -3.0724242e-01\n",
            "  1.4733352e-02 -3.5831356e-01  9.4068901e-06  3.6258164e-01\n",
            " -1.8123712e-02 -9.6960090e-02  9.9078618e-02 -5.3254449e-01\n",
            " -2.8545660e-01  7.3417984e-02 -2.3300426e-01  1.8089540e-01\n",
            "  6.9177553e-02  5.4255271e-01 -6.1472241e-02 -1.8647979e-01\n",
            "  4.5107561e-01 -1.5016389e-01  5.9499055e-01 -2.1075526e-02\n",
            " -1.6485551e-01  1.6829541e-02 -4.1091588e-01 -2.7934644e-02\n",
            " -3.9017105e-01 -6.2679189e-01 -1.1576921e-02 -5.5312060e-02\n",
            "  3.4623152e-01 -3.5690212e-01 -8.1305422e-02 -6.4371251e-02\n",
            " -1.6630973e-01  3.2814007e-02  3.3163077e-01  2.6075128e-01\n",
            " -1.9765241e-02 -7.4357376e-02 -5.8203217e-02  1.3356081e-02\n",
            " -3.8230425e-01  1.4460786e-01  3.4959835e-01 -1.2472988e-01\n",
            " -4.6244461e-02  2.1938038e-01 -5.1498424e-02 -7.2800744e-01\n",
            "  3.8593844e-01 -1.8280371e-01 -3.6049432e-01  4.2952603e-01\n",
            " -6.9881305e-02 -1.4293408e-01 -9.2987977e-02 -1.9340906e-02\n",
            " -5.6156952e-02  5.5939364e-01  6.2138093e-01 -7.1658856e-01\n",
            "  8.8203020e-02 -6.5201092e-01  5.0277424e-01  1.7799003e-01\n",
            "  1.6060042e-01  4.6538410e-01 -2.4630950e-01 -4.7714370e-01\n",
            "  4.2622128e-01  2.5223181e-01 -3.3694711e-01 -1.4109284e-01\n",
            "  5.2808297e-01 -1.8708217e-01 -1.6453731e-01  2.1814875e-01\n",
            " -7.5006537e-02 -2.6215723e-01 -2.4909210e-01  8.0013620e-03]\n"
          ]
        }
      ]
    },
    {
      "cell_type": "markdown",
      "source": [
        "load pre trained"
      ],
      "metadata": {
        "id": "utck7d54AgCs"
      }
    },
    {
      "cell_type": "code",
      "source": [
        "from gensim.models import KeyedVectors\n",
        "from gensim.scripts.glove2word2vec import glove2word2vec\n",
        "from gensim.test.utils import get_tmpfile"
      ],
      "metadata": {
        "id": "_gUD6rwMAAgR"
      },
      "execution_count": null,
      "outputs": []
    },
    {
      "cell_type": "code",
      "source": [
        "w2vtweet='/content/drive/MyDrive/word2vec_twitter_tokens (1).bin'\n",
        "glovetweet='/content/drive/MyDrive/glove.twitter.27B.100d.txt'\n",
        "glovetweet2='/content/drive/MyDrive/glove.6B.100d.txt'"
      ],
      "metadata": {
        "id": "8JHCvqXzAqNA"
      },
      "execution_count": null,
      "outputs": []
    },
    {
      "cell_type": "code",
      "source": [
        "w2vlain='/content/drive/MyDrive/enwiki.skip.size100.win10.neg15.sample1e-5.min15.txt'"
      ],
      "metadata": {
        "id": "nQzYCXV7BC92"
      },
      "execution_count": null,
      "outputs": []
    },
    {
      "cell_type": "code",
      "source": [
        "#w2v\n",
        "model = KeyedVectors.load_word2vec_format(w2vlain, binary=False)"
      ],
      "metadata": {
        "id": "6VngRlmLBOlH"
      },
      "execution_count": null,
      "outputs": []
    },
    {
      "cell_type": "code",
      "source": [
        "#glove\n",
        "tmp_file = get_tmpfile(\"/content/drive/MyDrive/enwiki.skip.size100.win10.neg15.sample1e-5.min15.txt\")\n",
        "glove2word2vec(glovetweet2, tmp_file)\n",
        "model = KeyedVectors.load_word2vec_format(tmp_file)"
      ],
      "metadata": {
        "id": "N-iHg_U8FU2P"
      },
      "execution_count": null,
      "outputs": []
    },
    {
      "cell_type": "code",
      "source": [
        "model.wv.vectors.shape"
      ],
      "metadata": {
        "id": "ujtvTLvZCBOK",
        "outputId": "c0f2f293-a7f1-4736-abac-c462e92522ed",
        "colab": {
          "base_uri": "https://localhost:8080/"
        }
      },
      "execution_count": null,
      "outputs": [
        {
          "output_type": "stream",
          "name": "stderr",
          "text": [
            "/usr/local/lib/python3.7/dist-packages/ipykernel_launcher.py:1: DeprecationWarning: Call to deprecated `wv` (Attribute will be removed in 4.0.0, use self instead).\n",
            "  \"\"\"Entry point for launching an IPython kernel.\n"
          ]
        },
        {
          "output_type": "execute_result",
          "data": {
            "text/plain": [
              "(400000, 100)"
            ]
          },
          "metadata": {},
          "execution_count": 71
        }
      ]
    },
    {
      "cell_type": "markdown",
      "source": [
        "buat dictionary"
      ],
      "metadata": {
        "id": "rCcjFXR2NOX_"
      }
    },
    {
      "cell_type": "code",
      "source": [
        "num_words = len(word_index) + 1\n",
        "embedding_matrix = np.zeros((num_words, 100))"
      ],
      "metadata": {
        "id": "dbMgDY3tf-cl"
      },
      "execution_count": null,
      "outputs": []
    },
    {
      "cell_type": "code",
      "source": [
        "word_index[\"yes\"]"
      ],
      "metadata": {
        "colab": {
          "base_uri": "https://localhost:8080/"
        },
        "id": "QBy3_DgRgwbo",
        "outputId": "42691a52-c69e-449f-e4fc-077051437ff0"
      },
      "execution_count": null,
      "outputs": [
        {
          "output_type": "execute_result",
          "data": {
            "text/plain": [
              "1986"
            ]
          },
          "metadata": {},
          "execution_count": 28
        }
      ]
    },
    {
      "cell_type": "code",
      "source": [
        "for word, i in word_index.items():\n",
        "  try:\n",
        "    emb_vec = model.wv[word]\n",
        "  except:\n",
        "    emb_vec = None\n",
        "  if emb_vec is not None:\n",
        "      embedding_matrix[i] = model.wv[word]"
      ],
      "metadata": {
        "id": "dY76k1SGNOAG"
      },
      "execution_count": null,
      "outputs": []
    },
    {
      "cell_type": "code",
      "source": [
        "embedding_matrix"
      ],
      "metadata": {
        "colab": {
          "base_uri": "https://localhost:8080/"
        },
        "id": "OVKmkuYqH0U-",
        "outputId": "7eea76c7-ff39-4faa-b914-5308d3324c31"
      },
      "execution_count": null,
      "outputs": [
        {
          "output_type": "execute_result",
          "data": {
            "text/plain": [
              "array([[ 0.        ,  0.        ,  0.        , ...,  0.        ,\n",
              "         0.        ,  0.        ],\n",
              "       [ 0.03190911,  0.45688358,  0.24383567, ...,  0.09010225,\n",
              "        -0.50971204,  0.21650791],\n",
              "       [ 0.28343198, -0.17508526, -0.40999734, ...,  0.24138254,\n",
              "        -0.71242166, -0.20292173],\n",
              "       ...,\n",
              "       [ 0.38078037, -0.09765412, -0.29311511, ...,  0.00427466,\n",
              "        -0.25469127,  0.06284916],\n",
              "       [-0.07124084,  0.28717381, -0.15696162, ...,  0.06185972,\n",
              "        -0.20089291,  0.10556668],\n",
              "       [ 0.19020058,  0.19906639, -0.52316338, ...,  0.34764054,\n",
              "        -0.72100914,  0.33933437]])"
            ]
          },
          "metadata": {},
          "execution_count": 31
        }
      ]
    },
    {
      "cell_type": "code",
      "source": [
        "embedding_matrix[222]"
      ],
      "metadata": {
        "colab": {
          "base_uri": "https://localhost:8080/"
        },
        "id": "HwNGX9M5Hm9h",
        "outputId": "1e3f6e55-bf90-434c-8132-c23b455fddd7"
      },
      "execution_count": null,
      "outputs": [
        {
          "output_type": "execute_result",
          "data": {
            "text/plain": [
              "array([-0.26425126, -0.54768002,  0.08987191,  0.04164654, -0.24467778,\n",
              "        0.2261398 ,  0.21784243, -0.74992424, -0.19918837, -0.21836118,\n",
              "       -0.12372885, -0.06843939, -0.44310391, -0.31231648,  0.36486349,\n",
              "       -0.60003775,  0.25930223,  0.42936927, -0.09166611, -0.02790643,\n",
              "        0.53253978, -0.11670237,  0.17281272, -0.0379729 ,  0.13512854,\n",
              "       -0.06346019,  0.44370821, -0.85714912,  0.30169961,  0.10764456,\n",
              "       -0.6121552 ,  0.31844136,  0.20111686,  0.57242703, -0.19226432,\n",
              "       -0.13866067,  0.56400037, -0.06282919,  1.05028141, -0.30484378,\n",
              "        0.22870721, -0.73723835,  0.05040945,  0.47709149,  0.22426313,\n",
              "       -0.72201878,  0.63112295,  0.56885737,  0.15489538, -0.75401092,\n",
              "       -0.16611697,  0.22187334, -0.38094136,  0.35191652,  0.44354007,\n",
              "        0.36194131, -0.48350018, -0.37379712,  0.25063565, -0.38014773,\n",
              "        0.05549061,  0.37834251,  0.27368852,  0.18526764, -0.50038785,\n",
              "        0.07053997,  0.58305591, -0.31333229,  0.31105018,  0.33324069,\n",
              "       -0.8373211 ,  0.52460194,  0.20141864, -0.21891619,  0.13757516,\n",
              "       -0.21618152, -0.08058924,  0.06931384,  0.18537603, -0.56886894,\n",
              "        0.34833586, -0.28459156, -0.05481467, -0.70365101, -0.6066761 ,\n",
              "        0.996858  ,  0.09246182, -0.18006718, -0.2364576 , -0.10974751,\n",
              "       -0.82330614,  0.1819887 ,  0.40484479, -0.16595973, -0.14748538,\n",
              "        0.11905126, -0.2498444 ,  0.23336035, -0.0445324 ,  0.08114742])"
            ]
          },
          "metadata": {},
          "execution_count": 32
        }
      ]
    },
    {
      "cell_type": "code",
      "source": [
        "embedding_matrix.shape"
      ],
      "metadata": {
        "colab": {
          "base_uri": "https://localhost:8080/"
        },
        "id": "lMANpU6jhT6V",
        "outputId": "729c2176-f7ae-47cf-c5e8-ec2010734758"
      },
      "execution_count": null,
      "outputs": [
        {
          "output_type": "execute_result",
          "data": {
            "text/plain": [
              "(6263, 100)"
            ]
          },
          "metadata": {},
          "execution_count": 33
        }
      ]
    },
    {
      "cell_type": "markdown",
      "source": [
        "1 fold"
      ],
      "metadata": {
        "id": "_fIhaK0GduC9"
      }
    },
    {
      "cell_type": "markdown",
      "source": [
        "train test split"
      ],
      "metadata": {
        "id": "LZFL8-jhO0Vk"
      }
    },
    {
      "cell_type": "code",
      "source": [
        "print(np.shape(X))\n",
        "print(np.shape(y))"
      ],
      "metadata": {
        "colab": {
          "base_uri": "https://localhost:8080/"
        },
        "id": "6arVj2_eP5-F",
        "outputId": "223a30f9-7ac6-411f-e433-56d5966a14b2"
      },
      "execution_count": null,
      "outputs": [
        {
          "output_type": "stream",
          "name": "stdout",
          "text": [
            "(7516, 80)\n",
            "(7516, 7)\n"
          ]
        }
      ]
    },
    {
      "cell_type": "code",
      "metadata": {
        "id": "QuJf3YwPvji9"
      },
      "source": [
        "X_train, X_test, y_train, y_test = train_test_split(X, y, random_state=0, test_size=0.1)\n",
        "X2_train, X2_test, y2_train, y2_test = train_test_split(X, df.emosi, random_state=0, test_size=0.1)"
      ],
      "execution_count": null,
      "outputs": []
    },
    {
      "cell_type": "code",
      "source": [
        "print(np.shape(X_train))\n",
        "print(np.shape(X_test))\n",
        "print(np.shape(y_train))\n",
        "print(np.shape(y_test))"
      ],
      "metadata": {
        "colab": {
          "base_uri": "https://localhost:8080/"
        },
        "id": "TLoQpldJddLs",
        "outputId": "52413eed-ac40-45a3-9709-67daf66d907c"
      },
      "execution_count": null,
      "outputs": [
        {
          "output_type": "stream",
          "name": "stdout",
          "text": [
            "(6764, 80)\n",
            "(752, 80)\n",
            "(6764, 7)\n",
            "(752, 7)\n"
          ]
        }
      ]
    },
    {
      "cell_type": "code",
      "source": [
        "y_train.shape"
      ],
      "metadata": {
        "id": "jlPgFaE6iy83",
        "outputId": "f0f8efe7-a986-4867-9b2b-92fd2c6af2d7",
        "colab": {
          "base_uri": "https://localhost:8080/"
        }
      },
      "execution_count": null,
      "outputs": [
        {
          "output_type": "execute_result",
          "data": {
            "text/plain": [
              "(6764, 7)"
            ]
          },
          "metadata": {},
          "execution_count": 38
        }
      ]
    },
    {
      "cell_type": "code",
      "source": [
        "unique, counts = np.unique(df.emosi, return_counts=True)\n",
        "dict(zip(unique, counts))"
      ],
      "metadata": {
        "id": "JUTsLUdJvdTQ",
        "outputId": "43d674ce-2add-4b0c-c44c-df82a9ff369d",
        "colab": {
          "base_uri": "https://localhost:8080/"
        }
      },
      "execution_count": null,
      "outputs": [
        {
          "output_type": "execute_result",
          "data": {
            "text/plain": [
              "{'anger': 1079,\n",
              " 'disgust': 1066,\n",
              " 'fear': 1076,\n",
              " 'guilt': 1050,\n",
              " 'joy': 1092,\n",
              " 'sadness': 1082,\n",
              " 'shame': 1071}"
            ]
          },
          "metadata": {},
          "execution_count": 39
        }
      ]
    },
    {
      "cell_type": "markdown",
      "source": [
        "load package"
      ],
      "metadata": {
        "id": "-159-Yphd3HV"
      }
    },
    {
      "cell_type": "code",
      "source": [
        "from tensorflow.keras.models import Sequential\n",
        "from tensorflow.keras.layers import Embedding, Dense, LSTM, Dropout, Bidirectional, SpatialDropout1D\n",
        "import tensorflow as tf\n",
        "from keras.initializers import Constant"
      ],
      "metadata": {
        "id": "aRLjlwqMOVFP"
      },
      "execution_count": null,
      "outputs": []
    },
    {
      "cell_type": "markdown",
      "source": [
        "buat arsitektur lstm"
      ],
      "metadata": {
        "id": "bTSW7c2ZILHF"
      }
    },
    {
      "cell_type": "code",
      "metadata": {
        "colab": {
          "base_uri": "https://localhost:8080/"
        },
        "id": "BV2d3Q0Oxmgo",
        "outputId": "a9949f24-a7df-491d-ac69-ce216ca89144"
      },
      "source": [
        "# Creating model\n",
        "model = Sequential()\n",
        "\n",
        "# model.add(Embedding(num_words, 100, embeddings_initializer=Constant(embedding_matrix), input_length=max_features, trainable=False,))\n",
        "# model.add(LSTM(100, dropout=0.1))\n",
        "# model.add(Dense(7, activation=\"softmax\"))\n",
        "\n",
        "model.add(Embedding(num_words, 100, embeddings_initializer=Constant(embedding_matrix), input_length=max_features, trainable=False))\n",
        "model.add(Bidirectional(LSTM(100)))\n",
        "# model.add(LSTM(100))\n",
        "model.add(Dropout(0.3))\n",
        "model.add(Dense(70, activation='relu'))\n",
        "model.add(Dropout(0.3))\n",
        "model.add(Dense(7, activation='softmax'))\n",
        "\n",
        "model.compile(loss='sparse_categorical_crossentropy',optimizer= tf.keras.optimizers.Adam(learning_rate=0.001), metrics=['accuracy'])\n",
        "# categorical_crossentropy\n",
        "model.summary()"
      ],
      "execution_count": null,
      "outputs": [
        {
          "output_type": "stream",
          "name": "stdout",
          "text": [
            "Model: \"sequential\"\n",
            "_________________________________________________________________\n",
            " Layer (type)                Output Shape              Param #   \n",
            "=================================================================\n",
            " embedding (Embedding)       (None, 80, 100)           626300    \n",
            "                                                                 \n",
            " bidirectional (Bidirectiona  (None, 200)              160800    \n",
            " l)                                                              \n",
            "                                                                 \n",
            " dropout (Dropout)           (None, 200)               0         \n",
            "                                                                 \n",
            " dense (Dense)               (None, 70)                14070     \n",
            "                                                                 \n",
            " dropout_1 (Dropout)         (None, 70)                0         \n",
            "                                                                 \n",
            " dense_1 (Dense)             (None, 7)                 497       \n",
            "                                                                 \n",
            "=================================================================\n",
            "Total params: 801,667\n",
            "Trainable params: 175,367\n",
            "Non-trainable params: 626,300\n",
            "_________________________________________________________________\n"
          ]
        }
      ]
    },
    {
      "cell_type": "code",
      "metadata": {
        "id": "X3MnC_IB6Dra"
      },
      "source": [
        "from keras import callbacks\n",
        "\n",
        "earlystopping = callbacks.EarlyStopping(monitor =\"val_loss\", \n",
        "                                        mode =\"min\", patience = 5, \n",
        "                                        restore_best_weights = True)"
      ],
      "execution_count": null,
      "outputs": []
    },
    {
      "cell_type": "code",
      "source": [
        "# history = model.fit(X_train, y_train, epochs=30, \n",
        "#                     validation_data=(X_test, y_test), \n",
        "#                     callbacks=[earlystopping], verbose=1)\n",
        "\n",
        "history = model.fit(X_train, y_train, epochs=100, validation_data=(X_test, y_test), callbacks=[earlystopping], verbose=1)"
      ],
      "metadata": {
        "id": "g4gncq5lwx65",
        "colab": {
          "base_uri": "https://localhost:8080/"
        },
        "outputId": "0c0ba659-b2c8-4e4a-f7a8-0b7e79945e88"
      },
      "execution_count": null,
      "outputs": [
        {
          "output_type": "stream",
          "name": "stdout",
          "text": [
            "Epoch 1/100\n",
            "212/212 [==============================] - 27s 110ms/step - loss: 1.7004 - accuracy: 0.3423 - val_loss: 1.4670 - val_accuracy: 0.4521\n",
            "Epoch 2/100\n",
            "212/212 [==============================] - 23s 107ms/step - loss: 1.4478 - accuracy: 0.4551 - val_loss: 1.3810 - val_accuracy: 0.4840\n",
            "Epoch 3/100\n",
            "212/212 [==============================] - 22s 103ms/step - loss: 1.3301 - accuracy: 0.5117 - val_loss: 1.3416 - val_accuracy: 0.5133\n",
            "Epoch 4/100\n",
            "212/212 [==============================] - 22s 105ms/step - loss: 1.2599 - accuracy: 0.5433 - val_loss: 1.2595 - val_accuracy: 0.5279\n",
            "Epoch 5/100\n",
            "212/212 [==============================] - 23s 110ms/step - loss: 1.2009 - accuracy: 0.5648 - val_loss: 1.2496 - val_accuracy: 0.5306\n",
            "Epoch 6/100\n",
            "212/212 [==============================] - 22s 105ms/step - loss: 1.1494 - accuracy: 0.5918 - val_loss: 1.2737 - val_accuracy: 0.5372\n",
            "Epoch 7/100\n",
            "212/212 [==============================] - 23s 107ms/step - loss: 1.1209 - accuracy: 0.5991 - val_loss: 1.2055 - val_accuracy: 0.5519\n",
            "Epoch 8/100\n",
            "212/212 [==============================] - 23s 106ms/step - loss: 1.0864 - accuracy: 0.6090 - val_loss: 1.1771 - val_accuracy: 0.5678\n",
            "Epoch 9/100\n",
            "212/212 [==============================] - 27s 128ms/step - loss: 1.0527 - accuracy: 0.6223 - val_loss: 1.2561 - val_accuracy: 0.5545\n",
            "Epoch 10/100\n",
            "212/212 [==============================] - 26s 123ms/step - loss: 1.0249 - accuracy: 0.6356 - val_loss: 1.1843 - val_accuracy: 0.5665\n",
            "Epoch 11/100\n",
            "212/212 [==============================] - 23s 108ms/step - loss: 1.0051 - accuracy: 0.6413 - val_loss: 1.2152 - val_accuracy: 0.5399\n",
            "Epoch 12/100\n",
            "212/212 [==============================] - 23s 108ms/step - loss: 0.9883 - accuracy: 0.6526 - val_loss: 1.1495 - val_accuracy: 0.5731\n",
            "Epoch 13/100\n",
            "212/212 [==============================] - 23s 111ms/step - loss: 0.9589 - accuracy: 0.6569 - val_loss: 1.1646 - val_accuracy: 0.5532\n",
            "Epoch 14/100\n",
            "212/212 [==============================] - 24s 111ms/step - loss: 0.9235 - accuracy: 0.6682 - val_loss: 1.1541 - val_accuracy: 0.5745\n",
            "Epoch 15/100\n",
            "212/212 [==============================] - 23s 109ms/step - loss: 0.9139 - accuracy: 0.6746 - val_loss: 1.1544 - val_accuracy: 0.5718\n",
            "Epoch 16/100\n",
            "212/212 [==============================] - 23s 109ms/step - loss: 0.8686 - accuracy: 0.6879 - val_loss: 1.1536 - val_accuracy: 0.5851\n",
            "Epoch 17/100\n",
            "212/212 [==============================] - 23s 108ms/step - loss: 0.8577 - accuracy: 0.6950 - val_loss: 1.2205 - val_accuracy: 0.5598\n"
          ]
        }
      ]
    },
    {
      "cell_type": "code",
      "source": [
        "predict_x=model.predict(X_test)\n",
        "y_temp=np.argmax(predict_x,axis=1)\n",
        "\n",
        "y_pred_num=[]\n",
        "y_pred_num.extend(y_temp)"
      ],
      "metadata": {
        "id": "JajzzTv-yBM4"
      },
      "execution_count": null,
      "outputs": []
    },
    {
      "cell_type": "code",
      "source": [
        "unique, counts = np.unique(y_temp, return_counts=True)\n",
        "dict(zip(unique, counts))"
      ],
      "metadata": {
        "id": "bkb36k422G_c",
        "colab": {
          "base_uri": "https://localhost:8080/"
        },
        "outputId": "5abe38c9-5d93-4eed-8bcf-d7cffe72c765"
      },
      "execution_count": null,
      "outputs": [
        {
          "output_type": "execute_result",
          "data": {
            "text/plain": [
              "{0: 125, 1: 114, 2: 99, 3: 85, 4: 112, 5: 120, 6: 97}"
            ]
          },
          "metadata": {},
          "execution_count": 56
        }
      ]
    },
    {
      "cell_type": "code",
      "source": [
        "np.sum(counts)"
      ],
      "metadata": {
        "id": "0n52c0JN4veS",
        "colab": {
          "base_uri": "https://localhost:8080/"
        },
        "outputId": "cafe404f-c37c-4eaa-9267-e1dd0bfbc25c"
      },
      "execution_count": null,
      "outputs": [
        {
          "output_type": "execute_result",
          "data": {
            "text/plain": [
              "752"
            ]
          },
          "metadata": {},
          "execution_count": 48
        }
      ]
    },
    {
      "cell_type": "markdown",
      "source": [
        "10 fold"
      ],
      "metadata": {
        "id": "HpSixKGmdn8T"
      }
    },
    {
      "cell_type": "code",
      "source": [
        "print(np.shape(X))\n",
        "print(np.shape(y))"
      ],
      "metadata": {
        "id": "H8w0BKsmdg-F"
      },
      "execution_count": null,
      "outputs": []
    },
    {
      "cell_type": "code",
      "source": [
        "from sklearn.model_selection import KFold\n",
        "\n",
        "kf = KFold(n_splits=10)\n",
        "\n",
        "y_pred_num=[]\n",
        "\n",
        "for train_index, test_index in kf.split(X,y):\n",
        "\n",
        "  model = Sequential()\n",
        "\n",
        "  # model.add(Embedding(num_words, 100, embeddings_initializer=Constant(embedding_matrix), input_length=max_features, trainable=False,))\n",
        "  # model.add(Dropout(0.3))\n",
        "  model.add(Bidirectional(LSTM(200, input_shape=(180,100))))\n",
        "  model.add(Dropout(0.3))\n",
        "  model.add(Dense(82, activation='relu'))\n",
        "  model.add(Dropout(0.3))\n",
        "  model.add(Dense(64, activation='relu'))\n",
        "  model.add(Dropout(0.3))\n",
        "  model.add(Dense(7, activation='softmax'))\n",
        "\n",
        "  model.compile(loss='categorical_crossentropy',optimizer= tf.keras.optimizers.Adam(), metrics=['accuracy'])\n",
        "\n",
        "  history = model.fit(X[train_index], y[train_index], epochs=20,verbose=1)\n",
        "\n",
        "  predict_x=model.predict(X[test_index])\n",
        "  y_temp=np.argmax(predict_x,axis=1)\n",
        "\n",
        "  y_pred_num.extend(y_temp)"
      ],
      "metadata": {
        "id": "bCJuFXFYQQep",
        "colab": {
          "base_uri": "https://localhost:8080/",
          "height": 246
        },
        "outputId": "22f1d122-166e-499f-fe93-60f936bf2f58"
      },
      "execution_count": null,
      "outputs": [
        {
          "output_type": "error",
          "ename": "TypeError",
          "evalue": "ignored",
          "traceback": [
            "\u001b[0;31m---------------------------------------------------------------------------\u001b[0m",
            "\u001b[0;31mTypeError\u001b[0m                                 Traceback (most recent call last)",
            "\u001b[0;32m<ipython-input-46-3a4cd7c68ac4>\u001b[0m in \u001b[0;36m<module>\u001b[0;34m()\u001b[0m\n\u001b[1;32m     21\u001b[0m   \u001b[0mmodel\u001b[0m\u001b[0;34m.\u001b[0m\u001b[0mcompile\u001b[0m\u001b[0;34m(\u001b[0m\u001b[0mloss\u001b[0m\u001b[0;34m=\u001b[0m\u001b[0;34m'categorical_crossentropy'\u001b[0m\u001b[0;34m,\u001b[0m\u001b[0moptimizer\u001b[0m\u001b[0;34m=\u001b[0m \u001b[0mtf\u001b[0m\u001b[0;34m.\u001b[0m\u001b[0mkeras\u001b[0m\u001b[0;34m.\u001b[0m\u001b[0moptimizers\u001b[0m\u001b[0;34m.\u001b[0m\u001b[0mAdam\u001b[0m\u001b[0;34m(\u001b[0m\u001b[0;34m)\u001b[0m\u001b[0;34m,\u001b[0m \u001b[0mmetrics\u001b[0m\u001b[0;34m=\u001b[0m\u001b[0;34m[\u001b[0m\u001b[0;34m'accuracy'\u001b[0m\u001b[0;34m]\u001b[0m\u001b[0;34m)\u001b[0m\u001b[0;34m\u001b[0m\u001b[0;34m\u001b[0m\u001b[0m\n\u001b[1;32m     22\u001b[0m \u001b[0;34m\u001b[0m\u001b[0m\n\u001b[0;32m---> 23\u001b[0;31m   \u001b[0mhistory\u001b[0m \u001b[0;34m=\u001b[0m \u001b[0mmodel\u001b[0m\u001b[0;34m.\u001b[0m\u001b[0mfit\u001b[0m\u001b[0;34m(\u001b[0m\u001b[0mX\u001b[0m\u001b[0;34m[\u001b[0m\u001b[0mtrain_index\u001b[0m\u001b[0;34m]\u001b[0m\u001b[0;34m,\u001b[0m \u001b[0my\u001b[0m\u001b[0;34m[\u001b[0m\u001b[0mtrain_index\u001b[0m\u001b[0;34m]\u001b[0m\u001b[0;34m,\u001b[0m \u001b[0mepochs\u001b[0m\u001b[0;34m=\u001b[0m\u001b[0;36m20\u001b[0m\u001b[0;34m,\u001b[0m\u001b[0mverbose\u001b[0m\u001b[0;34m=\u001b[0m\u001b[0;36m1\u001b[0m\u001b[0;34m)\u001b[0m\u001b[0;34m\u001b[0m\u001b[0;34m\u001b[0m\u001b[0m\n\u001b[0m\u001b[1;32m     24\u001b[0m \u001b[0;34m\u001b[0m\u001b[0m\n\u001b[1;32m     25\u001b[0m   \u001b[0mpredict_x\u001b[0m\u001b[0;34m=\u001b[0m\u001b[0mmodel\u001b[0m\u001b[0;34m.\u001b[0m\u001b[0mpredict\u001b[0m\u001b[0;34m(\u001b[0m\u001b[0mX\u001b[0m\u001b[0;34m[\u001b[0m\u001b[0mtest_index\u001b[0m\u001b[0;34m]\u001b[0m\u001b[0;34m)\u001b[0m\u001b[0;34m\u001b[0m\u001b[0;34m\u001b[0m\u001b[0m\n",
            "\u001b[0;31mTypeError\u001b[0m: only integer scalar arrays can be converted to a scalar index"
          ]
        }
      ]
    },
    {
      "cell_type": "code",
      "source": [
        "np.shape(y_pred_num)"
      ],
      "metadata": {
        "colab": {
          "base_uri": "https://localhost:8080/"
        },
        "id": "n2nSWwPR7gO1",
        "outputId": "2ba5a093-8da7-45ab-d726-4104ca52380b"
      },
      "execution_count": null,
      "outputs": [
        {
          "output_type": "execute_result",
          "data": {
            "text/plain": [
              "(7516,)"
            ]
          },
          "metadata": {},
          "execution_count": 32
        }
      ]
    },
    {
      "cell_type": "code",
      "source": [
        "y_pred=[]\n",
        "\n",
        "for num in y_pred_num:\n",
        "  if num == 0:\n",
        "    y_pred.append('anger')\n",
        "  elif num == 1:\n",
        "    y_pred.append('disgust')\n",
        "  elif num == 2:\n",
        "    y_pred.append('fear')\n",
        "  elif num == 3:\n",
        "    y_pred.append('guilt')\n",
        "  elif num == 4:\n",
        "    y_pred.append('joy')\n",
        "  elif num == 5:\n",
        "    y_pred.append('sadness')\n",
        "  elif num == 6:\n",
        "    y_pred.append('shame')"
      ],
      "metadata": {
        "id": "1jBzuxyC8cgm"
      },
      "execution_count": null,
      "outputs": []
    },
    {
      "cell_type": "code",
      "source": [
        "np.shape(y)"
      ],
      "metadata": {
        "colab": {
          "base_uri": "https://localhost:8080/"
        },
        "id": "-PEu_0Jx-gtA",
        "outputId": "f7e7f6e7-19bf-4806-f0c3-227dedf4d4d1"
      },
      "execution_count": null,
      "outputs": [
        {
          "output_type": "execute_result",
          "data": {
            "text/plain": [
              "(7516, 7)"
            ]
          },
          "metadata": {},
          "execution_count": 43
        }
      ]
    },
    {
      "cell_type": "code",
      "source": [
        "np.shape(y_pred)"
      ],
      "metadata": {
        "colab": {
          "base_uri": "https://localhost:8080/"
        },
        "id": "hMy7j2__-CAd",
        "outputId": "66a86a51-91e6-4197-dfb3-b596218239e9"
      },
      "execution_count": null,
      "outputs": [
        {
          "output_type": "execute_result",
          "data": {
            "text/plain": [
              "(7516,)"
            ]
          },
          "metadata": {},
          "execution_count": 44
        }
      ]
    },
    {
      "cell_type": "code",
      "source": [
        "from sklearn.metrics import confusion_matrix\n",
        "from sklearn.metrics import accuracy_score\n",
        "from sklearn.model_selection import cross_val_predict\n",
        "import matplotlib.pyplot as plt\n",
        "from sklearn.metrics import ConfusionMatrixDisplay\n",
        "from sklearn.metrics import precision_recall_fscore_support\n",
        "from sklearn.model_selection import cross_val_score"
      ],
      "metadata": {
        "id": "ZcUoC7J-9xC5"
      },
      "execution_count": null,
      "outputs": []
    },
    {
      "cell_type": "code",
      "source": [
        "ConfusionMatrixDisplay.from_predictions(df.emosi, y_pred)\n",
        "plt.show()\n",
        "print(accuracy_score(df.emosi, y_pred))\n",
        "print(precision_recall_fscore_support(df.emosi, y_pred, average='macro'))"
      ],
      "metadata": {
        "colab": {
          "base_uri": "https://localhost:8080/",
          "height": 316
        },
        "id": "wCPvnxgd86kb",
        "outputId": "21691c03-9199-40c0-c9df-b85c2b24ce82"
      },
      "execution_count": null,
      "outputs": [
        {
          "output_type": "display_data",
          "data": {
            "image/png": "[encoded data removed]",
            "text/plain": [
              "<Figure size 432x288 with 2 Axes>"
            ]
          },
          "metadata": {
            "needs_background": "light"
          }
        },
        {
          "output_type": "stream",
          "name": "stdout",
          "text": [
            "0.591138903672166\n",
            "(0.5899739183213537, 0.5902391489142544, 0.5868668315357489, None)\n"
          ]
        }
      ]
    },
    {
      "cell_type": "code",
      "source": [],
      "metadata": {
        "id": "1RTHek7p86fG"
      },
      "execution_count": null,
      "outputs": []
    },
    {
      "cell_type": "code",
      "source": [],
      "metadata": {
        "id": "mpHJy9KA86bM"
      },
      "execution_count": null,
      "outputs": []
    },
    {
      "cell_type": "code",
      "metadata": {
        "colab": {
          "base_uri": "https://localhost:8080/",
          "height": 295
        },
        "id": "S2NyEkGw6eAF",
        "outputId": "e255eccf-cb41-419b-fe04-da4c165a95ee"
      },
      "source": [
        "import matplotlib.pyplot as plt\n",
        "%matplotlib inline\n",
        "\n",
        "plt.figure()\n",
        "plt.plot(history.history[\"accuracy\"], label = \"Train\")\n",
        "plt.plot(history.history[\"val_accuracy\"], label = \"Test\")\n",
        "plt.title(\"Accuracy\")\n",
        "plt.ylabel(\"Acc\")\n",
        "plt.xlabel(\"epochs\")\n",
        "plt.legend()\n",
        "plt.show()"
      ],
      "execution_count": null,
      "outputs": [
        {
          "output_type": "display_data",
          "data": {
            "image/png": "[encoded data removed]",
            "text/plain": [
              "<Figure size 432x288 with 1 Axes>"
            ]
          },
          "metadata": {
            "needs_background": "light"
          }
        }
      ]
    },
    {
      "cell_type": "code",
      "metadata": {
        "colab": {
          "base_uri": "https://localhost:8080/",
          "height": 295
        },
        "id": "1vLsQnhG6lCm",
        "outputId": "91db89c4-421c-456e-b11e-df0ea40b77c3"
      },
      "source": [
        "plt.figure()\n",
        "plt.plot(history.history[\"loss\"], label = \"Train\")\n",
        "plt.plot(history.history[\"val_loss\"], label = \"Test\")\n",
        "plt.title(\"Loss\")\n",
        "plt.ylabel(\"Acc\")\n",
        "plt.xlabel(\"epochs\")\n",
        "plt.legend()\n",
        "plt.show()"
      ],
      "execution_count": null,
      "outputs": [
        {
          "output_type": "display_data",
          "data": {
            "image/png": "[encoded data removed]",
            "text/plain": [
              "<Figure size 432x288 with 1 Axes>"
            ]
          },
          "metadata": {
            "needs_background": "light"
          }
        }
      ]
    },
    {
      "cell_type": "code",
      "metadata": {
        "colab": {
          "base_uri": "https://localhost:8080/"
        },
        "id": "uFnCmfGUvnzh",
        "outputId": "e0ff72c5-59a8-4165-dcaf-19583deaecc9"
      },
      "source": [
        "model.evaluate(X_test, y_test)"
      ],
      "execution_count": null,
      "outputs": [
        {
          "output_type": "stream",
          "name": "stdout",
          "text": [
            "47/47 [==============================] - 1s 11ms/step - loss: 1.0708 - accuracy: 0.6257\n"
          ]
        },
        {
          "output_type": "execute_result",
          "data": {
            "text/plain": [
              "[1.0707762241363525, 0.6256648898124695]"
            ]
          },
          "metadata": {},
          "execution_count": 39
        }
      ]
    },
    {
      "cell_type": "code",
      "metadata": {
        "id": "1gF77SRNvzQY"
      },
      "source": [],
      "execution_count": null,
      "outputs": []
    }
  ]
}